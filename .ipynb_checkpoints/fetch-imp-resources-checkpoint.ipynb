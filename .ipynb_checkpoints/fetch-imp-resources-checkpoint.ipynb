{
 "cells": [
  {
   "cell_type": "markdown",
   "metadata": {},
   "source": [
    "# Search OCI & Build Infrastructure Graph"
   ]
  },
  {
   "cell_type": "markdown",
   "metadata": {},
   "source": [
    "## Import all necessary Libraries\n",
    "* **OCI** - Python Library that converts Python Commands into OCI API Requests\n",
    "* **JSON** - For JSON to Python Dictionary Conversion , File read , and File write\n",
    "* **PPRINT** - Module for pretty printing all text while debugging\n",
    "* **DATETIME** - Used to Convert String Datetime Inputs from OCI API into datetime objects for carrying out datetime arithmetic"
   ]
  },
  {
   "cell_type": "code",
   "execution_count": 1,
   "metadata": {},
   "outputs": [
    {
     "data": {
      "application/javascript": [
       "\n",
       "            setTimeout(function() {\n",
       "                var nbb_cell_id = 1;\n",
       "                var nbb_unformatted_code = \"import oci\\nimport json\\nimport pprint\\nimport pandas as pd\\nimport datetime\\nfrom operator import itemgetter, add\\nimport asyncio\\nimport time\\nimport logging\\nimport concurrent.futures as cf\\nimport glob\\nimport networkx as nx\\nfrom networkx.drawing.nx_agraph import graphviz_layout\\nimport matplotlib.pyplot as plt\\nfrom flatten_dict import flatten\\nimport numpy as np\\n\\n%load_ext nb_black\\nfrom IPython.display import display, Javascript, HTML\";\n",
       "                var nbb_formatted_code = \"import oci\\nimport json\\nimport pprint\\nimport pandas as pd\\nimport datetime\\nfrom operator import itemgetter, add\\nimport asyncio\\nimport time\\nimport logging\\nimport concurrent.futures as cf\\nimport glob\\nimport networkx as nx\\nfrom networkx.drawing.nx_agraph import graphviz_layout\\nimport matplotlib.pyplot as plt\\nfrom flatten_dict import flatten\\nimport numpy as np\\n\\n%load_ext nb_black\\nfrom IPython.display import display, Javascript, HTML\";\n",
       "                var nbb_cells = Jupyter.notebook.get_cells();\n",
       "                for (var i = 0; i < nbb_cells.length; ++i) {\n",
       "                    if (nbb_cells[i].input_prompt_number == nbb_cell_id) {\n",
       "                        if (nbb_cells[i].get_text() == nbb_unformatted_code) {\n",
       "                             nbb_cells[i].set_text(nbb_formatted_code);\n",
       "                        }\n",
       "                        break;\n",
       "                    }\n",
       "                }\n",
       "            }, 500);\n",
       "            "
      ],
      "text/plain": [
       "<IPython.core.display.Javascript object>"
      ]
     },
     "metadata": {},
     "output_type": "display_data"
    }
   ],
   "source": [
    "import oci\n",
    "import json\n",
    "import pprint\n",
    "import pandas as pd\n",
    "import datetime\n",
    "from operator import itemgetter, add\n",
    "import asyncio\n",
    "import time\n",
    "import logging\n",
    "import concurrent.futures as cf\n",
    "import glob\n",
    "import networkx as nx\n",
    "from networkx.drawing.nx_agraph import graphviz_layout\n",
    "import matplotlib.pyplot as plt\n",
    "from flatten_dict import flatten\n",
    "import numpy as np\n",
    "import re\n",
    "\n",
    "%load_ext nb_black\n",
    "from IPython.display import display, Javascript, HTML"
   ]
  },
  {
   "cell_type": "markdown",
   "metadata": {},
   "source": [
    "## Helper Functions\n",
    "* Some of the helper functions written to make the code cleaner"
   ]
  },
  {
   "cell_type": "code",
   "execution_count": 2,
   "metadata": {},
   "outputs": [
    {
     "data": {
      "application/javascript": [
       "\n",
       "            setTimeout(function() {\n",
       "                var nbb_cell_id = 2;\n",
       "                var nbb_unformatted_code = \"from helpers import list_region_subscriptions\\nfrom helpers import fetch_compartment_heirarchy\\nfrom helpers import search_region_and_populate\\nfrom oci_clients import clients_init\";\n",
       "                var nbb_formatted_code = \"from helpers import list_region_subscriptions\\nfrom helpers import fetch_compartment_heirarchy\\nfrom helpers import search_region_and_populate\\nfrom oci_clients import clients_init\";\n",
       "                var nbb_cells = Jupyter.notebook.get_cells();\n",
       "                for (var i = 0; i < nbb_cells.length; ++i) {\n",
       "                    if (nbb_cells[i].input_prompt_number == nbb_cell_id) {\n",
       "                        if (nbb_cells[i].get_text() == nbb_unformatted_code) {\n",
       "                             nbb_cells[i].set_text(nbb_formatted_code);\n",
       "                        }\n",
       "                        break;\n",
       "                    }\n",
       "                }\n",
       "            }, 500);\n",
       "            "
      ],
      "text/plain": [
       "<IPython.core.display.Javascript object>"
      ]
     },
     "metadata": {},
     "output_type": "display_data"
    }
   ],
   "source": [
    "from helpers import list_region_subscriptions\n",
    "from helpers import fetch_compartment_heirarchy\n",
    "from helpers import search_region_and_populate\n",
    "from oci_clients import clients_init"
   ]
  },
  {
   "cell_type": "markdown",
   "metadata": {},
   "source": [
    "## Define Resource List to Query\n",
    "* Initialize Clients that will be leveraged\n",
    "* Conditional variables - Interested in qeurying for active resources\n",
    "* Using || Symbol to make sure we fetch resources either in Active, Running or Available State\n",
    "\n",
    "## Supported Resources in Search\n",
    "* [List of Supported Resources](https://docs.cloud.oracle.com/en-us/iaas/Content/Search/Concepts/queryoverview.htm#resourcetypes)"
   ]
  },
  {
   "cell_type": "code",
   "execution_count": 3,
   "metadata": {},
   "outputs": [
    {
     "data": {
      "application/javascript": [
       "\n",
       "            setTimeout(function() {\n",
       "                var nbb_cell_id = 3;\n",
       "                var nbb_unformatted_code = \"resourcetype_list = [\\n    \\\"instance\\\",\\n    \\\"image\\\",\\n    \\\"dbsystem\\\",\\n    \\\"vmcluster\\\",\\n    \\\"odainstance\\\",\\n    \\\"bootvolume\\\",\\n    \\\"bootvolumebackup\\\",\\n    \\\"volumebackup\\\",\\n    \\\"volumebackuppolicy\\\",\\n    \\\"volume\\\",\\n    \\\"datascienceproject\\\",\\n    \\\"datasciencemodel\\\",\\n    \\\"datasciencenotebooksession\\\",\\n    \\\"datacatalog\\\",\\n    \\\"analyticsinstance\\\",\\n    \\\"autonomousdatabase\\\",\\n    \\\"integrationinstance\\\",\\n    \\\"vcn\\\",\\n    \\\"subnet\\\",\\n    \\\"vnic\\\",\\n    \\\"securitylist\\\",\\n    \\\"routetable\\\",\\n    \\\"natgateway\\\",\\n    \\\"servicegateway\\\",\\n    \\\"onstopic\\\",\\n    \\\"onssubscription\\\",\\n    \\\"stream\\\",\\n    \\\"connectharness\\\",\\n    \\\"bucket\\\",\\n    \\\"vault\\\",\\n    \\\"filesystem\\\",\\n    \\\"apigateway\\\",\\n    \\\"apideployment\\\",\\n    \\\"compartment\\\",\\n    \\\"group\\\",\\n    \\\"identityprovider\\\",\\n    \\\"idpgroupmapping\\\",\\n    \\\"policy\\\",\\n    \\\"tagdefault\\\",\\n    \\\"tagnamespace\\\",\\n    \\\"user\\\",\\n]\\ncondition_list = [\\n    \\\"lifecycleState = 'RUNNING'\\\",\\n    \\\"lifecycleState = 'AVAILABLE'\\\",\\n    \\\"lifecycleState = 'ACTIVE'\\\",\\n]\\nresourceString = (\\\", \\\").join(resourcetype_list)\\nconditionString = (\\\" || \\\").join(condition_list)\";\n",
       "                var nbb_formatted_code = \"resourcetype_list = [\\n    \\\"instance\\\",\\n    \\\"image\\\",\\n    \\\"dbsystem\\\",\\n    \\\"vmcluster\\\",\\n    \\\"odainstance\\\",\\n    \\\"bootvolume\\\",\\n    \\\"bootvolumebackup\\\",\\n    \\\"volumebackup\\\",\\n    \\\"volumebackuppolicy\\\",\\n    \\\"volume\\\",\\n    \\\"datascienceproject\\\",\\n    \\\"datasciencemodel\\\",\\n    \\\"datasciencenotebooksession\\\",\\n    \\\"datacatalog\\\",\\n    \\\"analyticsinstance\\\",\\n    \\\"autonomousdatabase\\\",\\n    \\\"integrationinstance\\\",\\n    \\\"vcn\\\",\\n    \\\"subnet\\\",\\n    \\\"vnic\\\",\\n    \\\"securitylist\\\",\\n    \\\"routetable\\\",\\n    \\\"natgateway\\\",\\n    \\\"servicegateway\\\",\\n    \\\"onstopic\\\",\\n    \\\"onssubscription\\\",\\n    \\\"stream\\\",\\n    \\\"connectharness\\\",\\n    \\\"bucket\\\",\\n    \\\"vault\\\",\\n    \\\"filesystem\\\",\\n    \\\"apigateway\\\",\\n    \\\"apideployment\\\",\\n    \\\"compartment\\\",\\n    \\\"group\\\",\\n    \\\"identityprovider\\\",\\n    \\\"idpgroupmapping\\\",\\n    \\\"policy\\\",\\n    \\\"tagdefault\\\",\\n    \\\"tagnamespace\\\",\\n    \\\"user\\\",\\n]\\ncondition_list = [\\n    \\\"lifecycleState = 'RUNNING'\\\",\\n    \\\"lifecycleState = 'AVAILABLE'\\\",\\n    \\\"lifecycleState = 'ACTIVE'\\\",\\n]\\nresourceString = (\\\", \\\").join(resourcetype_list)\\nconditionString = (\\\" || \\\").join(condition_list)\";\n",
       "                var nbb_cells = Jupyter.notebook.get_cells();\n",
       "                for (var i = 0; i < nbb_cells.length; ++i) {\n",
       "                    if (nbb_cells[i].input_prompt_number == nbb_cell_id) {\n",
       "                        if (nbb_cells[i].get_text() == nbb_unformatted_code) {\n",
       "                             nbb_cells[i].set_text(nbb_formatted_code);\n",
       "                        }\n",
       "                        break;\n",
       "                    }\n",
       "                }\n",
       "            }, 500);\n",
       "            "
      ],
      "text/plain": [
       "<IPython.core.display.Javascript object>"
      ]
     },
     "metadata": {},
     "output_type": "display_data"
    }
   ],
   "source": [
    "resourcetype_list = [\n",
    "    \"instance\",\n",
    "    \"image\",\n",
    "    \"dbsystem\",\n",
    "    \"vmcluster\",\n",
    "    \"odainstance\",\n",
    "    \"bootvolume\",\n",
    "    \"bootvolumebackup\",\n",
    "    \"volumebackup\",\n",
    "    \"volumebackuppolicy\",\n",
    "    \"volume\",\n",
    "    \"datascienceproject\",\n",
    "    \"datasciencemodel\",\n",
    "    \"datasciencenotebooksession\",\n",
    "    \"datacatalog\",\n",
    "    \"analyticsinstance\",\n",
    "    \"autonomousdatabase\",\n",
    "    \"integrationinstance\",\n",
    "    \"vcn\",\n",
    "    \"subnet\",\n",
    "    \"vnic\",\n",
    "    \"securitylist\",\n",
    "    \"routetable\",\n",
    "    \"natgateway\",\n",
    "    \"servicegateway\",\n",
    "    \"onstopic\",\n",
    "    \"onssubscription\",\n",
    "    \"stream\",\n",
    "    \"connectharness\",\n",
    "    \"bucket\",\n",
    "    \"vault\",\n",
    "    \"filesystem\",\n",
    "    \"apigateway\",\n",
    "    \"apideployment\",\n",
    "    \"compartment\",\n",
    "    \"group\",\n",
    "    \"identityprovider\",\n",
    "    \"idpgroupmapping\",\n",
    "    \"policy\",\n",
    "    \"tagdefault\",\n",
    "    \"tagnamespace\",\n",
    "    \"user\",\n",
    "]\n",
    "condition_list = [\n",
    "    \"lifecycleState = 'RUNNING'\",\n",
    "    \"lifecycleState = 'AVAILABLE'\",\n",
    "    \"lifecycleState = 'ACTIVE'\",\n",
    "]\n",
    "resourceString = (\", \").join(resourcetype_list)\n",
    "conditionString = (\" || \").join(condition_list)"
   ]
  },
  {
   "cell_type": "markdown",
   "metadata": {},
   "source": [
    "## Supported Clients & Resources\n",
    "- Search provides the list of OCIDs based on the query string \n",
    "- Use the OCIDs to drill down into the resources further to understand your tenancy better\n",
    " - **Identity Client** - To understand how many regions ( Data Center Geographies, the tenancy is subscribed to )\n",
    " - **Search Client** - To fetch all resources that satisfy query conditions\n",
    " - **Compute Client** - To Drill down into compute resources for Compute/VM/Bare metal server specific Information\n",
    " - **Database Client** -  To Drill down into database resources for Database Specific Information \n",
    " - **Analytics Client** - To Drill down into analytics resources for Analytics Instance Specific Information\n",
    " - **VCN Client** - To Drill down information of VCN, Subnets, LPGs, DRGs, Load Balancers etc. \n",
    " - **Notifications Client** - To Drill down on Information on Notification Topics, Subscriptions etc. \n",
    " - **API-GW Client** - To Drill down on API Gateway & API Deployments.\n",
    " - **Block Storage Client** - To Drill down on Block Volumes and Boot Volumes.\n",
    " - **Object Storage Client** - To Drill down on Object Storage Solution.\n",
    " - **Streams Client** - To Drill down on Streams, kafka Connect harness etc. "
   ]
  },
  {
   "cell_type": "markdown",
   "metadata": {},
   "source": [
    "## Setup the OCI Config\n",
    "* Read the OCI Config from the default Path / provide the path where the config file is available"
   ]
  },
  {
   "cell_type": "code",
   "execution_count": 4,
   "metadata": {
    "scrolled": true
   },
   "outputs": [
    {
     "data": {
      "application/javascript": [
       "\n",
       "            setTimeout(function() {\n",
       "                var nbb_cell_id = 4;\n",
       "                var nbb_unformatted_code = \"config = oci.config.from_file()\\ntenancy_id = config[\\\"tenancy\\\"]\";\n",
       "                var nbb_formatted_code = \"config = oci.config.from_file()\\ntenancy_id = config[\\\"tenancy\\\"]\";\n",
       "                var nbb_cells = Jupyter.notebook.get_cells();\n",
       "                for (var i = 0; i < nbb_cells.length; ++i) {\n",
       "                    if (nbb_cells[i].input_prompt_number == nbb_cell_id) {\n",
       "                        if (nbb_cells[i].get_text() == nbb_unformatted_code) {\n",
       "                             nbb_cells[i].set_text(nbb_formatted_code);\n",
       "                        }\n",
       "                        break;\n",
       "                    }\n",
       "                }\n",
       "            }, 500);\n",
       "            "
      ],
      "text/plain": [
       "<IPython.core.display.Javascript object>"
      ]
     },
     "metadata": {},
     "output_type": "display_data"
    }
   ],
   "source": [
    "config = oci.config.from_file()\n",
    "tenancy_id = config[\"tenancy\"]"
   ]
  },
  {
   "cell_type": "markdown",
   "metadata": {},
   "source": [
    "## List all Regions Subscribed in Tenancy\n",
    " - **Search** endpoints are regional and hence we will iterate asynchronously over all regions"
   ]
  },
  {
   "cell_type": "code",
   "execution_count": 5,
   "metadata": {},
   "outputs": [
    {
     "name": "stdout",
     "output_type": "stream",
     "text": [
      "'Fetching all regions in tenancy'\n",
      "(\"List of regions subscribed to : ['ap-mumbai-1', 'eu-frankfurt-1', \"\n",
      " \"'ap-hyderabad-1', 'us-phoenix-1']\")\n"
     ]
    },
    {
     "data": {
      "application/javascript": [
       "\n",
       "            setTimeout(function() {\n",
       "                var nbb_cell_id = 5;\n",
       "                var nbb_unformatted_code = \"region_names = list_region_subscriptions(config)\";\n",
       "                var nbb_formatted_code = \"region_names = list_region_subscriptions(config)\";\n",
       "                var nbb_cells = Jupyter.notebook.get_cells();\n",
       "                for (var i = 0; i < nbb_cells.length; ++i) {\n",
       "                    if (nbb_cells[i].input_prompt_number == nbb_cell_id) {\n",
       "                        if (nbb_cells[i].get_text() == nbb_unformatted_code) {\n",
       "                             nbb_cells[i].set_text(nbb_formatted_code);\n",
       "                        }\n",
       "                        break;\n",
       "                    }\n",
       "                }\n",
       "            }, 500);\n",
       "            "
      ],
      "text/plain": [
       "<IPython.core.display.Javascript object>"
      ]
     },
     "metadata": {},
     "output_type": "display_data"
    }
   ],
   "source": [
    "region_names = list_region_subscriptions(config)"
   ]
  },
  {
   "cell_type": "markdown",
   "metadata": {},
   "source": [
    "## Fetch Compartment Heirarchy\n",
    " - **Compartment** is an IAM resource and is Global\n",
    " - **Compartment_KV** - Lookup table between Compartment OCID and Compartment name\n",
    " - **Compartment Parent OCID  KV** - Lookup table between Compartment OCID, Parent Compartment OCID"
   ]
  },
  {
   "cell_type": "code",
   "execution_count": 6,
   "metadata": {},
   "outputs": [
    {
     "name": "stdout",
     "output_type": "stream",
     "text": [
      "'Populate Compartment Herirachies in Tenancy'\n"
     ]
    },
    {
     "data": {
      "application/javascript": [
       "\n",
       "            setTimeout(function() {\n",
       "                var nbb_cell_id = 6;\n",
       "                var nbb_unformatted_code = \"compartment_kv, compartment_parent_ocid_kv = fetch_compartment_heirarchy(config)\";\n",
       "                var nbb_formatted_code = \"compartment_kv, compartment_parent_ocid_kv = fetch_compartment_heirarchy(config)\";\n",
       "                var nbb_cells = Jupyter.notebook.get_cells();\n",
       "                for (var i = 0; i < nbb_cells.length; ++i) {\n",
       "                    if (nbb_cells[i].input_prompt_number == nbb_cell_id) {\n",
       "                        if (nbb_cells[i].get_text() == nbb_unformatted_code) {\n",
       "                             nbb_cells[i].set_text(nbb_formatted_code);\n",
       "                        }\n",
       "                        break;\n",
       "                    }\n",
       "                }\n",
       "            }, 500);\n",
       "            "
      ],
      "text/plain": [
       "<IPython.core.display.Javascript object>"
      ]
     },
     "metadata": {},
     "output_type": "display_data"
    }
   ],
   "source": [
    "compartment_kv, compartment_parent_ocid_kv = fetch_compartment_heirarchy(config)"
   ]
  },
  {
   "cell_type": "markdown",
   "metadata": {},
   "source": [
    "## Mark Start of Execution\n",
    "Print Start Time and end time for populating the entire tenancy tree"
   ]
  },
  {
   "cell_type": "code",
   "execution_count": 7,
   "metadata": {},
   "outputs": [
    {
     "name": "stdout",
     "output_type": "stream",
     "text": [
      "'Start Time : Apr 15 2020 06:10:50'\n"
     ]
    },
    {
     "data": {
      "application/javascript": [
       "\n",
       "            setTimeout(function() {\n",
       "                var nbb_cell_id = 7;\n",
       "                var nbb_unformatted_code = \"pprint.pprint(\\n    \\\"Start Time : {}\\\".format(time.strftime(\\\"%b %d %Y %H:%M:%S\\\", time.localtime()))\\n)\";\n",
       "                var nbb_formatted_code = \"pprint.pprint(\\n    \\\"Start Time : {}\\\".format(time.strftime(\\\"%b %d %Y %H:%M:%S\\\", time.localtime()))\\n)\";\n",
       "                var nbb_cells = Jupyter.notebook.get_cells();\n",
       "                for (var i = 0; i < nbb_cells.length; ++i) {\n",
       "                    if (nbb_cells[i].input_prompt_number == nbb_cell_id) {\n",
       "                        if (nbb_cells[i].get_text() == nbb_unformatted_code) {\n",
       "                             nbb_cells[i].set_text(nbb_formatted_code);\n",
       "                        }\n",
       "                        break;\n",
       "                    }\n",
       "                }\n",
       "            }, 500);\n",
       "            "
      ],
      "text/plain": [
       "<IPython.core.display.Javascript object>"
      ]
     },
     "metadata": {},
     "output_type": "display_data"
    }
   ],
   "source": [
    "pprint.pprint(\n",
    "    \"Start Time : {}\".format(time.strftime(\"%b %d %Y %H:%M:%S\", time.localtime()))\n",
    ")"
   ]
  },
  {
   "cell_type": "markdown",
   "metadata": {},
   "source": [
    "## Search and Populate\n",
    "The Search Region and Populate Function has two stages\n",
    "1. Fetch the search results based on search query provided\n",
    "2. Use the Search result to drill down resource specific information\n",
    "3. Consolidate both and populate a JSON Tree . "
   ]
  },
  {
   "cell_type": "code",
   "execution_count": 8,
   "metadata": {},
   "outputs": [
    {
     "data": {
      "application/javascript": [
       "\n",
       "            setTimeout(function() {\n",
       "                var nbb_cell_id = 8;\n",
       "                var nbb_unformatted_code = \"executor = cf.ThreadPoolExecutor(max_workers=20,)\\nreturnFlag = [\\n    search_region_and_populate(\\n        executor,\\n        config,\\n        region_name,\\n        resourceString,\\n        conditionString,\\n        compartment_kv,\\n        compartment_parent_ocid_kv,\\n    )\\n    for region_name in region_names\\n]\";\n",
       "                var nbb_formatted_code = \"executor = cf.ThreadPoolExecutor(max_workers=20,)\\nreturnFlag = [\\n    search_region_and_populate(\\n        executor,\\n        config,\\n        region_name,\\n        resourceString,\\n        conditionString,\\n        compartment_kv,\\n        compartment_parent_ocid_kv,\\n    )\\n    for region_name in region_names\\n]\";\n",
       "                var nbb_cells = Jupyter.notebook.get_cells();\n",
       "                for (var i = 0; i < nbb_cells.length; ++i) {\n",
       "                    if (nbb_cells[i].input_prompt_number == nbb_cell_id) {\n",
       "                        if (nbb_cells[i].get_text() == nbb_unformatted_code) {\n",
       "                             nbb_cells[i].set_text(nbb_formatted_code);\n",
       "                        }\n",
       "                        break;\n",
       "                    }\n",
       "                }\n",
       "            }, 500);\n",
       "            "
      ],
      "text/plain": [
       "<IPython.core.display.Javascript object>"
      ]
     },
     "metadata": {},
     "output_type": "display_data"
    }
   ],
   "source": [
    "executor = cf.ThreadPoolExecutor(max_workers=20,)\n",
    "returnFlag = [\n",
    "    search_region_and_populate(\n",
    "        executor,\n",
    "        config,\n",
    "        region_name,\n",
    "        resourceString,\n",
    "        conditionString,\n",
    "        compartment_kv,\n",
    "        compartment_parent_ocid_kv,\n",
    "    )\n",
    "    for region_name in region_names\n",
    "]"
   ]
  },
  {
   "cell_type": "markdown",
   "metadata": {},
   "source": [
    "## Asynchronous Parallelism\n",
    "- Concurrent Futures is used to execute all mutually exclusive tasks as separate Threads\n",
    "- AsyncIO.gather is used to concurrently spin up asynchronous non-blocking calls to multiple API endpoints. "
   ]
  },
  {
   "cell_type": "code",
   "execution_count": 9,
   "metadata": {},
   "outputs": [
    {
     "name": "stdout",
     "output_type": "stream",
     "text": [
      "'Initializing Resource Specific Clients & Regions '\n",
      "'Initialize Identity Client in Region : ap-mumbai-1'\n",
      "'Initialize Search Client in Region : ap-mumbai-1'\n",
      "'Initialize Compute Client in Region : ap-mumbai-1'\n",
      "'Initialize DB Client in Region : ap-mumbai-1'\n",
      "'Initialize Analytics Client in Region : ap-mumbai-1'\n",
      "'Initialize Networking Client in Region : ap-mumbai-1'\n",
      "'Initialize Data Science Client in Region : ap-mumbai-1'\n",
      "'Initialize Block Storage Client in Region : ap-mumbai-1'\n",
      "'Initialize Object Storage Client in Region : ap-mumbai-1'\n",
      "'Initialize Notifications Client in Region : ap-mumbai-1'\n",
      "'Initialize API-GW Client in Region : ap-mumbai-1'\n",
      "'Initialize Streaming Client in Region : ap-mumbai-1'\n",
      "'Initialize Functions Client in Region : ap-mumbai-1'\n",
      "'Initialize Integration Client in Region : ap-mumbai-1'\n",
      "'Initialize Vaults Client in Region : ap-mumbai-1'\n",
      "'Initialize Oracle Digital Assistant Client in Region : ap-mumbai-1'\n",
      "'Initialize Data Catalog Client in Region : ap-mumbai-1'\n",
      "'Initialize File System Client in Region : ap-mumbai-1'\n",
      "'Populated Compute Shapes for region ap-mumbai-1'\n",
      "'Generated Raw Search Result JSON for region: ap-mumbai-1'\n",
      "'Initializing Resource Specific Clients & Regions '\n",
      "'Initialize Identity Client in Region : us-phoenix-1'\n",
      "'Initialize Search Client in Region : us-phoenix-1'\n",
      "'Initialize Compute Client in Region : us-phoenix-1'\n",
      "'Initialize DB Client in Region : us-phoenix-1'\n",
      "'Initialize Analytics Client in Region : us-phoenix-1'\n",
      "'Initialize Networking Client in Region : us-phoenix-1'\n",
      "'Initialize Data Science Client in Region : us-phoenix-1'\n",
      "'Initialize Block Storage Client in Region : us-phoenix-1'\n",
      "'Initialize Object Storage Client in Region : us-phoenix-1'\n",
      "'Initialize Notifications Client in Region : us-phoenix-1'\n",
      "'Initialize API-GW Client in Region : us-phoenix-1'\n",
      "'Initialize Streaming Client in Region : us-phoenix-1'\n",
      "'Initialize Functions Client in Region : us-phoenix-1'\n",
      "'Initialize Integration Client in Region : us-phoenix-1'\n",
      "'Initialize Vaults Client in Region : us-phoenix-1'\n",
      "'Initialize Oracle Digital Assistant Client in Region : us-phoenix-1'\n",
      "'Initialize Data Catalog Client in Region : us-phoenix-1'\n",
      "'Initialize File System Client in Region : us-phoenix-1'\n",
      "'Populated Compute Shapes for region us-phoenix-1'\n",
      "'Generated Raw Search Result JSON for region: us-phoenix-1'\n",
      "'Initializing Resource Specific Clients & Regions '\n",
      "'Initialize Identity Client in Region : eu-frankfurt-1'\n",
      "'Initialize Search Client in Region : eu-frankfurt-1'\n",
      "'Initialize Compute Client in Region : eu-frankfurt-1'\n",
      "'Initialize DB Client in Region : eu-frankfurt-1'\n",
      "'Initialize Analytics Client in Region : eu-frankfurt-1'\n",
      "'Initialize Networking Client in Region : eu-frankfurt-1'\n",
      "'Initialize Data Science Client in Region : eu-frankfurt-1'\n",
      "'Initialize Block Storage Client in Region : eu-frankfurt-1'\n",
      "'Initialize Object Storage Client in Region : eu-frankfurt-1'\n",
      "'Initialize Notifications Client in Region : eu-frankfurt-1'\n",
      "'Initialize API-GW Client in Region : eu-frankfurt-1'\n",
      "'Initialize Streaming Client in Region : eu-frankfurt-1'\n",
      "'Initialize Functions Client in Region : eu-frankfurt-1'\n",
      "'Initialize Integration Client in Region : eu-frankfurt-1'\n",
      "'Initialize Vaults Client in Region : eu-frankfurt-1'\n",
      "'Initialize Oracle Digital Assistant Client in Region : eu-frankfurt-1'\n",
      "'Initialize Data Catalog Client in Region : eu-frankfurt-1'\n",
      "'Initialize File System Client in Region : eu-frankfurt-1'\n",
      "'Populated Compute Shapes for region eu-frankfurt-1'\n",
      "'Generated Raw Search Result JSON for region: eu-frankfurt-1'\n",
      "'Generated Region Distribution JSON for region: ap-mumbai-1'\n",
      "'Generated Region Distribution JSON for region: us-phoenix-1'\n",
      "'Generated Region Distribution JSON for region: eu-frankfurt-1'\n"
     ]
    },
    {
     "data": {
      "text/plain": [
       "[None, None, None, None]"
      ]
     },
     "execution_count": 9,
     "metadata": {},
     "output_type": "execute_result"
    }
   ],
   "source": [
    "await asyncio.gather(*(returnFlag))"
   ]
  },
  {
   "cell_type": "markdown",
   "metadata": {},
   "source": [
    "## Mark End of Execution\n",
    "Print End Time for populating the entire tenancy tree"
   ]
  },
  {
   "cell_type": "code",
   "execution_count": 10,
   "metadata": {},
   "outputs": [
    {
     "name": "stdout",
     "output_type": "stream",
     "text": [
      "'End Time : Apr 15 2020 06:11:34'\n"
     ]
    },
    {
     "data": {
      "application/javascript": [
       "\n",
       "            setTimeout(function() {\n",
       "                var nbb_cell_id = 10;\n",
       "                var nbb_unformatted_code = \"pprint.pprint(\\n    \\\"End Time : {}\\\".format(time.strftime(\\\"%b %d %Y %H:%M:%S\\\", time.localtime()))\\n)\";\n",
       "                var nbb_formatted_code = \"pprint.pprint(\\n    \\\"End Time : {}\\\".format(time.strftime(\\\"%b %d %Y %H:%M:%S\\\", time.localtime()))\\n)\";\n",
       "                var nbb_cells = Jupyter.notebook.get_cells();\n",
       "                for (var i = 0; i < nbb_cells.length; ++i) {\n",
       "                    if (nbb_cells[i].input_prompt_number == nbb_cell_id) {\n",
       "                        if (nbb_cells[i].get_text() == nbb_unformatted_code) {\n",
       "                             nbb_cells[i].set_text(nbb_formatted_code);\n",
       "                        }\n",
       "                        break;\n",
       "                    }\n",
       "                }\n",
       "            }, 500);\n",
       "            "
      ],
      "text/plain": [
       "<IPython.core.display.Javascript object>"
      ]
     },
     "metadata": {},
     "output_type": "display_data"
    }
   ],
   "source": [
    "pprint.pprint(\n",
    "    \"End Time : {}\".format(time.strftime(\"%b %d %Y %H:%M:%S\", time.localtime()))\n",
    ")"
   ]
  },
  {
   "cell_type": "markdown",
   "metadata": {},
   "source": [
    "## Create NetworkX Graph\n",
    "Load JSON Objects and Make Network Graph"
   ]
  },
  {
   "cell_type": "code",
   "execution_count": 11,
   "metadata": {},
   "outputs": [
    {
     "data": {
      "application/javascript": [
       "\n",
       "            setTimeout(function() {\n",
       "                var nbb_cell_id = 11;\n",
       "                var nbb_unformatted_code = \"def extract_value_by_field(obj, key):\\n    \\\"\\\"\\\"Pull all values of specified key from nested JSON.\\\"\\\"\\\"\\n    arr = []\\n\\n    def extract(obj, arr, key):\\n        \\\"\\\"\\\"Recursively search for values of key in JSON tree.\\\"\\\"\\\"\\n        if isinstance(obj, dict):\\n            for k, v in obj.items():\\n                if isinstance(v, (dict, list)):\\n                    extract(v, arr, key)\\n                elif k == key:\\n                    if v is not None:\\n                        arr.append(v)\\n                    else:\\n                        arr.append(\\\"None\\\")\\n        elif isinstance(obj, list):\\n            for searchResult in obj:\\n                extract(searchResult, arr, key)\\n        elif isinstance(obj, type(None)):\\n            arr.append(\\\"None\\\")\\n\\n        return arr\\n\\n    results = extract(obj, arr, key)\\n    return results\";\n",
       "                var nbb_formatted_code = \"def extract_value_by_field(obj, key):\\n    \\\"\\\"\\\"Pull all values of specified key from nested JSON.\\\"\\\"\\\"\\n    arr = []\\n\\n    def extract(obj, arr, key):\\n        \\\"\\\"\\\"Recursively search for values of key in JSON tree.\\\"\\\"\\\"\\n        if isinstance(obj, dict):\\n            for k, v in obj.items():\\n                if isinstance(v, (dict, list)):\\n                    extract(v, arr, key)\\n                elif k == key:\\n                    if v is not None:\\n                        arr.append(v)\\n                    else:\\n                        arr.append(\\\"None\\\")\\n        elif isinstance(obj, list):\\n            for searchResult in obj:\\n                extract(searchResult, arr, key)\\n        elif isinstance(obj, type(None)):\\n            arr.append(\\\"None\\\")\\n\\n        return arr\\n\\n    results = extract(obj, arr, key)\\n    return results\";\n",
       "                var nbb_cells = Jupyter.notebook.get_cells();\n",
       "                for (var i = 0; i < nbb_cells.length; ++i) {\n",
       "                    if (nbb_cells[i].input_prompt_number == nbb_cell_id) {\n",
       "                        if (nbb_cells[i].get_text() == nbb_unformatted_code) {\n",
       "                             nbb_cells[i].set_text(nbb_formatted_code);\n",
       "                        }\n",
       "                        break;\n",
       "                    }\n",
       "                }\n",
       "            }, 500);\n",
       "            "
      ],
      "text/plain": [
       "<IPython.core.display.Javascript object>"
      ]
     },
     "metadata": {},
     "output_type": "display_data"
    }
   ],
   "source": [
    "def extract_value_by_field(obj, key):\n",
    "    \"\"\"Pull all values of specified key from nested JSON.\"\"\"\n",
    "    arr = []\n",
    "\n",
    "    def extract(obj, arr, key):\n",
    "        \"\"\"Recursively search for values of key in JSON tree.\"\"\"\n",
    "        if isinstance(obj, dict):\n",
    "            for k, v in obj.items():\n",
    "                if isinstance(v, (dict, list)):\n",
    "                    extract(v, arr, key)\n",
    "                elif k == key:\n",
    "                    if v is not None:\n",
    "                        arr.append(v)\n",
    "                    else:\n",
    "                        arr.append(\"None\")\n",
    "        elif isinstance(obj, list):\n",
    "            for searchResult in obj:\n",
    "                extract(searchResult, arr, key)\n",
    "        elif isinstance(obj, type(None)):\n",
    "            arr.append(\"None\")\n",
    "\n",
    "        return arr\n",
    "\n",
    "    results = extract(obj, arr, key)\n",
    "    return results"
   ]
  },
  {
   "cell_type": "markdown",
   "metadata": {},
   "source": [
    "## Extract Resource Dict\n",
    "* Every Resource is a JSON Dictionary\n",
    "* Every Attribute is a Key Value Pair\n",
    "* Extract Key and Value Pair to add as elements to Graph"
   ]
  },
  {
   "cell_type": "code",
   "execution_count": 12,
   "metadata": {},
   "outputs": [
    {
     "data": {
      "application/javascript": [
       "\n",
       "            setTimeout(function() {\n",
       "                var nbb_cell_id = 12;\n",
       "                var nbb_unformatted_code = \"def extract_resource_dict(\\n    dict_list, resourceType=\\\"Compartment\\\", key=\\\"resource_ocid\\\", value=\\\"display_name\\\"\\n):\\n    resList = list(filter(lambda d: d[\\\"resource_type\\\"] == resourceType, dict_list))\\n    value_list = list(map(itemgetter(value), resList))\\n    key_list = list(map(itemgetter(key), resList))\\n    kv_dict = dict(zip(key_list, value_list))\\n    return kv_dict\";\n",
       "                var nbb_formatted_code = \"def extract_resource_dict(\\n    dict_list, resourceType=\\\"Compartment\\\", key=\\\"resource_ocid\\\", value=\\\"display_name\\\"\\n):\\n    resList = list(filter(lambda d: d[\\\"resource_type\\\"] == resourceType, dict_list))\\n    value_list = list(map(itemgetter(value), resList))\\n    key_list = list(map(itemgetter(key), resList))\\n    kv_dict = dict(zip(key_list, value_list))\\n    return kv_dict\";\n",
       "                var nbb_cells = Jupyter.notebook.get_cells();\n",
       "                for (var i = 0; i < nbb_cells.length; ++i) {\n",
       "                    if (nbb_cells[i].input_prompt_number == nbb_cell_id) {\n",
       "                        if (nbb_cells[i].get_text() == nbb_unformatted_code) {\n",
       "                             nbb_cells[i].set_text(nbb_formatted_code);\n",
       "                        }\n",
       "                        break;\n",
       "                    }\n",
       "                }\n",
       "            }, 500);\n",
       "            "
      ],
      "text/plain": [
       "<IPython.core.display.Javascript object>"
      ]
     },
     "metadata": {},
     "output_type": "display_data"
    }
   ],
   "source": [
    "def extract_resource_dict(\n",
    "    dict_list, resourceType=\"Compartment\", key=\"resource_ocid\", value=\"display_name\"\n",
    "):\n",
    "    resList = list(filter(lambda d: d[\"resource_type\"] == resourceType, dict_list))\n",
    "    value_list = list(map(itemgetter(value), resList))\n",
    "    key_list = list(map(itemgetter(key), resList))\n",
    "    kv_dict = dict(zip(key_list, value_list))\n",
    "    return kv_dict"
   ]
  },
  {
   "cell_type": "code",
   "execution_count": 14,
   "metadata": {},
   "outputs": [
    {
     "data": {
      "application/javascript": [
       "\n",
       "            setTimeout(function() {\n",
       "                var nbb_cell_id = 14;\n",
       "                var nbb_unformatted_code = \"def create_dict_list():\\n    resource_list = []\\n    for file_name in glob.glob(\\\"./region_distribution*\\\"):\\n        with open(file_name) as f:\\n            resource_list.extend(json.load(f))\\n    return resource_list\";\n",
       "                var nbb_formatted_code = \"def create_dict_list():\\n    resource_list = []\\n    for file_name in glob.glob(\\\"./region_distribution*\\\"):\\n        with open(file_name) as f:\\n            resource_list.extend(json.load(f))\\n    return resource_list\";\n",
       "                var nbb_cells = Jupyter.notebook.get_cells();\n",
       "                for (var i = 0; i < nbb_cells.length; ++i) {\n",
       "                    if (nbb_cells[i].input_prompt_number == nbb_cell_id) {\n",
       "                        if (nbb_cells[i].get_text() == nbb_unformatted_code) {\n",
       "                             nbb_cells[i].set_text(nbb_formatted_code);\n",
       "                        }\n",
       "                        break;\n",
       "                    }\n",
       "                }\n",
       "            }, 500);\n",
       "            "
      ],
      "text/plain": [
       "<IPython.core.display.Javascript object>"
      ]
     },
     "metadata": {},
     "output_type": "display_data"
    }
   ],
   "source": [
    "def create_dict_list():\n",
    "    resource_list = []\n",
    "    for file_name in glob.glob(\"./region_distribution*\"):\n",
    "        with open(file_name) as f:\n",
    "            resource_list.extend(json.load(f))\n",
    "    return resource_list"
   ]
  },
  {
   "cell_type": "markdown",
   "metadata": {},
   "source": [
    "## Aggregate Resources from Multiple Regions\n",
    "* Every region is a JSON File\n",
    "* JSON File when parsed yields a list of dictionaries\n",
    "* Every element in the JSON File is a Dict."
   ]
  },
  {
   "cell_type": "code",
   "execution_count": 20,
   "metadata": {},
   "outputs": [
    {
     "name": "stdout",
     "output_type": "stream",
     "text": [
      "{'beta-user': 'ocid1.user.oc1..aaaaaaaacq4ibaheldx6x2r6bxdvfpayjwhpbvhwp3cctg7kotuzw5hdlbka',\n",
      " 'karl.miller@oracle.com': 'ocid1.user.oc1..aaaaaaaat7rzc3s5zer5bvii2ajwctd2qad5rju3zgu5rbitugxmwjrugbqa',\n",
      " 'oracleidentitycloudservice/Jhan.han@oracle.com': 'ocid1.user.oc1..aaaaaaaagw3pm4ljr7pnh4hkmnizh5xx5sxoyrlax6gjzcmgbkno5ybxjzpa',\n",
      " 'oracleidentitycloudservice/amey.marathe@oracle.com': 'ocid1.user.oc1..aaaaaaaastpv23muod3ech2cm3bd3b7j42ksl3gqinkxa5ayqkc7lu7xdd3a',\n",
      " 'oracleidentitycloudservice/amit.r.jha@oracle.com': 'ocid1.user.oc1..aaaaaaaasdk4gwfkpllrkodeb7a33o4zmdkdcbx3lp73hd7gxyvcv23mcbra',\n",
      " 'oracleidentitycloudservice/amit.shivpuri@oracle.com': 'ocid1.user.oc1..aaaaaaaaolrpmo6tlpl7zm47seonbinsf65tywaukksvz2o4c5c5cnzl2ijq',\n",
      " 'oracleidentitycloudservice/anuj.m.mittal@oracle.com': 'ocid1.user.oc1..aaaaaaaalgmj4ffbd3w3zezvf3rttuwasdg3ctzrojz5vr42acx3a5zegmzq',\n",
      " 'oracleidentitycloudservice/anurag.mittal@oracle.com': 'ocid1.user.oc1..aaaaaaaa55duv2ceov7fpmdx43owbpvp3ms3dclgnoposuevrlnp5pw2diva',\n",
      " 'oracleidentitycloudservice/asad.ahmad@oracle.com': 'ocid1.user.oc1..aaaaaaaa6y5jdlobbzr7wxfaadmwgldh4wrqzqfuw4gixnvfhncvm3wklh2q',\n",
      " 'oracleidentitycloudservice/ashish.nabira@oracle.com': 'ocid1.user.oc1..aaaaaaaa4ydjy7nxh26yuztfvdud2efufscireeatjau5wbg5if3bp5phvma',\n",
      " 'oracleidentitycloudservice/ashwani.tyagi@oracle.com': 'ocid1.user.oc1..aaaaaaaarxegb5icdj7o6rkp5nyfbtoqr552msokvyrrwxgb744dv5m2neua',\n",
      " 'oracleidentitycloudservice/bipin.verma@oracle.com': 'ocid1.user.oc1..aaaaaaaav4zx7pydz3d2vqt23uiuw2ef2vkt2kplsdpuovkhgckv2e3apudq',\n",
      " 'oracleidentitycloudservice/chetan.purav@oracle.com': 'ocid1.user.oc1..aaaaaaaazvto6g7txdygattknq2xax3wx34imnmx43yweyewgitwfve6uhyq',\n",
      " 'oracleidentitycloudservice/datthathiri.srinivasan@oracle.com': 'ocid1.user.oc1..aaaaaaaa7fyetfakshvyhje6hv6db7itqjo4zllmgxzgnas2iupgbnt2535q',\n",
      " 'oracleidentitycloudservice/deepak.pandita@oracle.com': 'ocid1.user.oc1..aaaaaaaax7b73wo4ek22b5ztu7ommaxb6jbitzvz6egrmjtbxjtdexwikjua',\n",
      " 'oracleidentitycloudservice/glen.misquith@oracle.com': 'ocid1.user.oc1..aaaaaaaa7bspp2m7xdxgxn3nfl4jtj2qz6gt5wy3vgpdfyxrfoi52qqzbroa',\n",
      " 'oracleidentitycloudservice/goutam.kurumella@oracle.com': 'ocid1.user.oc1..aaaaaaaatf2e64gmjv36xnuzv2lgfp6wi4tikndtubodvfk2uma7wvuqqnlq',\n",
      " 'oracleidentitycloudservice/harekrushna.panigrahy@oracle.com': 'ocid1.user.oc1..aaaaaaaao4wewyrw6wvxcxqhhypbe7ubt7lfh4ibcn7jy3t6qejhzfc3pirq',\n",
      " 'oracleidentitycloudservice/harjul.jobanputra@oracle.com': 'ocid1.user.oc1..aaaaaaaab4wobxok6m45pk3k7ev4zifpmxe7exuetfyskkvuh36xgecjmqqa',\n",
      " 'oracleidentitycloudservice/hrushikesh.khopkar@oracle.com': 'ocid1.user.oc1..aaaaaaaa67fmdbcb6nu3mwqo4oni5lp7nd36ohqp3ggywgup5er5vrmfy66a',\n",
      " 'oracleidentitycloudservice/jasvinder.grewal@oracle.com': 'ocid1.user.oc1..aaaaaaaaygkwgdbu2eo7ksx4iajl6pmroztvfmfmragzlg5lbe43pvxtkmia',\n",
      " 'oracleidentitycloudservice/jayaram.chitturi@oracle.com': 'ocid1.user.oc1..aaaaaaaatkwrdeu47qiif7yhncbh2wnh6plleujurstgrhwm5qtoypupreva',\n",
      " 'oracleidentitycloudservice/kallol.chaudhuri@oracle.com': 'ocid1.user.oc1..aaaaaaaai5fdwrdcpybzi4pj5zqejgldv4ymg3v76luxrlnabmdtj5mug7xq',\n",
      " 'oracleidentitycloudservice/karthikeyan.thirunarayanan@oracle.com': 'ocid1.user.oc1..aaaaaaaazvbypbehtlkkb5galzzihzyge2gdrkfjq6gix6btfnctxs6bcdeq',\n",
      " 'oracleidentitycloudservice/kavindra.singh@oracle.com': 'ocid1.user.oc1..aaaaaaaapwqi3ww323thf3ytjcbxi7cmf7a2zlve3fncu2jog35hv4wqua4a',\n",
      " 'oracleidentitycloudservice/kishore.m.surve@oracle.com': 'ocid1.user.oc1..aaaaaaaavn7cog25eoli6e3jmbogw3dbvllld47hhb24qg4nyuuu6kges3wa',\n",
      " 'oracleidentitycloudservice/krishnan.kumar@oracle.com': 'ocid1.user.oc1..aaaaaaaak5okhjuz42iqairhf6h5c6r24tjxbrs3xjoplrf2fzko7vemmcsa',\n",
      " 'oracleidentitycloudservice/lakshmikanth.vasudevamurthy@oracle.com': 'ocid1.user.oc1..aaaaaaaai4etltxunw3vcj6n5gbcroq4mnvqgj7fujgn3otvmzd4s67om5aq',\n",
      " 'oracleidentitycloudservice/manoj.shringarpure@oracle.com': 'ocid1.user.oc1..aaaaaaaaefz4dlskzh5vl4xqmacnano6viox4hkry3u34vccxymk5vy7mdxa',\n",
      " 'oracleidentitycloudservice/meenal.aggarwal@oracle.com': 'ocid1.user.oc1..aaaaaaaan342yycbyrajvyjsvegbmbfzo4775fgw2qg7kfkbsmrjm5fcidsq',\n",
      " 'oracleidentitycloudservice/mohammed.hashmath@oracle.com': 'ocid1.user.oc1..aaaaaaaanepp6k7xx7mnlznhnfke2b7aqehwtsfxw7br5fapddlfcvgm3i7a',\n",
      " 'oracleidentitycloudservice/mohit.bhargava@oracle.com': 'ocid1.user.oc1..aaaaaaaacxzrjmrxw6yqfr5e34ejvhfywjv43bnoy7tkdmftnaj4z5bfar2q',\n",
      " 'oracleidentitycloudservice/nagaraj.gorthi@oracle.com': 'ocid1.user.oc1..aaaaaaaaewdiig5offry6exqdelmcibxnxqgc5mdjzelrydr5ojflsjxemdq',\n",
      " 'oracleidentitycloudservice/nagarajan.kuppuswamy@oracle.com': 'ocid1.user.oc1..aaaaaaaafmcp4x7xka3w47gz6riorasjzzpluzt5iiwtgm4s6crz642kzu5a',\n",
      " 'oracleidentitycloudservice/neeraj.gaurav@oracle.com': 'ocid1.user.oc1..aaaaaaaa5wfufgw4brc7h5txy5fnpnzv54kq3bsrkmd5vlt5h4kw4jpmyzyq',\n",
      " 'oracleidentitycloudservice/nitin.kaushik@oracle.com': 'ocid1.user.oc1..aaaaaaaalw73n5tak2bmm6eb764rqtpe6pzjoaeazvcu4qbzjqjuvnhcrneq',\n",
      " 'oracleidentitycloudservice/padmapriyadharsini.mani@oracle.com': 'ocid1.user.oc1..aaaaaaaaeiavu5a6defk3zrayicufdg4rjky2t5s2tsp5pmpol3xoqiuwjsq',\n",
      " 'oracleidentitycloudservice/palanivel.saravanan@oracle.com': 'ocid1.user.oc1..aaaaaaaapwjvgxie437c473jzb6svaaeedc6ubyhyzgtbt46kbchsvzxiseq',\n",
      " 'oracleidentitycloudservice/patrick.solanki@oracle.com': 'ocid1.user.oc1..aaaaaaaapuvi7qb3exfdi3ccheftcddqsjlqnq2uvxyo7pptwfaszhwexqba',\n",
      " 'oracleidentitycloudservice/prasad.matkar@oracle.com': 'ocid1.user.oc1..aaaaaaaasbrhjwm35itukou64sp7gkhmdt32anvmdk4d7fzq5htef2bjxjmq',\n",
      " 'oracleidentitycloudservice/prashanth.raghunath@oracle.com': 'ocid1.user.oc1..aaaaaaaa4d5wnt2amrigvslm6dlrrislt6mfenauxlr7xed5bhh4m26jrtlq',\n",
      " 'oracleidentitycloudservice/prasun.kumar@oracle.com': 'ocid1.user.oc1..aaaaaaaaklqhjoh55n63hoabkg23d4ev643sddtprvfclzhdbcpk767252ka',\n",
      " 'oracleidentitycloudservice/premal.ghelashah@oracle.com': 'ocid1.user.oc1..aaaaaaaagbwglqo25kfwn42bperbn6b3saa5c5fticpwjspxplghkq7zhzpa',\n",
      " 'oracleidentitycloudservice/priya.jathar@oracle.com': 'ocid1.user.oc1..aaaaaaaah2cooprzns2bp35ayw5l7cmutjdkddqxclhqng4hf3x2urkhlxhq',\n",
      " 'oracleidentitycloudservice/puneet.rekhade@oracle.com': 'ocid1.user.oc1..aaaaaaaaezpwgjwbkhyq25i3s6465xrf5jylqitc4hdiwpnid3v2wrw7ywnq',\n",
      " 'oracleidentitycloudservice/raghav.govindan@oracle.com': 'ocid1.user.oc1..aaaaaaaa7yigofycs3j3ecuvvioc4do6l6fa7oi7ibgaa6lwouu7555lqh6a',\n",
      " 'oracleidentitycloudservice/raghuveeran.krishnakumar@oracle.com': 'ocid1.user.oc1..aaaaaaaarvti6qadqaey5a7k53vgcgs3rcur2qwfhdxclil24wlljrwveyta',\n",
      " 'oracleidentitycloudservice/rajesh.ramdas@oracle.com': 'ocid1.user.oc1..aaaaaaaatuxxclajozoee564v7pobsxp6d4gq7ww7gceharcdmwvr5arkboq',\n",
      " 'oracleidentitycloudservice/rajiv.ranjan@oracle.com': 'ocid1.user.oc1..aaaaaaaaaoirm3dn3cv4gw33ieiyjbmg5uo7wrvdwh57c6yunym4jzif2pxa',\n",
      " 'oracleidentitycloudservice/sachin.bhat@oracle.com': 'ocid1.user.oc1..aaaaaaaa7ljhcxmdmfe75lftzu3yxr5phqwxh2cvve7j3m7hjldq4bzykmkq',\n",
      " 'oracleidentitycloudservice/sahil.vijay@oracle.com': 'ocid1.user.oc1..aaaaaaaaqpowi3qzjv3mheswmpufs5gknuobq5c2frog25agjpy2te3gtgdq',\n",
      " 'oracleidentitycloudservice/sandeep.mukherjee@oracle.com': 'ocid1.user.oc1..aaaaaaaabvahsxllar4gaxu7mss7ft4xrki6xm2fioliei44exyklhnxojja',\n",
      " 'oracleidentitycloudservice/sanjeev.c.chauhan@oracle.com': 'ocid1.user.oc1..aaaaaaaaqokurxjqsnmcyezvd3qqsqmmc5kmv35cc73ooaj3fhqloh4wiara',\n",
      " 'oracleidentitycloudservice/sanjeev.gopinath@oracle.com': 'ocid1.user.oc1..aaaaaaaaw6wecujn5u4362vaveiyulykpd3gpd5oklx44gwgc6on42nmwx4a',\n",
      " 'oracleidentitycloudservice/sanjeev.mittal@oracle.com': 'ocid1.user.oc1..aaaaaaaaypnbyxqdypu6eilj5zysfayhjvycwbwhei24fu2lj27nb4bmjmnq',\n",
      " 'oracleidentitycloudservice/santosh.k.mishra@oracle.com': 'ocid1.user.oc1..aaaaaaaavaf6gb6gsquphijcyqrviuwv6dpqcddvmsfjhdwfzwccptlm2q3q',\n",
      " 'oracleidentitycloudservice/santosh.sr.kumar@oracle.com': 'ocid1.user.oc1..aaaaaaaav6y6hehxxbxdya4unbgczh5kipqj5n7oo7c2stz6bwywwvvwqela',\n",
      " 'oracleidentitycloudservice/sapna.dahiya@oracle.com': 'ocid1.user.oc1..aaaaaaaaplh4bubtmkt5jvrnxzb6gl4bpenqd54uf7xny753d3ds24cxtcma',\n",
      " 'oracleidentitycloudservice/satender.qazi@oracle.com': 'ocid1.user.oc1..aaaaaaaa2ac6ytczzg3vjfzzutxo7vuv3tkixjj7xvcl7dexwqzr2zahni2q',\n",
      " 'oracleidentitycloudservice/savitha.n@oracle.com': 'ocid1.user.oc1..aaaaaaaafwzqfnb5rpggqfujfd7xgx2unukpfaartyxlqur4uucyoubi235a',\n",
      " 'oracleidentitycloudservice/shailendra.hada@oracle.com': 'ocid1.user.oc1..aaaaaaaaab2krelmlaflhzjjtbi5fz5ojfuxae6li6bhn6xjhmmxnzkz7yta',\n",
      " 'oracleidentitycloudservice/shailesh.gupte@oracle.com': 'ocid1.user.oc1..aaaaaaaa7rpsu4qvfspw5mzzvo3baepnkqblqjiqc2753flqyzhbuaakqbya',\n",
      " 'oracleidentitycloudservice/sibendu.das@oracle.com': 'ocid1.user.oc1..aaaaaaaaxtmfgi3zzavuxyoxbd3icy4zmarwjfanvqq5qagzprv5bl7yoy6a',\n",
      " 'oracleidentitycloudservice/siva.krishna@oracle.com': 'ocid1.user.oc1..aaaaaaaamp66sww4t2yslzmaxkojmbaawcj5z3ymu3mrh27rxnf4fwipzntq',\n",
      " 'oracleidentitycloudservice/soumya.dutta@oracle.com': 'ocid1.user.oc1..aaaaaaaakvblihivgo3f2ryn3ca7lspzuagmjlsqqm4ob6iwzdenvkakdlxq',\n",
      " 'oracleidentitycloudservice/sumit.b.bhardwaj@oracle.com': 'ocid1.user.oc1..aaaaaaaagcixmy2tu5qn6c3f5n42dc5vsst6fuv7nbp6ksv3yixjiwvl2zcq',\n",
      " 'oracleidentitycloudservice/suraj.ramesh@oracle.com': 'ocid1.user.oc1..aaaaaaaa5355ngg7kaictyfdg7aenbz2wrgmrj3tu56q33axa5rjo33474wq',\n",
      " 'oracleidentitycloudservice/tarun.ghai@oracle.com': 'ocid1.user.oc1..aaaaaaaaw4qw7tvtn7vmuyh6p2qs5w7rw54ixf2skwoi2untdwvumiyy5vfq',\n",
      " 'oracleidentitycloudservice/trushar.borse@oracle.com': 'ocid1.user.oc1..aaaaaaaapejuc35npr2nwt66biacbc4dxapiz7p3kbzddbd3oev42dsg5iwq',\n",
      " 'oracleidentitycloudservice/unnikrishna.p.panicker@oracle.com': 'ocid1.user.oc1..aaaaaaaahkhjymjah7gyl75nre4gogo7ssknlaturk2ojhmx3a32z4sloujq',\n",
      " 'oracleidentitycloudservice/vaibhav.gawde@oracle.com': 'ocid1.user.oc1..aaaaaaaa57ed3s4b2rf55jrrtghrkymjkowxclszqr47yotydyoandkrrtua',\n",
      " 'oracleidentitycloudservice/vaibhav.sonavane@oracle.com': 'ocid1.user.oc1..aaaaaaaacq3wf6ploxptsm6zpxyseuzits3n5yeepmz3hz7ljvk3zdjxt7fq',\n",
      " 'oracleidentitycloudservice/vamsi.ramakrishnan@oracle.com': 'ocid1.user.oc1..aaaaaaaabzfkee2jqvth3rwslwtiti5vrgr4i2hbz6oqbxqm4vp5xgt3e72a',\n",
      " 'oracleidentitycloudservice/vidyut.verma@oracle.com': 'ocid1.user.oc1..aaaaaaaaxgd45uffoh3liusyhwiuk65rj5cbecde7t3z6tjysmabycp4znha',\n",
      " 'oracleidentitycloudservice/vijosh.ammayath@oracle.com': 'ocid1.user.oc1..aaaaaaaaq4cvrdr73wpaxs3ssq2nejljp6io3djwqj6qdajgpafdq7dx6baa',\n",
      " 'oracleidentitycloudservice/vishal.savji@oracle.com': 'ocid1.user.oc1..aaaaaaaahsvyfoh7jzzniom3lzvosxh3uql6a4tkjkqohsfonojc4k4xuxrq',\n",
      " 'oracleidentitycloudservice/vishal.vb.bhardwaj@oracle.com': 'ocid1.user.oc1..aaaaaaaalltjtm5tdf3ynbxcrftysbnsak6o4wf2fmdqiqpbs3y26lv2zvta',\n",
      " 'oracleidentitycloudservice/vishwanatha.s.handadi@oracle.com': 'ocid1.user.oc1..aaaaaaaabma4u57e2aa4bditnxfr5oqjjvj4m6ajnyoahzwcijry75b7sjlq',\n",
      " 'oracleidentitycloudservice/yusuf.rangwalla@oracle.com': 'ocid1.user.oc1..aaaaaaaa54tp5yddwqop2la6bkcznowmauxyalpeb4dc37htt4ikblvxlwga',\n",
      " 'oracleidentitycloudservice/zain.ali.merchant@oracle.com': 'ocid1.user.oc1..aaaaaaaa4p36z3e525nhmm6ma4qda75wdirivfyviksipv2derg5gkuzbyaa',\n",
      " 'savitha.n@oracle.com': 'ocid1.user.oc1..aaaaaaaa5natzzonxkqbru3auw6xti5g7oc2pztpqtlpox3eqlsivhlt64ba',\n",
      " 'splunk-export-user': 'ocid1.user.oc1..aaaaaaaanmtg6iqavgqjji4obapomnhkn4odybuswxquu7dgdgr2ft425bua'}\n"
     ]
    },
    {
     "data": {
      "application/javascript": [
       "\n",
       "            setTimeout(function() {\n",
       "                var nbb_cell_id = 20;\n",
       "                var nbb_unformatted_code = \"dict_list = create_dict_list()\\n\\n# Compartment Dictionaries\\ncompartment_dict = extract_resource_dict(\\n    dict_list, \\\"Compartment\\\", key=\\\"display_name\\\", value=\\\"resource_ocid\\\"\\n)\\n\\n#Substitute with your tenancy name\\ncompartment_dict.update({\\\"apacinset01\\\": tenancy_id})\\n\\n\\n# VNIC Dictionaries\\nvnic_dict = extract_resource_dict(\\n    dict_list, \\\"Vnic\\\", key=\\\"resource_ocid\\\", value=\\\"display_name\\\"\\n)\\nvnic_subnet_dict = extract_resource_dict(\\n    dict_list, \\\"Vnic\\\", key=\\\"resource_ocid\\\", value=\\\"subnet_id\\\"\\n)\\n\\n# Subnet Dictionaries\\nsubnet_dict = extract_resource_dict(dict_list, \\\"Subnet\\\")\\nsubnet_vcn_dict = extract_resource_dict(\\n    dict_list, \\\"Subnet\\\", key=\\\"resource_ocid\\\", value=\\\"vcn_id\\\"\\n)\\nsubnet_securitylist_dict = extract_resource_dict(\\n    dict_list, \\\"Subnet\\\", key=\\\"resource_ocid\\\", value=\\\"security_list_ids\\\"\\n)\\nsubnet_routetable_dict = extract_resource_dict(\\n    dict_list, \\\"Subnet\\\", key=\\\"resource_ocid\\\", value=\\\"route_table_id\\\"\\n)\\n\\n# Route Table Dictionaries\\nroutetable_dict = extract_resource_dict(\\n    dict_list, \\\"RouteTable\\\", key=\\\"resource_ocid\\\", value=\\\"display_name\\\"\\n)\\nroutetable_vcn_dict = extract_resource_dict(\\n    dict_list, \\\"RouteTable\\\", key=\\\"resource_ocid\\\", value=\\\"vcn_id\\\"\\n)\\n\\n#Security List Dictionaries\\nsecuritylist_dict = extract_resource_dict(dict_list, \\\"SecurityList\\\")\\nsecuritylist_vcn_dict = extract_resource_dict(\\n    dict_list, \\\"SecurityList\\\", key=\\\"resource_ocid\\\", value=\\\"vcn_id\\\"\\n)\\nvcn_dict = extract_resource_dict(dict_list, \\\"Vcn\\\")\\n\\n# Compute Instance\\ninstance_dict = extract_resource_dict(\\n    dict_list, \\\"Instance\\\", key=\\\"resource_ocid\\\", value=\\\"display_name\\\"\\n)\\ninstance_vnic_dict = extract_resource_dict(\\n    dict_list, \\\"Instance\\\", key=\\\"resource_ocid\\\", value=\\\"vnic_attachments\\\"\\n)\\n\\n# Boot Volume Dictionary\\ninstance_bootvolume_dict = extract_resource_dict(\\n    dict_list, \\\"Instance\\\", key=\\\"resource_ocid\\\", value=\\\"boot_volume_attachments\\\"\\n)\\n\\ninstance_volume_dict = extract_resource_dict(\\n    dict_list, \\\"Instance\\\", key=\\\"resource_ocid\\\", value=\\\"volume_attachments\\\"\\n)\\n\\n# Volume Dictionary\\nvolume_dict = extract_resource_dict(\\n    dict_list, \\\"Volume\\\", key=\\\"resource_ocid\\\", value=\\\"display_name\\\"\\n)\\nbootvolume_dict = extract_resource_dict(\\n    dict_list, \\\"BootVolume\\\", key=\\\"resource_ocid\\\", value=\\\"display_name\\\"\\n)\\n\\n# User Group and Group Membership Dictionaries\\nuser_dict = extract_resource_dict(\\n    dict_list, \\\"User\\\", key=\\\"resource_ocid\\\", value=\\\"display_name\\\"\\n)\\n\\nreverse_user_dict =  extract_resource_dict(dict_list, \\\"User\\\", key=\\\"display_name\\\", value=\\\"resource_ocid\\\")\\npprint.pprint(reverse_user_dict)\\n\\ngroup_dict = extract_resource_dict(\\n    dict_list, \\\"Group\\\", key=\\\"resource_ocid\\\", value=\\\"display_name\\\"\\n)\\n\\ngroupmembership_dict = extract_resource_dict(dict_list, \\\"User\\\", key=\\\"resource_ocid\\\", value = \\\"group_memberships\\\")\\n\\n\\n# Volume Backup Dictionaries\\nvolumebackup_dict = extract_resource_dict(\\n    dict_list, \\\"VolumeBackup\\\", key=\\\"resource_ocid\\\", value=\\\"display_name\\\"\\n)\\nvolumebackup_volume_dict = extract_resource_dict(\\n    dict_list, \\\"VolumeBackup\\\", key=\\\"resource_ocid\\\", value=\\\"volume_id\\\"\\n)\\n\\n# DB System Dictionaries\\ndbsystem_dict = extract_resource_dict(\\n    dict_list, \\\"DbSystem\\\", key=\\\"resource_ocid\\\", value=\\\"display_name\\\"\\n)\\ndbsystem_subnet_dict = extract_resource_dict(\\n    dict_list, \\\"DbSystem\\\", key=\\\"resource_ocid\\\", value=\\\"subnet_id\\\"\\n)\";\n",
       "                var nbb_formatted_code = \"dict_list = create_dict_list()\\n\\n# Compartment Dictionaries\\ncompartment_dict = extract_resource_dict(\\n    dict_list, \\\"Compartment\\\", key=\\\"display_name\\\", value=\\\"resource_ocid\\\"\\n)\\n\\n# Substitute with your tenancy name\\ncompartment_dict.update({\\\"apacinset01\\\": tenancy_id})\\n\\n\\n# VNIC Dictionaries\\nvnic_dict = extract_resource_dict(\\n    dict_list, \\\"Vnic\\\", key=\\\"resource_ocid\\\", value=\\\"display_name\\\"\\n)\\nvnic_subnet_dict = extract_resource_dict(\\n    dict_list, \\\"Vnic\\\", key=\\\"resource_ocid\\\", value=\\\"subnet_id\\\"\\n)\\n\\n# Subnet Dictionaries\\nsubnet_dict = extract_resource_dict(dict_list, \\\"Subnet\\\")\\nsubnet_vcn_dict = extract_resource_dict(\\n    dict_list, \\\"Subnet\\\", key=\\\"resource_ocid\\\", value=\\\"vcn_id\\\"\\n)\\nsubnet_securitylist_dict = extract_resource_dict(\\n    dict_list, \\\"Subnet\\\", key=\\\"resource_ocid\\\", value=\\\"security_list_ids\\\"\\n)\\nsubnet_routetable_dict = extract_resource_dict(\\n    dict_list, \\\"Subnet\\\", key=\\\"resource_ocid\\\", value=\\\"route_table_id\\\"\\n)\\n\\n# Route Table Dictionaries\\nroutetable_dict = extract_resource_dict(\\n    dict_list, \\\"RouteTable\\\", key=\\\"resource_ocid\\\", value=\\\"display_name\\\"\\n)\\nroutetable_vcn_dict = extract_resource_dict(\\n    dict_list, \\\"RouteTable\\\", key=\\\"resource_ocid\\\", value=\\\"vcn_id\\\"\\n)\\n\\n# Security List Dictionaries\\nsecuritylist_dict = extract_resource_dict(dict_list, \\\"SecurityList\\\")\\nsecuritylist_vcn_dict = extract_resource_dict(\\n    dict_list, \\\"SecurityList\\\", key=\\\"resource_ocid\\\", value=\\\"vcn_id\\\"\\n)\\nvcn_dict = extract_resource_dict(dict_list, \\\"Vcn\\\")\\n\\n# Compute Instance\\ninstance_dict = extract_resource_dict(\\n    dict_list, \\\"Instance\\\", key=\\\"resource_ocid\\\", value=\\\"display_name\\\"\\n)\\ninstance_vnic_dict = extract_resource_dict(\\n    dict_list, \\\"Instance\\\", key=\\\"resource_ocid\\\", value=\\\"vnic_attachments\\\"\\n)\\n\\n# Boot Volume Dictionary\\ninstance_bootvolume_dict = extract_resource_dict(\\n    dict_list, \\\"Instance\\\", key=\\\"resource_ocid\\\", value=\\\"boot_volume_attachments\\\"\\n)\\n\\ninstance_volume_dict = extract_resource_dict(\\n    dict_list, \\\"Instance\\\", key=\\\"resource_ocid\\\", value=\\\"volume_attachments\\\"\\n)\\n\\n# Volume Dictionary\\nvolume_dict = extract_resource_dict(\\n    dict_list, \\\"Volume\\\", key=\\\"resource_ocid\\\", value=\\\"display_name\\\"\\n)\\nbootvolume_dict = extract_resource_dict(\\n    dict_list, \\\"BootVolume\\\", key=\\\"resource_ocid\\\", value=\\\"display_name\\\"\\n)\\n\\n# User Group and Group Membership Dictionaries\\nuser_dict = extract_resource_dict(\\n    dict_list, \\\"User\\\", key=\\\"resource_ocid\\\", value=\\\"display_name\\\"\\n)\\n\\nreverse_user_dict = extract_resource_dict(\\n    dict_list, \\\"User\\\", key=\\\"display_name\\\", value=\\\"resource_ocid\\\"\\n)\\npprint.pprint(reverse_user_dict)\\n\\ngroup_dict = extract_resource_dict(\\n    dict_list, \\\"Group\\\", key=\\\"resource_ocid\\\", value=\\\"display_name\\\"\\n)\\n\\ngroupmembership_dict = extract_resource_dict(\\n    dict_list, \\\"User\\\", key=\\\"resource_ocid\\\", value=\\\"group_memberships\\\"\\n)\\n\\n\\n# Volume Backup Dictionaries\\nvolumebackup_dict = extract_resource_dict(\\n    dict_list, \\\"VolumeBackup\\\", key=\\\"resource_ocid\\\", value=\\\"display_name\\\"\\n)\\nvolumebackup_volume_dict = extract_resource_dict(\\n    dict_list, \\\"VolumeBackup\\\", key=\\\"resource_ocid\\\", value=\\\"volume_id\\\"\\n)\\n\\n# DB System Dictionaries\\ndbsystem_dict = extract_resource_dict(\\n    dict_list, \\\"DbSystem\\\", key=\\\"resource_ocid\\\", value=\\\"display_name\\\"\\n)\\ndbsystem_subnet_dict = extract_resource_dict(\\n    dict_list, \\\"DbSystem\\\", key=\\\"resource_ocid\\\", value=\\\"subnet_id\\\"\\n)\";\n",
       "                var nbb_cells = Jupyter.notebook.get_cells();\n",
       "                for (var i = 0; i < nbb_cells.length; ++i) {\n",
       "                    if (nbb_cells[i].input_prompt_number == nbb_cell_id) {\n",
       "                        if (nbb_cells[i].get_text() == nbb_unformatted_code) {\n",
       "                             nbb_cells[i].set_text(nbb_formatted_code);\n",
       "                        }\n",
       "                        break;\n",
       "                    }\n",
       "                }\n",
       "            }, 500);\n",
       "            "
      ],
      "text/plain": [
       "<IPython.core.display.Javascript object>"
      ]
     },
     "metadata": {},
     "output_type": "display_data"
    }
   ],
   "source": [
    "dict_list = create_dict_list()\n",
    "\n",
    "# Compartment Dictionaries\n",
    "compartment_dict = extract_resource_dict(\n",
    "    dict_list, \"Compartment\", key=\"display_name\", value=\"resource_ocid\"\n",
    ")\n",
    "\n",
    "#Substitute with your tenancy name\n",
    "compartment_dict.update({\"apacinset01\": tenancy_id})\n",
    "\n",
    "\n",
    "# VNIC Dictionaries\n",
    "vnic_dict = extract_resource_dict(\n",
    "    dict_list, \"Vnic\", key=\"resource_ocid\", value=\"display_name\"\n",
    ")\n",
    "vnic_subnet_dict = extract_resource_dict(\n",
    "    dict_list, \"Vnic\", key=\"resource_ocid\", value=\"subnet_id\"\n",
    ")\n",
    "\n",
    "# Subnet Dictionaries\n",
    "subnet_dict = extract_resource_dict(dict_list, \"Subnet\")\n",
    "subnet_vcn_dict = extract_resource_dict(\n",
    "    dict_list, \"Subnet\", key=\"resource_ocid\", value=\"vcn_id\"\n",
    ")\n",
    "subnet_securitylist_dict = extract_resource_dict(\n",
    "    dict_list, \"Subnet\", key=\"resource_ocid\", value=\"security_list_ids\"\n",
    ")\n",
    "subnet_routetable_dict = extract_resource_dict(\n",
    "    dict_list, \"Subnet\", key=\"resource_ocid\", value=\"route_table_id\"\n",
    ")\n",
    "\n",
    "# Route Table Dictionaries\n",
    "routetable_dict = extract_resource_dict(\n",
    "    dict_list, \"RouteTable\", key=\"resource_ocid\", value=\"display_name\"\n",
    ")\n",
    "routetable_vcn_dict = extract_resource_dict(\n",
    "    dict_list, \"RouteTable\", key=\"resource_ocid\", value=\"vcn_id\"\n",
    ")\n",
    "\n",
    "#Security List Dictionaries\n",
    "securitylist_dict = extract_resource_dict(dict_list, \"SecurityList\")\n",
    "securitylist_vcn_dict = extract_resource_dict(\n",
    "    dict_list, \"SecurityList\", key=\"resource_ocid\", value=\"vcn_id\"\n",
    ")\n",
    "vcn_dict = extract_resource_dict(dict_list, \"Vcn\")\n",
    "\n",
    "# Compute Instance\n",
    "instance_dict = extract_resource_dict(\n",
    "    dict_list, \"Instance\", key=\"resource_ocid\", value=\"display_name\"\n",
    ")\n",
    "instance_vnic_dict = extract_resource_dict(\n",
    "    dict_list, \"Instance\", key=\"resource_ocid\", value=\"vnic_attachments\"\n",
    ")\n",
    "\n",
    "# Boot Volume Dictionary\n",
    "instance_bootvolume_dict = extract_resource_dict(\n",
    "    dict_list, \"Instance\", key=\"resource_ocid\", value=\"boot_volume_attachments\"\n",
    ")\n",
    "\n",
    "instance_volume_dict = extract_resource_dict(\n",
    "    dict_list, \"Instance\", key=\"resource_ocid\", value=\"volume_attachments\"\n",
    ")\n",
    "\n",
    "# Volume Dictionary\n",
    "volume_dict = extract_resource_dict(\n",
    "    dict_list, \"Volume\", key=\"resource_ocid\", value=\"display_name\"\n",
    ")\n",
    "bootvolume_dict = extract_resource_dict(\n",
    "    dict_list, \"BootVolume\", key=\"resource_ocid\", value=\"display_name\"\n",
    ")\n",
    "\n",
    "# User Group and Group Membership Dictionaries\n",
    "user_dict = extract_resource_dict(\n",
    "    dict_list, \"User\", key=\"resource_ocid\", value=\"display_name\"\n",
    ")\n",
    "\n",
    "reverse_user_dict =  extract_resource_dict(dict_list, \"User\", key=\"display_name\", value=\"resource_ocid\")\n",
    "\n",
    "group_dict = extract_resource_dict(\n",
    "    dict_list, \"Group\", key=\"resource_ocid\", value=\"display_name\"\n",
    ")\n",
    "\n",
    "groupmembership_dict = extract_resource_dict(dict_list, \"User\", key=\"resource_ocid\", value = \"group_memberships\")\n",
    "\n",
    "\n",
    "# Volume Backup Dictionaries\n",
    "volumebackup_dict = extract_resource_dict(\n",
    "    dict_list, \"VolumeBackup\", key=\"resource_ocid\", value=\"display_name\"\n",
    ")\n",
    "volumebackup_volume_dict = extract_resource_dict(\n",
    "    dict_list, \"VolumeBackup\", key=\"resource_ocid\", value=\"volume_id\"\n",
    ")\n",
    "\n",
    "# DB System Dictionaries\n",
    "dbsystem_dict = extract_resource_dict(\n",
    "    dict_list, \"DbSystem\", key=\"resource_ocid\", value=\"display_name\"\n",
    ")\n",
    "dbsystem_subnet_dict = extract_resource_dict(\n",
    "    dict_list, \"DbSystem\", key=\"resource_ocid\", value=\"subnet_id\"\n",
    ")\n"
   ]
  },
  {
   "cell_type": "markdown",
   "metadata": {},
   "source": [
    "## Populate Graph\n",
    "* Every Resource is a Node\n",
    "* Resource -> Resource Relationship as an edge"
   ]
  },
  {
   "cell_type": "code",
   "execution_count": 21,
   "metadata": {},
   "outputs": [
    {
     "data": {
      "application/javascript": [
       "\n",
       "            setTimeout(function() {\n",
       "                var nbb_cell_id = 21;\n",
       "                var nbb_unformatted_code = \"g = nx.DiGraph()\\n\\nfor d in dict_list:\\n    flattened_dict = flatten(d, reducer = 'underscore')\\n    g.add_node(node_for_adding=d[\\\"resource_ocid\\\"], DisplayName = flattened_dict[\\\"display_name\\\"], ResourceType = flattened_dict[\\\"resource_type\\\"],CompartmentName = flattened_dict[\\\"compartment_name\\\"], CreatedOn = flattened_dict[\\\"CreatedOn\\\"], CreatedBy = flattened_dict[\\\"CreatedBy\\\"], )\\n\\n\\nfor d in dict_list:\\n    g.add_edge(\\n        compartment_dict[d[\\\"compartment_name\\\"]],\\n        d[\\\"resource_ocid\\\"],\\n        CompartmentName = d[\\\"compartment_name\\\"],)\\n    if d[\\\"CreatedBy\\\"] and d['CreatedBy'] in reverse_user_dict.keys():\\n        g.add_edge(reverse_user_dict[d['CreatedBy']], d['resource_ocid'], CreatedBy = d['CreatedBy'])\\n\\nfor d in dict_list:\\n    if d[\\\"resource_type\\\"] == \\\"Instance\\\":\\n        # For each VNIC attached to Instance\\n        for element in instance_vnic_dict[d[\\\"resource_ocid\\\"]]:\\n            g.add_edge(\\n                d[\\\"resource_ocid\\\"],\\n                element[\\\"vnic_id\\\"],\\n                VnicName = vnic_dict[element[\\\"vnic_id\\\"]],     \\n            )\\n\\n        # Boot Volume attached to Instance\\n        for element in instance_bootvolume_dict[d[\\\"resource_ocid\\\"]]:\\n            g.add_edge(\\n                d[\\\"resource_ocid\\\"],\\n                element[\\\"boot_volume_id\\\"],\\n                BootVolumeName = bootvolume_dict[element[\\\"boot_volume_id\\\"]],\\n            )\\n\\n        # Block Volume attached to Instance\\n        for element in instance_volume_dict[d[\\\"resource_ocid\\\"]]:\\n            g.add_edge(\\n                d[\\\"resource_ocid\\\"],\\n                element[\\\"volume_id\\\"],\\n                VolumeName =volume_dict[element[\\\"volume_id\\\"]],\\n            )\\n\\n    elif d[\\\"resource_type\\\"] == \\\"Vnic\\\":\\n        # Subnet that the VNIC Belongs to\\n        g.add_edge(\\n            vnic_subnet_dict[d[\\\"resource_ocid\\\"]],\\n            d[\\\"resource_ocid\\\"],\\n            SubnetName=subnet_dict[vnic_subnet_dict[d[\\\"resource_ocid\\\"]]],\\n        )\\n\\n    if d[\\\"resource_type\\\"] == \\\"Subnet\\\":\\n        # VCN that the Subnet belongs to .\\n        g.add_edge(\\n            subnet_vcn_dict[d[\\\"resource_ocid\\\"]],\\n            d[\\\"resource_ocid\\\"],\\n            VcnName=vcn_dict[subnet_vcn_dict[d[\\\"resource_ocid\\\"]]],\\n        )\\n\\n        # Route table attached to Subnet\\n        g.add_edge(\\n            subnet_routetable_dict[d[\\\"resource_ocid\\\"]],\\n            d[\\\"resource_ocid\\\"],\\n            RouteTableName = routetable_dict[subnet_routetable_dict[d[\\\"resource_ocid\\\"]]],\\n        )\\n\\n        # For each Security List attached to Subnet\\n        for element in subnet_securitylist_dict[d[\\\"resource_ocid\\\"]]:\\n            g.add_edge(\\n                element,\\n                d[\\\"resource_ocid\\\"],\\n                SubnetName=securitylist_dict[element],\\n            )\\n\\n    #For Each Security List That Belongs to a VCN\\n    elif d[\\\"resource_type\\\"] == \\\"SecurityList\\\":\\n        g.add_edge(\\n            securitylist_vcn_dict[d[\\\"resource_ocid\\\"]],\\n            d[\\\"resource_ocid\\\"],\\n            VcnName = vcn_dict[securitylist_vcn_dict[d[\\\"resource_ocid\\\"]]],\\n        )\\n\\n    # For Each Route Table That Belongs to a VCN\\n    elif d[\\\"resource_type\\\"] == \\\"RouteTable\\\":\\n        g.add_edge(\\n            routetable_vcn_dict[d[\\\"resource_ocid\\\"]],\\n            d[\\\"resource_ocid\\\"],\\n            VcnName =vcn_dict[routetable_vcn_dict[d[\\\"resource_ocid\\\"]]],\\n        )\\n        \\n    elif d[\\\"resource_type\\\"] == \\\"VolumeBackup\\\":\\n        g.add_edge(\\n            volumebackup_volume_dict[d[\\\"resource_ocid\\\"]],\\n            d[\\\"resource_ocid\\\"],\\n            VolumeName =volume_dict[volumebackup_volume_dict[d[\\\"resource_ocid\\\"]]],\\n        )\\n    elif d['resource_type'] == \\\"DbSystem\\\":\\n        g.add_edge(\\n            dbsystem_subnet_dict[d[\\\"resource_ocid\\\"]],\\n            d[\\\"resource_ocid\\\"],\\n            SubnetName =subnet_dict[dbsystem_subnet_dict[d[\\\"resource_ocid\\\"]]],\\n        )\";\n",
       "                var nbb_formatted_code = \"g = nx.DiGraph()\\n\\nfor d in dict_list:\\n    flattened_dict = flatten(d, reducer=\\\"underscore\\\")\\n    g.add_node(\\n        node_for_adding=d[\\\"resource_ocid\\\"],\\n        DisplayName=flattened_dict[\\\"display_name\\\"],\\n        ResourceType=flattened_dict[\\\"resource_type\\\"],\\n        CompartmentName=flattened_dict[\\\"compartment_name\\\"],\\n        CreatedOn=flattened_dict[\\\"CreatedOn\\\"],\\n        CreatedBy=flattened_dict[\\\"CreatedBy\\\"],\\n    )\\n\\n\\nfor d in dict_list:\\n    g.add_edge(\\n        compartment_dict[d[\\\"compartment_name\\\"]],\\n        d[\\\"resource_ocid\\\"],\\n        CompartmentName=d[\\\"compartment_name\\\"],\\n    )\\n    if d[\\\"CreatedBy\\\"] and d[\\\"CreatedBy\\\"] in reverse_user_dict.keys():\\n        g.add_edge(\\n            reverse_user_dict[d[\\\"CreatedBy\\\"]],\\n            d[\\\"resource_ocid\\\"],\\n            CreatedBy=d[\\\"CreatedBy\\\"],\\n        )\\n\\nfor d in dict_list:\\n    if d[\\\"resource_type\\\"] == \\\"Instance\\\":\\n        # For each VNIC attached to Instance\\n        for element in instance_vnic_dict[d[\\\"resource_ocid\\\"]]:\\n            g.add_edge(\\n                d[\\\"resource_ocid\\\"],\\n                element[\\\"vnic_id\\\"],\\n                VnicName=vnic_dict[element[\\\"vnic_id\\\"]],\\n            )\\n\\n        # Boot Volume attached to Instance\\n        for element in instance_bootvolume_dict[d[\\\"resource_ocid\\\"]]:\\n            g.add_edge(\\n                d[\\\"resource_ocid\\\"],\\n                element[\\\"boot_volume_id\\\"],\\n                BootVolumeName=bootvolume_dict[element[\\\"boot_volume_id\\\"]],\\n            )\\n\\n        # Block Volume attached to Instance\\n        for element in instance_volume_dict[d[\\\"resource_ocid\\\"]]:\\n            g.add_edge(\\n                d[\\\"resource_ocid\\\"],\\n                element[\\\"volume_id\\\"],\\n                VolumeName=volume_dict[element[\\\"volume_id\\\"]],\\n            )\\n\\n    elif d[\\\"resource_type\\\"] == \\\"Vnic\\\":\\n        # Subnet that the VNIC Belongs to\\n        g.add_edge(\\n            vnic_subnet_dict[d[\\\"resource_ocid\\\"]],\\n            d[\\\"resource_ocid\\\"],\\n            SubnetName=subnet_dict[vnic_subnet_dict[d[\\\"resource_ocid\\\"]]],\\n        )\\n\\n    if d[\\\"resource_type\\\"] == \\\"Subnet\\\":\\n        # VCN that the Subnet belongs to .\\n        g.add_edge(\\n            subnet_vcn_dict[d[\\\"resource_ocid\\\"]],\\n            d[\\\"resource_ocid\\\"],\\n            VcnName=vcn_dict[subnet_vcn_dict[d[\\\"resource_ocid\\\"]]],\\n        )\\n\\n        # Route table attached to Subnet\\n        g.add_edge(\\n            subnet_routetable_dict[d[\\\"resource_ocid\\\"]],\\n            d[\\\"resource_ocid\\\"],\\n            RouteTableName=routetable_dict[subnet_routetable_dict[d[\\\"resource_ocid\\\"]]],\\n        )\\n\\n        # For each Security List attached to Subnet\\n        for element in subnet_securitylist_dict[d[\\\"resource_ocid\\\"]]:\\n            g.add_edge(\\n                element, d[\\\"resource_ocid\\\"], SubnetName=securitylist_dict[element],\\n            )\\n\\n    # For Each Security List That Belongs to a VCN\\n    elif d[\\\"resource_type\\\"] == \\\"SecurityList\\\":\\n        g.add_edge(\\n            securitylist_vcn_dict[d[\\\"resource_ocid\\\"]],\\n            d[\\\"resource_ocid\\\"],\\n            VcnName=vcn_dict[securitylist_vcn_dict[d[\\\"resource_ocid\\\"]]],\\n        )\\n\\n    # For Each Route Table That Belongs to a VCN\\n    elif d[\\\"resource_type\\\"] == \\\"RouteTable\\\":\\n        g.add_edge(\\n            routetable_vcn_dict[d[\\\"resource_ocid\\\"]],\\n            d[\\\"resource_ocid\\\"],\\n            VcnName=vcn_dict[routetable_vcn_dict[d[\\\"resource_ocid\\\"]]],\\n        )\\n\\n    elif d[\\\"resource_type\\\"] == \\\"VolumeBackup\\\":\\n        g.add_edge(\\n            volumebackup_volume_dict[d[\\\"resource_ocid\\\"]],\\n            d[\\\"resource_ocid\\\"],\\n            VolumeName=volume_dict[volumebackup_volume_dict[d[\\\"resource_ocid\\\"]]],\\n        )\\n    elif d[\\\"resource_type\\\"] == \\\"DbSystem\\\":\\n        g.add_edge(\\n            dbsystem_subnet_dict[d[\\\"resource_ocid\\\"]],\\n            d[\\\"resource_ocid\\\"],\\n            SubnetName=subnet_dict[dbsystem_subnet_dict[d[\\\"resource_ocid\\\"]]],\\n        )\";\n",
       "                var nbb_cells = Jupyter.notebook.get_cells();\n",
       "                for (var i = 0; i < nbb_cells.length; ++i) {\n",
       "                    if (nbb_cells[i].input_prompt_number == nbb_cell_id) {\n",
       "                        if (nbb_cells[i].get_text() == nbb_unformatted_code) {\n",
       "                             nbb_cells[i].set_text(nbb_formatted_code);\n",
       "                        }\n",
       "                        break;\n",
       "                    }\n",
       "                }\n",
       "            }, 500);\n",
       "            "
      ],
      "text/plain": [
       "<IPython.core.display.Javascript object>"
      ]
     },
     "metadata": {},
     "output_type": "display_data"
    }
   ],
   "source": [
    "g = nx.DiGraph()\n",
    "\n",
    "for d in dict_list:\n",
    "    flattened_dict = flatten(d, reducer = 'underscore')\n",
    "    g.add_node(node_for_adding=d[\"resource_ocid\"], DisplayName = flattened_dict[\"display_name\"], ResourceType = flattened_dict[\"resource_type\"],CompartmentName = flattened_dict[\"compartment_name\"], CreatedOn = flattened_dict[\"CreatedOn\"], CreatedBy = flattened_dict[\"CreatedBy\"], )\n",
    "\n",
    "\n",
    "for d in dict_list:\n",
    "    g.add_edge(\n",
    "        compartment_dict[d[\"compartment_name\"]],\n",
    "        d[\"resource_ocid\"],\n",
    "        CompartmentName = d[\"compartment_name\"],)\n",
    "    if d[\"CreatedBy\"] != 'scim-service':\n",
    "        d['CreatedBy']\n",
    "        g.add_edge(reverse_user_dict[d['CreatedBy']], d['resource_ocid'], CreatedBy = d['CreatedBy'])\n",
    "\n",
    "for d in dict_list:\n",
    "    if d[\"resource_type\"] == \"Instance\":\n",
    "        # For each VNIC attached to Instance\n",
    "        for element in instance_vnic_dict[d[\"resource_ocid\"]]:\n",
    "            g.add_edge(\n",
    "                d[\"resource_ocid\"],\n",
    "                element[\"vnic_id\"],\n",
    "                VnicName = vnic_dict[element[\"vnic_id\"]],     \n",
    "            )\n",
    "\n",
    "        # Boot Volume attached to Instance\n",
    "        for element in instance_bootvolume_dict[d[\"resource_ocid\"]]:\n",
    "            g.add_edge(\n",
    "                d[\"resource_ocid\"],\n",
    "                element[\"boot_volume_id\"],\n",
    "                BootVolumeName = bootvolume_dict[element[\"boot_volume_id\"]],\n",
    "            )\n",
    "\n",
    "        # Block Volume attached to Instance\n",
    "        for element in instance_volume_dict[d[\"resource_ocid\"]]:\n",
    "            g.add_edge(\n",
    "                d[\"resource_ocid\"],\n",
    "                element[\"volume_id\"],\n",
    "                VolumeName =volume_dict[element[\"volume_id\"]],\n",
    "            )\n",
    "\n",
    "    elif d[\"resource_type\"] == \"Vnic\":\n",
    "        # Subnet that the VNIC Belongs to\n",
    "        g.add_edge(\n",
    "            vnic_subnet_dict[d[\"resource_ocid\"]],\n",
    "            d[\"resource_ocid\"],\n",
    "            SubnetName=subnet_dict[vnic_subnet_dict[d[\"resource_ocid\"]]],\n",
    "        )\n",
    "\n",
    "    if d[\"resource_type\"] == \"Subnet\":\n",
    "        # VCN that the Subnet belongs to .\n",
    "        g.add_edge(\n",
    "            subnet_vcn_dict[d[\"resource_ocid\"]],\n",
    "            d[\"resource_ocid\"],\n",
    "            VcnName=vcn_dict[subnet_vcn_dict[d[\"resource_ocid\"]]],\n",
    "        )\n",
    "\n",
    "        # Route table attached to Subnet\n",
    "        g.add_edge(\n",
    "            subnet_routetable_dict[d[\"resource_ocid\"]],\n",
    "            d[\"resource_ocid\"],\n",
    "            RouteTableName = routetable_dict[subnet_routetable_dict[d[\"resource_ocid\"]]],\n",
    "        )\n",
    "\n",
    "        # For each Security List attached to Subnet\n",
    "        for element in subnet_securitylist_dict[d[\"resource_ocid\"]]:\n",
    "            g.add_edge(\n",
    "                element,\n",
    "                d[\"resource_ocid\"],\n",
    "                SubnetName=securitylist_dict[element],\n",
    "            )\n",
    "\n",
    "    #For Each Security List That Belongs to a VCN\n",
    "    elif d[\"resource_type\"] == \"SecurityList\":\n",
    "        g.add_edge(\n",
    "            securitylist_vcn_dict[d[\"resource_ocid\"]],\n",
    "            d[\"resource_ocid\"],\n",
    "            VcnName = vcn_dict[securitylist_vcn_dict[d[\"resource_ocid\"]]],\n",
    "        )\n",
    "\n",
    "    # For Each Route Table That Belongs to a VCN\n",
    "    elif d[\"resource_type\"] == \"RouteTable\":\n",
    "        g.add_edge(\n",
    "            routetable_vcn_dict[d[\"resource_ocid\"]],\n",
    "            d[\"resource_ocid\"],\n",
    "            VcnName =vcn_dict[routetable_vcn_dict[d[\"resource_ocid\"]]],\n",
    "        )\n",
    "        \n",
    "    elif d[\"resource_type\"] == \"VolumeBackup\":\n",
    "        g.add_edge(\n",
    "            volumebackup_volume_dict[d[\"resource_ocid\"]],\n",
    "            d[\"resource_ocid\"],\n",
    "            VolumeName =volume_dict[volumebackup_volume_dict[d[\"resource_ocid\"]]],\n",
    "        )\n",
    "    elif d['resource_type'] == \"DbSystem\":\n",
    "        g.add_edge(\n",
    "            dbsystem_subnet_dict[d[\"resource_ocid\"]],\n",
    "            d[\"resource_ocid\"],\n",
    "            SubnetName =subnet_dict[dbsystem_subnet_dict[d[\"resource_ocid\"]]],\n",
    "        )"
   ]
  },
  {
   "cell_type": "markdown",
   "metadata": {},
   "source": [
    "### Print Graph Information"
   ]
  },
  {
   "cell_type": "code",
   "execution_count": 22,
   "metadata": {},
   "outputs": [
    {
     "name": "stdout",
     "output_type": "stream",
     "text": [
      "Name: \n",
      "Type: DiGraph\n",
      "Number of nodes: 1512\n",
      "Number of edges: 3123\n",
      "Average in degree:   2.0655\n",
      "Average out degree:   2.0655\n",
      "Network density: 0.001366959755444203\n"
     ]
    },
    {
     "data": {
      "application/javascript": [
       "\n",
       "            setTimeout(function() {\n",
       "                var nbb_cell_id = 22;\n",
       "                var nbb_unformatted_code = \"print(nx.info(g))\\ndensity = nx.density(g)\\nprint(\\\"Network density:\\\", density)\";\n",
       "                var nbb_formatted_code = \"print(nx.info(g))\\ndensity = nx.density(g)\\nprint(\\\"Network density:\\\", density)\";\n",
       "                var nbb_cells = Jupyter.notebook.get_cells();\n",
       "                for (var i = 0; i < nbb_cells.length; ++i) {\n",
       "                    if (nbb_cells[i].input_prompt_number == nbb_cell_id) {\n",
       "                        if (nbb_cells[i].get_text() == nbb_unformatted_code) {\n",
       "                             nbb_cells[i].set_text(nbb_formatted_code);\n",
       "                        }\n",
       "                        break;\n",
       "                    }\n",
       "                }\n",
       "            }, 500);\n",
       "            "
      ],
      "text/plain": [
       "<IPython.core.display.Javascript object>"
      ]
     },
     "metadata": {},
     "output_type": "display_data"
    }
   ],
   "source": [
    "print(nx.info(g))\n",
    "density = nx.density(g)\n",
    "print(\"Network density:\", density)"
   ]
  },
  {
   "cell_type": "markdown",
   "metadata": {},
   "source": [
    "# Export Network Graph to GraphML"
   ]
  },
  {
   "cell_type": "code",
   "execution_count": 23,
   "metadata": {},
   "outputs": [
    {
     "data": {
      "application/javascript": [
       "\n",
       "            setTimeout(function() {\n",
       "                var nbb_cell_id = 23;\n",
       "                var nbb_unformatted_code = \"nx.write_graphml(g, 'g.graphml')\";\n",
       "                var nbb_formatted_code = \"nx.write_graphml(g, \\\"g.graphml\\\")\";\n",
       "                var nbb_cells = Jupyter.notebook.get_cells();\n",
       "                for (var i = 0; i < nbb_cells.length; ++i) {\n",
       "                    if (nbb_cells[i].input_prompt_number == nbb_cell_id) {\n",
       "                        if (nbb_cells[i].get_text() == nbb_unformatted_code) {\n",
       "                             nbb_cells[i].set_text(nbb_formatted_code);\n",
       "                        }\n",
       "                        break;\n",
       "                    }\n",
       "                }\n",
       "            }, 500);\n",
       "            "
      ],
      "text/plain": [
       "<IPython.core.display.Javascript object>"
      ]
     },
     "metadata": {},
     "output_type": "display_data"
    }
   ],
   "source": [
    "nx.write_graphml(g, 'g.graphml')"
   ]
  },
  {
   "cell_type": "markdown",
   "metadata": {},
   "source": [
    "## Use Network Analysis to Find Neighbors"
   ]
  },
  {
   "cell_type": "code",
   "execution_count": null,
   "metadata": {},
   "outputs": [],
   "source": [
    "n = g.neighbors(\"ocid1.vcn.oc1.phx.amaaaaaa43cggciahbua26k7q5ly5arbjxfnibbapudkaiyn5h6spyhofs6q\")\n",
    "for element in n :\n",
    "    print(list(g.neighbors(element)))"
   ]
  },
  {
   "cell_type": "markdown",
   "metadata": {},
   "source": [
    "# For Non-Graph Analytics"
   ]
  },
  {
   "cell_type": "markdown",
   "metadata": {},
   "source": [
    "## Data Load into Data Frame\n",
    "- Load JSON Data and Append it to Data Frame "
   ]
  },
  {
   "cell_type": "code",
   "execution_count": null,
   "metadata": {},
   "outputs": [],
   "source": [
    "resource_dist_df = pd.DataFrame()\n",
    "for file_name in glob.glob('./region_distribution*'):\n",
    "    temp = pd.read_json(file_name)\n",
    "    resource_dist_df = resource_dist_df.append(temp, ignore_index=True, sort=False)       \n",
    "pprint.pprint(resource_dist_df.head())"
   ]
  },
  {
   "cell_type": "markdown",
   "metadata": {},
   "source": [
    "## Sample Data Manipulation to Calculate Number of Active Days \n",
    "- A very important factor in our tenancy was to limit the number of active days and turn of resources as required.\n",
    "- Hence this calculation"
   ]
  },
  {
   "cell_type": "code",
   "execution_count": null,
   "metadata": {},
   "outputs": [],
   "source": [
    "resource_dist_df[\"Qty\"] = 1\n",
    "resource_dist_df[\"TimeNow\"] = datetime.datetime.now(datetime.timezone.utc)\n",
    "resource_dist_df[\"CreatedOn\"] = pd.to_datetime(resource_dist_df[\"CreatedOn\"])\n",
    "resource_dist_df[\"ActiveForDays\"] = resource_dist_df[\"TimeNow\"].sub(\n",
    "    resource_dist_df[\"CreatedOn\"], axis=0\n",
    ")"
   ]
  },
  {
   "cell_type": "markdown",
   "metadata": {},
   "source": [
    "## Further Manipulation\n",
    "* Convert the Results to String for Easy Visualization"
   ]
  },
  {
   "cell_type": "code",
   "execution_count": null,
   "metadata": {},
   "outputs": [],
   "source": [
    "resource_dist_df[\"TimeNow\"] = resource_dist_df[\"TimeNow\"].astype(str)\n",
    "resource_dist_df[\"CreatedOn\"] = resource_dist_df[\"CreatedOn\"].astype(str)\n",
    "resource_dist_df[\"ActiveForDays\"] = resource_dist_df[\"ActiveForDays\"].astype(str)"
   ]
  },
  {
   "cell_type": "markdown",
   "metadata": {},
   "source": [
    "## Export Data to \n",
    "* JSON\n",
    "* CSV"
   ]
  },
  {
   "cell_type": "code",
   "execution_count": null,
   "metadata": {},
   "outputs": [],
   "source": [
    "csv = resource_dist_df.to_csv(\"processed_data.csv\", sep=\",\", header=True, index=True)\n",
    "out = resource_dist_df.to_json(orient=\"index\")\n",
    "with open(\"processed_json.json\", \"w\") as f:\n",
    "    f.write(out)"
   ]
  },
  {
   "cell_type": "code",
   "execution_count": null,
   "metadata": {},
   "outputs": [],
   "source": []
  }
 ],
 "metadata": {
  "kernelspec": {
   "display_name": "Python 3",
   "language": "python",
   "name": "python3"
  },
  "language_info": {
   "codemirror_mode": {
    "name": "ipython",
    "version": 3
   },
   "file_extension": ".py",
   "mimetype": "text/x-python",
   "name": "python",
   "nbconvert_exporter": "python",
   "pygments_lexer": "ipython3",
   "version": "3.6.8"
  }
 },
 "nbformat": 4,
 "nbformat_minor": 4
}
