{
 "cells": [
  {
   "cell_type": "markdown",
   "metadata": {},
   "source": [
    "## Import all necessary Libraries\n",
    "* **OCI** - Python Library that converts Python Commands into OCI API Requests\n",
    "* **JSON** - For JSON to Python Dictionary Conversion , File read , and File write\n",
    "* **PPRINT** - Module for pretty printing all text while debugging\n",
    "* **DATETIME** - Used to Convert String Datetime Inputs from OCI API into datetime objects for carrying out datetime arithmetic"
   ]
  },
  {
   "cell_type": "code",
   "execution_count": 6,
   "metadata": {},
   "outputs": [],
   "source": [
    "import oci\n",
    "import json\n",
    "import pprint\n",
    "import pandas as pd\n",
    "import datetime\n",
    "from operator import itemgetter\n",
    "import asyncio\n",
    "import time\n",
    "import logging\n",
    "import concurrent.futures as cf"
   ]
  },
  {
   "cell_type": "markdown",
   "metadata": {},
   "source": [
    "## Helper Functions\n",
    "* Some of the helper functions written to make the code cleaner"
   ]
  },
  {
   "cell_type": "code",
   "execution_count": 7,
   "metadata": {},
   "outputs": [],
   "source": [
    "from helpers import list_region_subscriptions\n",
    "from helpers import fetch_compartment_heirarchy\n",
    "from helpers import search_region_and_populate\n",
    "from oci_clients import clients_init"
   ]
  },
  {
   "cell_type": "markdown",
   "metadata": {},
   "source": [
    "## Define Resource List to Query\n",
    "* Initialize Clients that will be leveraged\n",
    "* Conditional variables - Interested in qeurying for active resources\n",
    "* Using || Symbol to make sure we fetch resources either in Active, Running or Available State\n",
    "\n",
    "## Supported Resources in Search\n",
    "* [List of Supported Resources](https://docs.cloud.oracle.com/en-us/iaas/Content/Search/Concepts/queryoverview.htm#resourcetypes)"
   ]
  },
  {
   "cell_type": "code",
   "execution_count": 8,
   "metadata": {},
   "outputs": [],
   "source": [
    "resourcetype_list = [\n",
    "    \"instance\",\n",
    "    \"dbsystem\",\n",
    "    \"vmcluster\",\n",
    "    \"odainstance\",\n",
    "    \"bootvolume\",\n",
    "    \"bootvolumebackup\",\n",
    "    \"volumebackup\",\n",
    "    \"volumebackuppolicy\",\n",
    "    \"volume\",\n",
    "    \"datascienceproject\",\n",
    "    \"datasciencemodel\",\n",
    "    \"datasciencenotebooksession\",\n",
    "    \"datacatalog\",\n",
    "    \"analyticsinstance\",\n",
    "    \"autonomousdatabase\",\n",
    "    \"integrationinstance\",\n",
    "    \"vcn\",\n",
    "    \"subnet\",\n",
    "    \"vnic\",\n",
    "    \"securitylist\",\n",
    "    \"routetable\",\n",
    "    \"natgateway\",\n",
    "    \"servicegateway\",\n",
    "    \"onstopic\",\n",
    "    \"onssubscription\",\n",
    "    \"stream\",\n",
    "    \"connectharness\",\n",
    "    \"bucket\",\n",
    "    \"vault\",\n",
    "    \"filesystem\",\n",
    "    \"apigateway\",\n",
    "    \"apideployment\",\n",
    "]\n",
    "condition_list = [\n",
    "    \"lifecycleState = 'RUNNING'\",\n",
    "    \"lifecycleState = 'AVAILABLE'\",\n",
    "    \"lifecycleState = 'ACTIVE'\",\n",
    "]\n",
    "resourceString = (\", \").join(resourcetype_list)\n",
    "conditionString = (\" || \").join(condition_list)"
   ]
  },
  {
   "cell_type": "markdown",
   "metadata": {},
   "source": [
    "## Supported Clients & Resources\n",
    "- Search provides the list of OCIDs based on the query string \n",
    "- Use the OCIDs to drill down into the resources further to understand your tenancy better\n",
    " - **Identity Client** - To understand how many regions ( Data Center Geographies, the tenancy is subscribed to )\n",
    " - **Search Client** - To fetch all resources that satisfy query conditions\n",
    " - **Compute Client** - To Drill down into compute resources for Compute/VM/Bare metal server specific Information\n",
    " - **Database Client** -  To Drill down into database resources for Database Specific Information \n",
    " - **Analytics Client** - To Drill down into analytics resources for Analytics Instance Specific Information\n",
    " - **VCN Client** - To Drill down information of VCN, Subnets, LPGs, DRGs, Load Balancers etc. \n",
    " - **Notifications Client** - To Drill down on Information on Notification Topics, Subscriptions etc. \n",
    " - **API-GW Client** - To Drill down on API Gateway & API Deployments.\n",
    " - **Block Storage Client** - To Drill down on Block Volumes and Boot Volumes.\n",
    " - **Object Storage Client** - To Drill down on Object Storage Solution.\n",
    " - **Streams Client** - To Drill down on Streams, kafka Connect harness etc. "
   ]
  },
  {
   "cell_type": "markdown",
   "metadata": {},
   "source": [
    "## Setup the OCI Config\n",
    "* Read the OCI Config from the default Path / provide the path where the config file is available"
   ]
  },
  {
   "cell_type": "code",
   "execution_count": 9,
   "metadata": {
    "scrolled": true
   },
   "outputs": [],
   "source": [
    "config = oci.config.from_file()\n",
    "tenancy_id = config[\"tenancy\"]"
   ]
  },
  {
   "cell_type": "markdown",
   "metadata": {},
   "source": [
    "## List all Regions Subscribed in Tenancy\n",
    " - **Search** endpoints are regional and hence we will iterate asynchronously over all regions"
   ]
  },
  {
   "cell_type": "code",
   "execution_count": 10,
   "metadata": {},
   "outputs": [
    {
     "name": "stdout",
     "output_type": "stream",
     "text": [
      "'Fetching all regions in tenancy'\n",
      "(\"List of regions subscribed to : ['ap-mumbai-1', 'eu-frankfurt-1', \"\n",
      " \"'ap-hyderabad-1', 'us-phoenix-1']\")\n"
     ]
    }
   ],
   "source": [
    "region_names = list_region_subscriptions(config)"
   ]
  },
  {
   "cell_type": "markdown",
   "metadata": {},
   "source": [
    "## Fetch Compartment Heirarchy\n",
    " - **Compartment** is an IAM resource and is Global\n",
    " - **Compartment_KV** - Lookup table between Compartment OCID and Compartment name\n",
    " - **Compartment Parent OCID  KV** - Lookup table between Compartment OCID, Parent Compartment OCID"
   ]
  },
  {
   "cell_type": "code",
   "execution_count": 11,
   "metadata": {},
   "outputs": [
    {
     "name": "stdout",
     "output_type": "stream",
     "text": [
      "'Populate Compartment Herirachies in Tenancy'\n"
     ]
    }
   ],
   "source": [
    "compartment_kv, compartment_parent_ocid_kv = fetch_compartment_heirarchy(config)"
   ]
  },
  {
   "cell_type": "markdown",
   "metadata": {},
   "source": [
    "## Mark Start of Execution\n",
    "Print Start Time and end time for populating the entire tenancy tree"
   ]
  },
  {
   "cell_type": "code",
   "execution_count": 12,
   "metadata": {},
   "outputs": [
    {
     "name": "stdout",
     "output_type": "stream",
     "text": [
      "'Start Time : Apr 07 2020 13:22:52'\n"
     ]
    }
   ],
   "source": [
    "pprint.pprint(\"Start Time : {}\".format(time.strftime(\"%b %d %Y %H:%M:%S\",time.localtime())))"
   ]
  },
  {
   "cell_type": "markdown",
   "metadata": {},
   "source": [
    "## Search and Populate\n",
    "The Search Region and Populate Function has two stages\n",
    "1. Fetch the search results based on search query provided\n",
    "2. Use the Search result to drill down resource specific information\n",
    "3. Consolidate both and populate a JSON Tree . "
   ]
  },
  {
   "cell_type": "code",
   "execution_count": 13,
   "metadata": {},
   "outputs": [],
   "source": [
    "executor = cf.ThreadPoolExecutor( max_workers=20,)\n",
    "returnFlag = [search_region_and_populate(executor, config, region_name, resourceString, conditionString, compartment_kv, compartment_parent_ocid_kv) for region_name in region_names]"
   ]
  },
  {
   "cell_type": "markdown",
   "metadata": {},
   "source": [
    "## Asynchronous Parallelism\n",
    "- Concurrent Futures is used to execute all mutually exclusive tasks as separate Threads\n",
    "- AsyncIO.gather is used to concurrently spin up asynchronous non-blocking calls to multiple API endpoints. "
   ]
  },
  {
   "cell_type": "code",
   "execution_count": 14,
   "metadata": {},
   "outputs": [
    {
     "name": "stdout",
     "output_type": "stream",
     "text": [
      "'Initializing Resource Specific Clients & Regions '\n",
      "'Initialize Search Client in Region : eu-frankfurt-1'\n",
      "'Initialize Compute Client in Region : eu-frankfurt-1'\n",
      "'Initialize DB Client in Region : eu-frankfurt-1'\n",
      "'Initialize Analytics Client in Region : eu-frankfurt-1'\n",
      "'Initialize Networking Client in Region : eu-frankfurt-1'\n",
      "'Initialize Data Science Client in Region : eu-frankfurt-1'\n",
      "'Initialize Block Storage Client in Region : eu-frankfurt-1'\n",
      "'Initialize Object Storage Client in Region : eu-frankfurt-1'\n",
      "'Initialize Notifications Client in Region : eu-frankfurt-1'\n",
      "'Initialize API-GW Client in Region : eu-frankfurt-1'\n",
      "'Initialize Streaming Client in Region : eu-frankfurt-1'\n",
      "'Initialize Functions Client in Region : eu-frankfurt-1'\n",
      "'Initialize Integration Client in Region : eu-frankfurt-1'\n",
      "'Initialize Vaults Client in Region : eu-frankfurt-1'\n",
      "'Initialize Oracle Digital Assistant Client in Region : eu-frankfurt-1'\n",
      "'Initialize Data Catalog Client in Region : eu-frankfurt-1'\n",
      "'Initialize File System Client in Region : eu-frankfurt-1'\n",
      "'Populated Compute Shapes for region eu-frankfurt-1'\n",
      "'Generated Raw Search Result JSON for region: eu-frankfurt-1'\n",
      "'Initializing Resource Specific Clients & Regions '\n",
      "'Initialize Search Client in Region : ap-mumbai-1'\n",
      "'Initialize Compute Client in Region : ap-mumbai-1'\n",
      "'Initialize DB Client in Region : ap-mumbai-1'\n",
      "'Initialize Analytics Client in Region : ap-mumbai-1'\n",
      "'Initialize Networking Client in Region : ap-mumbai-1'\n",
      "'Initialize Data Science Client in Region : ap-mumbai-1'\n",
      "'Initialize Block Storage Client in Region : ap-mumbai-1'\n",
      "'Initialize Object Storage Client in Region : ap-mumbai-1'\n",
      "'Initialize Notifications Client in Region : ap-mumbai-1'\n",
      "'Initialize API-GW Client in Region : ap-mumbai-1'\n",
      "'Initialize Streaming Client in Region : ap-mumbai-1'\n",
      "'Initialize Functions Client in Region : ap-mumbai-1'\n",
      "'Initialize Integration Client in Region : ap-mumbai-1'\n",
      "'Initialize Vaults Client in Region : ap-mumbai-1'\n",
      "'Initialize Oracle Digital Assistant Client in Region : ap-mumbai-1'\n",
      "'Initialize Data Catalog Client in Region : ap-mumbai-1'\n",
      "'Initialize File System Client in Region : ap-mumbai-1'\n",
      "'Populated Compute Shapes for region ap-mumbai-1'\n",
      "'Generated Raw Search Result JSON for region: ap-mumbai-1'\n",
      "'Initializing Resource Specific Clients & Regions '\n",
      "'Initialize Search Client in Region : us-phoenix-1'\n",
      "'Initialize Compute Client in Region : us-phoenix-1'\n",
      "'Initialize DB Client in Region : us-phoenix-1'\n",
      "'Initialize Analytics Client in Region : us-phoenix-1'\n",
      "'Initialize Networking Client in Region : us-phoenix-1'\n",
      "'Initialize Data Science Client in Region : us-phoenix-1'\n",
      "'Initialize Block Storage Client in Region : us-phoenix-1'\n",
      "'Initialize Object Storage Client in Region : us-phoenix-1'\n",
      "'Initialize Notifications Client in Region : us-phoenix-1'\n",
      "'Initialize API-GW Client in Region : us-phoenix-1'\n",
      "'Initialize Streaming Client in Region : us-phoenix-1'\n",
      "'Initialize Functions Client in Region : us-phoenix-1'\n",
      "'Initialize Integration Client in Region : us-phoenix-1'\n",
      "'Initialize Vaults Client in Region : us-phoenix-1'\n",
      "'Initialize Oracle Digital Assistant Client in Region : us-phoenix-1'\n",
      "'Initialize Data Catalog Client in Region : us-phoenix-1'\n",
      "'Initialize File System Client in Region : us-phoenix-1'\n",
      "'Populated Compute Shapes for region us-phoenix-1'\n",
      "'Generated Raw Search Result JSON for region: us-phoenix-1'\n",
      "'Generated Region Distribution JSON for region: eu-frankfurt-1'\n",
      "'Generated Region Distribution JSON for region: ap-mumbai-1'\n",
      "'Generated Region Distribution JSON for region: us-phoenix-1'\n"
     ]
    },
    {
     "data": {
      "text/plain": [
       "[None, None, None, None]"
      ]
     },
     "execution_count": 14,
     "metadata": {},
     "output_type": "execute_result"
    }
   ],
   "source": [
    "await asyncio.gather(*(returnFlag))"
   ]
  },
  {
   "cell_type": "markdown",
   "metadata": {},
   "source": [
    "## Mark End of Execution\n",
    "Print End Time for populating the entire tenancy tree"
   ]
  },
  {
   "cell_type": "code",
   "execution_count": 15,
   "metadata": {},
   "outputs": [
    {
     "name": "stdout",
     "output_type": "stream",
     "text": [
      "'End Time : Apr 07 2020 13:23:46'\n"
     ]
    }
   ],
   "source": [
    "pprint.pprint(\"End Time : {}\".format(time.strftime(\"%b %d %Y %H:%M:%S\",time.localtime())))"
   ]
  },
  {
   "cell_type": "markdown",
   "metadata": {},
   "source": [
    "## Data Load into Data Frame\n",
    "- Load JSON Data and Append it to Data Frame "
   ]
  },
  {
   "cell_type": "code",
   "execution_count": 19,
   "metadata": {},
   "outputs": [
    {
     "name": "stdout",
     "output_type": "stream",
     "text": [
      "        region    availability_domain   resource_type shape OCPU_Qty  \\\n",
      "0  ap-mumbai-1  VPLM:AP-MUMBAI-1-AD-1      BootVolume   N/A      N/A   \n",
      "1  ap-mumbai-1                   None    SecurityList   N/A      N/A   \n",
      "2  ap-mumbai-1                   None  ServiceGateway   N/A      N/A   \n",
      "3  ap-mumbai-1                   None             Vcn   N/A      N/A   \n",
      "4  ap-mumbai-1                   None          Subnet   N/A      N/A   \n",
      "\n",
      "  license_model                        display_name  \\\n",
      "0           N/A                   DC1 (Boot Volume)   \n",
      "1           N/A     Default Security List for d3vcn   \n",
      "2           N/A  Service Gateway-windows_addemo_vcn   \n",
      "3           N/A                               d3vcn   \n",
      "4           N/A   Private Subnet-windows_addemo_vcn   \n",
      "\n",
      "                                       resource_ocid  \\\n",
      "0  ocid1.bootvolume.oc1.ap-mumbai-1.abrg6ljrwsqsb...   \n",
      "1  ocid1.securitylist.oc1.ap-mumbai-1.aaaaaaaawsv...   \n",
      "2  ocid1.servicegateway.oc1.ap-mumbai-1.aaaaaaaaq...   \n",
      "3  ocid1.vcn.oc1.ap-mumbai-1.amaaaaaa43cggcia2g22...   \n",
      "4  ocid1.subnet.oc1.ap-mumbai-1.aaaaaaaa7bcvrnnm2...   \n",
      "\n",
      "                                      compartment_id        compartment_name  \\\n",
      "0  ocid1.compartment.oc1..aaaaaaaaafghvvlnxpy2egv...        sanjeev_gopinath   \n",
      "1  ocid1.compartment.oc1..aaaaaaaacf6wxi3x7hujed4...  datthathiri_srinivasan   \n",
      "2  ocid1.compartment.oc1..aaaaaaaaafghvvlnxpy2egv...        sanjeev_gopinath   \n",
      "3  ocid1.compartment.oc1..aaaaaaaacf6wxi3x7hujed4...  datthathiri_srinivasan   \n",
      "4  ocid1.compartment.oc1..aaaaaaaaafghvvlnxpy2egv...        sanjeev_gopinath   \n",
      "\n",
      "   ... feature_set capacity license_type email_notification service_url  \\\n",
      "0  ...         NaN      NaN          NaN                NaN         NaN   \n",
      "1  ...         NaN      NaN          NaN                NaN         NaN   \n",
      "2  ...         NaN      NaN          NaN                NaN         NaN   \n",
      "3  ...         NaN      NaN          NaN                NaN         NaN   \n",
      "4  ...         NaN      NaN          NaN                NaN         NaN   \n",
      "\n",
      "  time_updated resource_specific_info nat_ip  boot_volume_id  \\\n",
      "0          NaN                    NaN    NaN             NaN   \n",
      "1          NaN                    NaN    NaN             NaN   \n",
      "2          NaN                    NaN    NaN             NaN   \n",
      "3          NaN                    NaN    NaN             NaN   \n",
      "4          NaN                    NaN    NaN             NaN   \n",
      "\n",
      "   source_boot_volume_backup_id  \n",
      "0                           NaN  \n",
      "1                           NaN  \n",
      "2                           NaN  \n",
      "3                           NaN  \n",
      "4                           NaN  \n",
      "\n",
      "[5 rows x 144 columns]\n"
     ]
    }
   ],
   "source": [
    "resource_dist_df = pd.DataFrame()\n",
    "for region_name in region_names:\n",
    "    if region_name != \"ap-hyderabad-1\":\n",
    "        temp = pd.read_json(\"region_distribution-\" + region_name + \".json\")\n",
    "        resource_dist_df = resource_dist_df.append(temp, ignore_index=True, sort=False)       \n",
    "pprint.pprint(resource_dist_df.head())"
   ]
  },
  {
   "cell_type": "markdown",
   "metadata": {},
   "source": [
    "## Sample Data Manipulation to Calculate Number of Active Days \n",
    "- A very important factor in our tenancy was to limit the number of active days and turn of resources as required.\n",
    "- Hence this calculation"
   ]
  },
  {
   "cell_type": "code",
   "execution_count": 17,
   "metadata": {},
   "outputs": [],
   "source": [
    "resource_dist_df[\"Qty\"] = 1\n",
    "resource_dist_df[\"TimeNow\"] = datetime.datetime.now(datetime.timezone.utc)\n",
    "resource_dist_df[\"CreatedOn\"] = pd.to_datetime(resource_dist_df[\"CreatedOn\"])\n",
    "resource_dist_df[\"ActiveForDays\"] = resource_dist_df[\"TimeNow\"].sub(\n",
    "    resource_dist_df[\"CreatedOn\"], axis=0\n",
    ")"
   ]
  },
  {
   "cell_type": "markdown",
   "metadata": {},
   "source": [
    "## Further Manipulation\n",
    "* Convert the Results to String for Easy Visualization"
   ]
  },
  {
   "cell_type": "code",
   "execution_count": 18,
   "metadata": {},
   "outputs": [],
   "source": [
    "resource_dist_df[\"TimeNow\"] = resource_dist_df[\"TimeNow\"].astype(str)\n",
    "resource_dist_df[\"CreatedOn\"] = resource_dist_df[\"CreatedOn\"].astype(str)\n",
    "resource_dist_df[\"ActiveForDays\"] = resource_dist_df[\"ActiveForDays\"].astype(str)"
   ]
  },
  {
   "cell_type": "markdown",
   "metadata": {},
   "source": [
    "## Export Data to \n",
    "* JSON\n",
    "* CSV"
   ]
  },
  {
   "cell_type": "code",
   "execution_count": null,
   "metadata": {},
   "outputs": [],
   "source": [
    "csv = resource_dist_df.to_csv(\"processed_data.csv\", sep=\",\", header=True, index=True)\n",
    "out = resource_dist_df.to_json(orient=\"index\")\n",
    "with open(\"processed_json.json\", \"w\") as f:\n",
    "    f.write(out)"
   ]
  }
 ],
 "metadata": {
  "kernelspec": {
   "display_name": "Python 3",
   "language": "python",
   "name": "python3"
  },
  "language_info": {
   "codemirror_mode": {
    "name": "ipython",
    "version": 3
   },
   "file_extension": ".py",
   "mimetype": "text/x-python",
   "name": "python",
   "nbconvert_exporter": "python",
   "pygments_lexer": "ipython3",
   "version": "3.6.8"
  }
 },
 "nbformat": 4,
 "nbformat_minor": 4
}
