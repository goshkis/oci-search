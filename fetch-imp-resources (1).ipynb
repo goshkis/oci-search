{
 "cells": [
  {
   "cell_type": "markdown",
   "metadata": {},
   "source": [
    "## Import all necessary Libraries\n",
    "* **OCI** - Python Library that converts Python Commands into OCI API Requests\n",
    "* **JSON** - For JSON to Python Dictionary Conversion , File read , and File write\n",
    "* **PPRINT** - Module for pretty printing all text while debugging\n",
    "* **DATETIME** - Used to Convert String Datetime Inputs from OCI API into datetime objects for carrying out datetime arithmetic"
   ]
  },
  {
   "cell_type": "code",
   "execution_count": 1,
   "metadata": {},
   "outputs": [
    {
     "data": {
      "application/javascript": [
       "\n",
       "            setTimeout(function() {\n",
       "                var nbb_cell_id = 1;\n",
       "                var nbb_unformatted_code = \"import oci\\nimport json\\nimport pprint\\nimport pandas as pd\\nimport datetime\\nfrom operator import itemgetter, add\\nimport asyncio\\nimport time\\nimport logging\\nimport concurrent.futures as cf\\nimport glob\\nimport networkx as nx\\nfrom networkx.drawing.nx_agraph import graphviz_layout\\nimport matplotlib.pyplot as plt\\nfrom flatten_dict import flatten\\nimport numpy as np\\n\\n%load_ext nb_black\\nfrom IPython.display import display, Javascript, HTML\";\n",
       "                var nbb_formatted_code = \"import oci\\nimport json\\nimport pprint\\nimport pandas as pd\\nimport datetime\\nfrom operator import itemgetter, add\\nimport asyncio\\nimport time\\nimport logging\\nimport concurrent.futures as cf\\nimport glob\\nimport networkx as nx\\nfrom networkx.drawing.nx_agraph import graphviz_layout\\nimport matplotlib.pyplot as plt\\nfrom flatten_dict import flatten\\nimport numpy as np\\n\\n%load_ext nb_black\\nfrom IPython.display import display, Javascript, HTML\";\n",
       "                var nbb_cells = Jupyter.notebook.get_cells();\n",
       "                for (var i = 0; i < nbb_cells.length; ++i) {\n",
       "                    if (nbb_cells[i].input_prompt_number == nbb_cell_id) {\n",
       "                        if (nbb_cells[i].get_text() == nbb_unformatted_code) {\n",
       "                             nbb_cells[i].set_text(nbb_formatted_code);\n",
       "                        }\n",
       "                        break;\n",
       "                    }\n",
       "                }\n",
       "            }, 500);\n",
       "            "
      ],
      "text/plain": [
       "<IPython.core.display.Javascript object>"
      ]
     },
     "metadata": {},
     "output_type": "display_data"
    }
   ],
   "source": [
    "import oci\n",
    "import json\n",
    "import pprint\n",
    "import pandas as pd\n",
    "import datetime\n",
    "from operator import itemgetter, add\n",
    "import asyncio\n",
    "import time\n",
    "import logging\n",
    "import concurrent.futures as cf\n",
    "import glob\n",
    "import networkx as nx\n",
    "from networkx.drawing.nx_agraph import graphviz_layout\n",
    "import matplotlib.pyplot as plt\n",
    "from flatten_dict import flatten\n",
    "import numpy as np\n",
    "\n",
    "%load_ext nb_black\n",
    "from IPython.display import display, Javascript, HTML"
   ]
  },
  {
   "cell_type": "markdown",
   "metadata": {},
   "source": [
    "## Helper Functions\n",
    "* Some of the helper functions written to make the code cleaner"
   ]
  },
  {
   "cell_type": "code",
   "execution_count": 2,
   "metadata": {},
   "outputs": [
    {
     "data": {
      "application/javascript": [
       "\n",
       "            setTimeout(function() {\n",
       "                var nbb_cell_id = 2;\n",
       "                var nbb_unformatted_code = \"from helpers import list_region_subscriptions\\nfrom helpers import fetch_compartment_heirarchy\\nfrom helpers import search_region_and_populate\\nfrom oci_clients import clients_init\";\n",
       "                var nbb_formatted_code = \"from helpers import list_region_subscriptions\\nfrom helpers import fetch_compartment_heirarchy\\nfrom helpers import search_region_and_populate\\nfrom oci_clients import clients_init\";\n",
       "                var nbb_cells = Jupyter.notebook.get_cells();\n",
       "                for (var i = 0; i < nbb_cells.length; ++i) {\n",
       "                    if (nbb_cells[i].input_prompt_number == nbb_cell_id) {\n",
       "                        if (nbb_cells[i].get_text() == nbb_unformatted_code) {\n",
       "                             nbb_cells[i].set_text(nbb_formatted_code);\n",
       "                        }\n",
       "                        break;\n",
       "                    }\n",
       "                }\n",
       "            }, 500);\n",
       "            "
      ],
      "text/plain": [
       "<IPython.core.display.Javascript object>"
      ]
     },
     "metadata": {},
     "output_type": "display_data"
    }
   ],
   "source": [
    "from helpers import list_region_subscriptions\n",
    "from helpers import fetch_compartment_heirarchy\n",
    "from helpers import search_region_and_populate\n",
    "from oci_clients import clients_init"
   ]
  },
  {
   "cell_type": "markdown",
   "metadata": {},
   "source": [
    "## Define Resource List to Query\n",
    "* Initialize Clients that will be leveraged\n",
    "* Conditional variables - Interested in qeurying for active resources\n",
    "* Using || Symbol to make sure we fetch resources either in Active, Running or Available State\n",
    "\n",
    "## Supported Resources in Search\n",
    "* [List of Supported Resources](https://docs.cloud.oracle.com/en-us/iaas/Content/Search/Concepts/queryoverview.htm#resourcetypes)"
   ]
  },
  {
   "cell_type": "code",
   "execution_count": 3,
   "metadata": {},
   "outputs": [
    {
     "data": {
      "application/javascript": [
       "\n",
       "            setTimeout(function() {\n",
       "                var nbb_cell_id = 3;\n",
       "                var nbb_unformatted_code = \"resourcetype_list = [\\n    \\\"instance\\\",\\n    \\\"image\\\",\\n    \\\"dbsystem\\\",\\n    \\\"vmcluster\\\",\\n    \\\"odainstance\\\",\\n    \\\"bootvolume\\\",\\n    \\\"bootvolumebackup\\\",\\n    \\\"volumebackup\\\",\\n    \\\"volumebackuppolicy\\\",\\n    \\\"volume\\\",\\n    \\\"datascienceproject\\\",\\n    \\\"datasciencemodel\\\",\\n    \\\"datasciencenotebooksession\\\",\\n    \\\"datacatalog\\\",\\n    \\\"analyticsinstance\\\",\\n    \\\"autonomousdatabase\\\",\\n    \\\"integrationinstance\\\",\\n    \\\"vcn\\\",\\n    \\\"subnet\\\",\\n    \\\"vnic\\\",\\n    \\\"securitylist\\\",\\n    \\\"routetable\\\",\\n    \\\"natgateway\\\",\\n    \\\"servicegateway\\\",\\n    \\\"onstopic\\\",\\n    \\\"onssubscription\\\",\\n    \\\"stream\\\",\\n    \\\"connectharness\\\",\\n    \\\"bucket\\\",\\n    \\\"vault\\\",\\n    \\\"filesystem\\\",\\n    \\\"apigateway\\\",\\n    \\\"apideployment\\\",\\n    \\\"compartment\\\",\\n    \\\"group\\\",\\n    \\\"identityprovider\\\",\\n    \\\"idpgroupmapping\\\",\\n    \\\"policy\\\",\\n    \\\"tagdefault\\\",\\n    \\\"tagnamespace\\\",\\n    \\\"user\\\",\\n]\\ncondition_list = [\\n    \\\"lifecycleState = 'RUNNING'\\\",\\n    \\\"lifecycleState = 'AVAILABLE'\\\",\\n    \\\"lifecycleState = 'ACTIVE'\\\",\\n]\\nresourceString = (\\\", \\\").join(resourcetype_list)\\nconditionString = (\\\" || \\\").join(condition_list)\";\n",
       "                var nbb_formatted_code = \"resourcetype_list = [\\n    \\\"instance\\\",\\n    \\\"image\\\",\\n    \\\"dbsystem\\\",\\n    \\\"vmcluster\\\",\\n    \\\"odainstance\\\",\\n    \\\"bootvolume\\\",\\n    \\\"bootvolumebackup\\\",\\n    \\\"volumebackup\\\",\\n    \\\"volumebackuppolicy\\\",\\n    \\\"volume\\\",\\n    \\\"datascienceproject\\\",\\n    \\\"datasciencemodel\\\",\\n    \\\"datasciencenotebooksession\\\",\\n    \\\"datacatalog\\\",\\n    \\\"analyticsinstance\\\",\\n    \\\"autonomousdatabase\\\",\\n    \\\"integrationinstance\\\",\\n    \\\"vcn\\\",\\n    \\\"subnet\\\",\\n    \\\"vnic\\\",\\n    \\\"securitylist\\\",\\n    \\\"routetable\\\",\\n    \\\"natgateway\\\",\\n    \\\"servicegateway\\\",\\n    \\\"onstopic\\\",\\n    \\\"onssubscription\\\",\\n    \\\"stream\\\",\\n    \\\"connectharness\\\",\\n    \\\"bucket\\\",\\n    \\\"vault\\\",\\n    \\\"filesystem\\\",\\n    \\\"apigateway\\\",\\n    \\\"apideployment\\\",\\n    \\\"compartment\\\",\\n    \\\"group\\\",\\n    \\\"identityprovider\\\",\\n    \\\"idpgroupmapping\\\",\\n    \\\"policy\\\",\\n    \\\"tagdefault\\\",\\n    \\\"tagnamespace\\\",\\n    \\\"user\\\",\\n]\\ncondition_list = [\\n    \\\"lifecycleState = 'RUNNING'\\\",\\n    \\\"lifecycleState = 'AVAILABLE'\\\",\\n    \\\"lifecycleState = 'ACTIVE'\\\",\\n]\\nresourceString = (\\\", \\\").join(resourcetype_list)\\nconditionString = (\\\" || \\\").join(condition_list)\";\n",
       "                var nbb_cells = Jupyter.notebook.get_cells();\n",
       "                for (var i = 0; i < nbb_cells.length; ++i) {\n",
       "                    if (nbb_cells[i].input_prompt_number == nbb_cell_id) {\n",
       "                        if (nbb_cells[i].get_text() == nbb_unformatted_code) {\n",
       "                             nbb_cells[i].set_text(nbb_formatted_code);\n",
       "                        }\n",
       "                        break;\n",
       "                    }\n",
       "                }\n",
       "            }, 500);\n",
       "            "
      ],
      "text/plain": [
       "<IPython.core.display.Javascript object>"
      ]
     },
     "metadata": {},
     "output_type": "display_data"
    }
   ],
   "source": [
    "resourcetype_list = [\n",
    "    \"instance\",\n",
    "    \"image\",\n",
    "    \"dbsystem\",\n",
    "    \"vmcluster\",\n",
    "    \"odainstance\",\n",
    "    \"bootvolume\",\n",
    "    \"bootvolumebackup\",\n",
    "    \"volumebackup\",\n",
    "    \"volumebackuppolicy\",\n",
    "    \"volume\",\n",
    "    \"datascienceproject\",\n",
    "    \"datasciencemodel\",\n",
    "    \"datasciencenotebooksession\",\n",
    "    \"datacatalog\",\n",
    "    \"analyticsinstance\",\n",
    "    \"autonomousdatabase\",\n",
    "    \"integrationinstance\",\n",
    "    \"vcn\",\n",
    "    \"subnet\",\n",
    "    \"vnic\",\n",
    "    \"securitylist\",\n",
    "    \"routetable\",\n",
    "    \"natgateway\",\n",
    "    \"servicegateway\",\n",
    "    \"onstopic\",\n",
    "    \"onssubscription\",\n",
    "    \"stream\",\n",
    "    \"connectharness\",\n",
    "    \"bucket\",\n",
    "    \"vault\",\n",
    "    \"filesystem\",\n",
    "    \"apigateway\",\n",
    "    \"apideployment\",\n",
    "    \"compartment\",\n",
    "    \"group\",\n",
    "    \"identityprovider\",\n",
    "    \"idpgroupmapping\",\n",
    "    \"policy\",\n",
    "    \"tagdefault\",\n",
    "    \"tagnamespace\",\n",
    "    \"user\",\n",
    "]\n",
    "condition_list = [\n",
    "    \"lifecycleState = 'RUNNING'\",\n",
    "    \"lifecycleState = 'AVAILABLE'\",\n",
    "    \"lifecycleState = 'ACTIVE'\",\n",
    "]\n",
    "resourceString = (\", \").join(resourcetype_list)\n",
    "conditionString = (\" || \").join(condition_list)"
   ]
  },
  {
   "cell_type": "markdown",
   "metadata": {},
   "source": [
    "## Supported Clients & Resources\n",
    "- Search provides the list of OCIDs based on the query string \n",
    "- Use the OCIDs to drill down into the resources further to understand your tenancy better\n",
    " - **Identity Client** - To understand how many regions ( Data Center Geographies, the tenancy is subscribed to )\n",
    " - **Search Client** - To fetch all resources that satisfy query conditions\n",
    " - **Compute Client** - To Drill down into compute resources for Compute/VM/Bare metal server specific Information\n",
    " - **Database Client** -  To Drill down into database resources for Database Specific Information \n",
    " - **Analytics Client** - To Drill down into analytics resources for Analytics Instance Specific Information\n",
    " - **VCN Client** - To Drill down information of VCN, Subnets, LPGs, DRGs, Load Balancers etc. \n",
    " - **Notifications Client** - To Drill down on Information on Notification Topics, Subscriptions etc. \n",
    " - **API-GW Client** - To Drill down on API Gateway & API Deployments.\n",
    " - **Block Storage Client** - To Drill down on Block Volumes and Boot Volumes.\n",
    " - **Object Storage Client** - To Drill down on Object Storage Solution.\n",
    " - **Streams Client** - To Drill down on Streams, kafka Connect harness etc. "
   ]
  },
  {
   "cell_type": "markdown",
   "metadata": {},
   "source": [
    "## Setup the OCI Config\n",
    "* Read the OCI Config from the default Path / provide the path where the config file is available"
   ]
  },
  {
   "cell_type": "code",
   "execution_count": 4,
   "metadata": {
    "scrolled": true
   },
   "outputs": [
    {
     "data": {
      "application/javascript": [
       "\n",
       "            setTimeout(function() {\n",
       "                var nbb_cell_id = 4;\n",
       "                var nbb_unformatted_code = \"config = oci.config.from_file()\\ntenancy_id = config[\\\"tenancy\\\"]\";\n",
       "                var nbb_formatted_code = \"config = oci.config.from_file()\\ntenancy_id = config[\\\"tenancy\\\"]\";\n",
       "                var nbb_cells = Jupyter.notebook.get_cells();\n",
       "                for (var i = 0; i < nbb_cells.length; ++i) {\n",
       "                    if (nbb_cells[i].input_prompt_number == nbb_cell_id) {\n",
       "                        if (nbb_cells[i].get_text() == nbb_unformatted_code) {\n",
       "                             nbb_cells[i].set_text(nbb_formatted_code);\n",
       "                        }\n",
       "                        break;\n",
       "                    }\n",
       "                }\n",
       "            }, 500);\n",
       "            "
      ],
      "text/plain": [
       "<IPython.core.display.Javascript object>"
      ]
     },
     "metadata": {},
     "output_type": "display_data"
    }
   ],
   "source": [
    "config = oci.config.from_file()\n",
    "tenancy_id = config[\"tenancy\"]"
   ]
  },
  {
   "cell_type": "markdown",
   "metadata": {},
   "source": [
    "## List all Regions Subscribed in Tenancy\n",
    " - **Search** endpoints are regional and hence we will iterate asynchronously over all regions"
   ]
  },
  {
   "cell_type": "code",
   "execution_count": 5,
   "metadata": {},
   "outputs": [
    {
     "name": "stdout",
     "output_type": "stream",
     "text": [
      "'Fetching all regions in tenancy'\n",
      "(\"List of regions subscribed to : ['ap-mumbai-1', 'eu-frankfurt-1', \"\n",
      " \"'ap-hyderabad-1', 'us-phoenix-1']\")\n"
     ]
    },
    {
     "data": {
      "application/javascript": [
       "\n",
       "            setTimeout(function() {\n",
       "                var nbb_cell_id = 5;\n",
       "                var nbb_unformatted_code = \"region_names = list_region_subscriptions(config)\";\n",
       "                var nbb_formatted_code = \"region_names = list_region_subscriptions(config)\";\n",
       "                var nbb_cells = Jupyter.notebook.get_cells();\n",
       "                for (var i = 0; i < nbb_cells.length; ++i) {\n",
       "                    if (nbb_cells[i].input_prompt_number == nbb_cell_id) {\n",
       "                        if (nbb_cells[i].get_text() == nbb_unformatted_code) {\n",
       "                             nbb_cells[i].set_text(nbb_formatted_code);\n",
       "                        }\n",
       "                        break;\n",
       "                    }\n",
       "                }\n",
       "            }, 500);\n",
       "            "
      ],
      "text/plain": [
       "<IPython.core.display.Javascript object>"
      ]
     },
     "metadata": {},
     "output_type": "display_data"
    }
   ],
   "source": [
    "region_names = list_region_subscriptions(config)"
   ]
  },
  {
   "cell_type": "markdown",
   "metadata": {},
   "source": [
    "## Fetch Compartment Heirarchy\n",
    " - **Compartment** is an IAM resource and is Global\n",
    " - **Compartment_KV** - Lookup table between Compartment OCID and Compartment name\n",
    " - **Compartment Parent OCID  KV** - Lookup table between Compartment OCID, Parent Compartment OCID"
   ]
  },
  {
   "cell_type": "code",
   "execution_count": 6,
   "metadata": {},
   "outputs": [
    {
     "name": "stdout",
     "output_type": "stream",
     "text": [
      "'Populate Compartment Herirachies in Tenancy'\n"
     ]
    },
    {
     "data": {
      "application/javascript": [
       "\n",
       "            setTimeout(function() {\n",
       "                var nbb_cell_id = 6;\n",
       "                var nbb_unformatted_code = \"compartment_kv, compartment_parent_ocid_kv = fetch_compartment_heirarchy(config)\";\n",
       "                var nbb_formatted_code = \"compartment_kv, compartment_parent_ocid_kv = fetch_compartment_heirarchy(config)\";\n",
       "                var nbb_cells = Jupyter.notebook.get_cells();\n",
       "                for (var i = 0; i < nbb_cells.length; ++i) {\n",
       "                    if (nbb_cells[i].input_prompt_number == nbb_cell_id) {\n",
       "                        if (nbb_cells[i].get_text() == nbb_unformatted_code) {\n",
       "                             nbb_cells[i].set_text(nbb_formatted_code);\n",
       "                        }\n",
       "                        break;\n",
       "                    }\n",
       "                }\n",
       "            }, 500);\n",
       "            "
      ],
      "text/plain": [
       "<IPython.core.display.Javascript object>"
      ]
     },
     "metadata": {},
     "output_type": "display_data"
    }
   ],
   "source": [
    "compartment_kv, compartment_parent_ocid_kv = fetch_compartment_heirarchy(config)"
   ]
  },
  {
   "cell_type": "markdown",
   "metadata": {},
   "source": [
    "## Mark Start of Execution\n",
    "Print Start Time and end time for populating the entire tenancy tree"
   ]
  },
  {
   "cell_type": "code",
   "execution_count": 7,
   "metadata": {},
   "outputs": [
    {
     "name": "stdout",
     "output_type": "stream",
     "text": [
      "'Start Time : Apr 14 2020 13:26:48'\n"
     ]
    },
    {
     "data": {
      "application/javascript": [
       "\n",
       "            setTimeout(function() {\n",
       "                var nbb_cell_id = 7;\n",
       "                var nbb_unformatted_code = \"pprint.pprint(\\n    \\\"Start Time : {}\\\".format(time.strftime(\\\"%b %d %Y %H:%M:%S\\\", time.localtime()))\\n)\";\n",
       "                var nbb_formatted_code = \"pprint.pprint(\\n    \\\"Start Time : {}\\\".format(time.strftime(\\\"%b %d %Y %H:%M:%S\\\", time.localtime()))\\n)\";\n",
       "                var nbb_cells = Jupyter.notebook.get_cells();\n",
       "                for (var i = 0; i < nbb_cells.length; ++i) {\n",
       "                    if (nbb_cells[i].input_prompt_number == nbb_cell_id) {\n",
       "                        if (nbb_cells[i].get_text() == nbb_unformatted_code) {\n",
       "                             nbb_cells[i].set_text(nbb_formatted_code);\n",
       "                        }\n",
       "                        break;\n",
       "                    }\n",
       "                }\n",
       "            }, 500);\n",
       "            "
      ],
      "text/plain": [
       "<IPython.core.display.Javascript object>"
      ]
     },
     "metadata": {},
     "output_type": "display_data"
    }
   ],
   "source": [
    "pprint.pprint(\n",
    "    \"Start Time : {}\".format(time.strftime(\"%b %d %Y %H:%M:%S\", time.localtime()))\n",
    ")"
   ]
  },
  {
   "cell_type": "markdown",
   "metadata": {},
   "source": [
    "## Search and Populate\n",
    "The Search Region and Populate Function has two stages\n",
    "1. Fetch the search results based on search query provided\n",
    "2. Use the Search result to drill down resource specific information\n",
    "3. Consolidate both and populate a JSON Tree . "
   ]
  },
  {
   "cell_type": "code",
   "execution_count": 8,
   "metadata": {},
   "outputs": [
    {
     "data": {
      "application/javascript": [
       "\n",
       "            setTimeout(function() {\n",
       "                var nbb_cell_id = 8;\n",
       "                var nbb_unformatted_code = \"executor = cf.ThreadPoolExecutor(max_workers=20,)\\nreturnFlag = [\\n    search_region_and_populate(\\n        executor,\\n        config,\\n        region_name,\\n        resourceString,\\n        conditionString,\\n        compartment_kv,\\n        compartment_parent_ocid_kv,\\n    )\\n    for region_name in region_names\\n]\";\n",
       "                var nbb_formatted_code = \"executor = cf.ThreadPoolExecutor(max_workers=20,)\\nreturnFlag = [\\n    search_region_and_populate(\\n        executor,\\n        config,\\n        region_name,\\n        resourceString,\\n        conditionString,\\n        compartment_kv,\\n        compartment_parent_ocid_kv,\\n    )\\n    for region_name in region_names\\n]\";\n",
       "                var nbb_cells = Jupyter.notebook.get_cells();\n",
       "                for (var i = 0; i < nbb_cells.length; ++i) {\n",
       "                    if (nbb_cells[i].input_prompt_number == nbb_cell_id) {\n",
       "                        if (nbb_cells[i].get_text() == nbb_unformatted_code) {\n",
       "                             nbb_cells[i].set_text(nbb_formatted_code);\n",
       "                        }\n",
       "                        break;\n",
       "                    }\n",
       "                }\n",
       "            }, 500);\n",
       "            "
      ],
      "text/plain": [
       "<IPython.core.display.Javascript object>"
      ]
     },
     "metadata": {},
     "output_type": "display_data"
    }
   ],
   "source": [
    "executor = cf.ThreadPoolExecutor(max_workers=20,)\n",
    "returnFlag = [\n",
    "    search_region_and_populate(\n",
    "        executor,\n",
    "        config,\n",
    "        region_name,\n",
    "        resourceString,\n",
    "        conditionString,\n",
    "        compartment_kv,\n",
    "        compartment_parent_ocid_kv,\n",
    "    )\n",
    "    for region_name in region_names\n",
    "]"
   ]
  },
  {
   "cell_type": "markdown",
   "metadata": {},
   "source": [
    "## Asynchronous Parallelism\n",
    "- Concurrent Futures is used to execute all mutually exclusive tasks as separate Threads\n",
    "- AsyncIO.gather is used to concurrently spin up asynchronous non-blocking calls to multiple API endpoints. "
   ]
  },
  {
   "cell_type": "code",
   "execution_count": 9,
   "metadata": {},
   "outputs": [
    {
     "name": "stdout",
     "output_type": "stream",
     "text": [
      "'Initializing Resource Specific Clients & Regions '\n",
      "'Initialize Identity Client in Region : eu-frankfurt-1'\n",
      "'Initialize Search Client in Region : eu-frankfurt-1'\n",
      "'Initialize Compute Client in Region : eu-frankfurt-1'\n",
      "'Initialize DB Client in Region : eu-frankfurt-1'\n",
      "'Initialize Analytics Client in Region : eu-frankfurt-1'\n",
      "'Initialize Networking Client in Region : eu-frankfurt-1'\n",
      "'Initialize Data Science Client in Region : eu-frankfurt-1'\n",
      "'Initialize Block Storage Client in Region : eu-frankfurt-1'\n",
      "'Initialize Object Storage Client in Region : eu-frankfurt-1'\n",
      "'Initialize Notifications Client in Region : eu-frankfurt-1'\n",
      "'Initialize API-GW Client in Region : eu-frankfurt-1'\n",
      "'Initialize Streaming Client in Region : eu-frankfurt-1'\n",
      "'Initialize Functions Client in Region : eu-frankfurt-1'\n",
      "'Initialize Integration Client in Region : eu-frankfurt-1'\n",
      "'Initialize Vaults Client in Region : eu-frankfurt-1'\n",
      "'Initialize Oracle Digital Assistant Client in Region : eu-frankfurt-1'\n",
      "'Initialize Data Catalog Client in Region : eu-frankfurt-1'\n",
      "'Initialize File System Client in Region : eu-frankfurt-1'\n",
      "'Populated Compute Shapes for region eu-frankfurt-1'\n",
      "'Generated Raw Search Result JSON for region: eu-frankfurt-1'\n",
      "'Initializing Resource Specific Clients & Regions '\n",
      "'Initialize Identity Client in Region : ap-mumbai-1'\n",
      "'Initialize Search Client in Region : ap-mumbai-1'\n",
      "'Initialize Compute Client in Region : ap-mumbai-1'\n",
      "'Initialize DB Client in Region : ap-mumbai-1'\n",
      "'Initialize Analytics Client in Region : ap-mumbai-1'\n",
      "'Initialize Networking Client in Region : ap-mumbai-1'\n",
      "'Initialize Data Science Client in Region : ap-mumbai-1'\n",
      "'Initialize Block Storage Client in Region : ap-mumbai-1'\n",
      "'Initialize Object Storage Client in Region : ap-mumbai-1'\n",
      "'Initialize Notifications Client in Region : ap-mumbai-1'\n",
      "'Initialize API-GW Client in Region : ap-mumbai-1'\n",
      "'Initialize Streaming Client in Region : ap-mumbai-1'\n",
      "'Initialize Functions Client in Region : ap-mumbai-1'\n",
      "'Initialize Integration Client in Region : ap-mumbai-1'\n",
      "'Initialize Vaults Client in Region : ap-mumbai-1'\n",
      "'Initialize Oracle Digital Assistant Client in Region : ap-mumbai-1'\n",
      "'Initialize Data Catalog Client in Region : ap-mumbai-1'\n",
      "'Initialize File System Client in Region : ap-mumbai-1'\n",
      "'Populated Compute Shapes for region ap-mumbai-1'\n",
      "'Generated Raw Search Result JSON for region: ap-mumbai-1'\n",
      "'Initializing Resource Specific Clients & Regions '\n",
      "'Initialize Identity Client in Region : us-phoenix-1'\n",
      "'Initialize Search Client in Region : us-phoenix-1'\n",
      "'Initialize Compute Client in Region : us-phoenix-1'\n",
      "'Initialize DB Client in Region : us-phoenix-1'\n",
      "'Initialize Analytics Client in Region : us-phoenix-1'\n",
      "'Initialize Networking Client in Region : us-phoenix-1'\n",
      "'Initialize Data Science Client in Region : us-phoenix-1'\n",
      "'Initialize Block Storage Client in Region : us-phoenix-1'\n",
      "'Initialize Object Storage Client in Region : us-phoenix-1'\n",
      "'Initialize Notifications Client in Region : us-phoenix-1'\n",
      "'Initialize API-GW Client in Region : us-phoenix-1'\n",
      "'Initialize Streaming Client in Region : us-phoenix-1'\n",
      "'Initialize Functions Client in Region : us-phoenix-1'\n",
      "'Initialize Integration Client in Region : us-phoenix-1'\n",
      "'Initialize Vaults Client in Region : us-phoenix-1'\n",
      "'Initialize Oracle Digital Assistant Client in Region : us-phoenix-1'\n",
      "'Initialize Data Catalog Client in Region : us-phoenix-1'\n",
      "'Initialize File System Client in Region : us-phoenix-1'\n",
      "'Populated Compute Shapes for region us-phoenix-1'\n",
      "'Generated Raw Search Result JSON for region: us-phoenix-1'\n",
      "'Generated Region Distribution JSON for region: eu-frankfurt-1'\n",
      "'Generated Region Distribution JSON for region: ap-mumbai-1'\n",
      "'Generated Region Distribution JSON for region: us-phoenix-1'\n"
     ]
    },
    {
     "data": {
      "text/plain": [
       "[None, None, None, None]"
      ]
     },
     "execution_count": 9,
     "metadata": {},
     "output_type": "execute_result"
    }
   ],
   "source": [
    "await asyncio.gather(*(returnFlag))"
   ]
  },
  {
   "cell_type": "markdown",
   "metadata": {},
   "source": [
    "## Mark End of Execution\n",
    "Print End Time for populating the entire tenancy tree"
   ]
  },
  {
   "cell_type": "code",
   "execution_count": 10,
   "metadata": {},
   "outputs": [
    {
     "name": "stdout",
     "output_type": "stream",
     "text": [
      "'End Time : Apr 14 2020 13:27:30'\n"
     ]
    },
    {
     "data": {
      "application/javascript": [
       "\n",
       "            setTimeout(function() {\n",
       "                var nbb_cell_id = 10;\n",
       "                var nbb_unformatted_code = \"pprint.pprint(\\n    \\\"End Time : {}\\\".format(time.strftime(\\\"%b %d %Y %H:%M:%S\\\", time.localtime()))\\n)\";\n",
       "                var nbb_formatted_code = \"pprint.pprint(\\n    \\\"End Time : {}\\\".format(time.strftime(\\\"%b %d %Y %H:%M:%S\\\", time.localtime()))\\n)\";\n",
       "                var nbb_cells = Jupyter.notebook.get_cells();\n",
       "                for (var i = 0; i < nbb_cells.length; ++i) {\n",
       "                    if (nbb_cells[i].input_prompt_number == nbb_cell_id) {\n",
       "                        if (nbb_cells[i].get_text() == nbb_unformatted_code) {\n",
       "                             nbb_cells[i].set_text(nbb_formatted_code);\n",
       "                        }\n",
       "                        break;\n",
       "                    }\n",
       "                }\n",
       "            }, 500);\n",
       "            "
      ],
      "text/plain": [
       "<IPython.core.display.Javascript object>"
      ]
     },
     "metadata": {},
     "output_type": "display_data"
    }
   ],
   "source": [
    "pprint.pprint(\n",
    "    \"End Time : {}\".format(time.strftime(\"%b %d %Y %H:%M:%S\", time.localtime()))\n",
    ")"
   ]
  },
  {
   "cell_type": "markdown",
   "metadata": {},
   "source": [
    "## Create NetworkX Graph\n",
    "Load JSON Objects and Make Network Graph"
   ]
  },
  {
   "cell_type": "code",
   "execution_count": 11,
   "metadata": {},
   "outputs": [
    {
     "data": {
      "application/javascript": [
       "\n",
       "            setTimeout(function() {\n",
       "                var nbb_cell_id = 11;\n",
       "                var nbb_unformatted_code = \"def extract_value_by_field(obj, key):\\n    \\\"\\\"\\\"Pull all values of specified key from nested JSON.\\\"\\\"\\\"\\n    arr = []\\n\\n    def extract(obj, arr, key):\\n        \\\"\\\"\\\"Recursively search for values of key in JSON tree.\\\"\\\"\\\"\\n        if isinstance(obj, dict):\\n            for k, v in obj.items():\\n                if isinstance(v, (dict, list)):\\n                    extract(v, arr, key)\\n                elif k == key:\\n                    if v is not None:\\n                        arr.append(v)\\n                    else:\\n                        arr.append(\\\"None\\\")\\n        elif isinstance(obj, list):\\n            for searchResult in obj:\\n                extract(searchResult, arr, key)\\n        elif isinstance(obj, type(None)):\\n            arr.append(\\\"None\\\")\\n\\n        return arr\\n\\n    results = extract(obj, arr, key)\\n    return results\";\n",
       "                var nbb_formatted_code = \"def extract_value_by_field(obj, key):\\n    \\\"\\\"\\\"Pull all values of specified key from nested JSON.\\\"\\\"\\\"\\n    arr = []\\n\\n    def extract(obj, arr, key):\\n        \\\"\\\"\\\"Recursively search for values of key in JSON tree.\\\"\\\"\\\"\\n        if isinstance(obj, dict):\\n            for k, v in obj.items():\\n                if isinstance(v, (dict, list)):\\n                    extract(v, arr, key)\\n                elif k == key:\\n                    if v is not None:\\n                        arr.append(v)\\n                    else:\\n                        arr.append(\\\"None\\\")\\n        elif isinstance(obj, list):\\n            for searchResult in obj:\\n                extract(searchResult, arr, key)\\n        elif isinstance(obj, type(None)):\\n            arr.append(\\\"None\\\")\\n\\n        return arr\\n\\n    results = extract(obj, arr, key)\\n    return results\";\n",
       "                var nbb_cells = Jupyter.notebook.get_cells();\n",
       "                for (var i = 0; i < nbb_cells.length; ++i) {\n",
       "                    if (nbb_cells[i].input_prompt_number == nbb_cell_id) {\n",
       "                        if (nbb_cells[i].get_text() == nbb_unformatted_code) {\n",
       "                             nbb_cells[i].set_text(nbb_formatted_code);\n",
       "                        }\n",
       "                        break;\n",
       "                    }\n",
       "                }\n",
       "            }, 500);\n",
       "            "
      ],
      "text/plain": [
       "<IPython.core.display.Javascript object>"
      ]
     },
     "metadata": {},
     "output_type": "display_data"
    }
   ],
   "source": [
    "def extract_value_by_field(obj, key):\n",
    "    \"\"\"Pull all values of specified key from nested JSON.\"\"\"\n",
    "    arr = []\n",
    "\n",
    "    def extract(obj, arr, key):\n",
    "        \"\"\"Recursively search for values of key in JSON tree.\"\"\"\n",
    "        if isinstance(obj, dict):\n",
    "            for k, v in obj.items():\n",
    "                if isinstance(v, (dict, list)):\n",
    "                    extract(v, arr, key)\n",
    "                elif k == key:\n",
    "                    if v is not None:\n",
    "                        arr.append(v)\n",
    "                    else:\n",
    "                        arr.append(\"None\")\n",
    "        elif isinstance(obj, list):\n",
    "            for searchResult in obj:\n",
    "                extract(searchResult, arr, key)\n",
    "        elif isinstance(obj, type(None)):\n",
    "            arr.append(\"None\")\n",
    "\n",
    "        return arr\n",
    "\n",
    "    results = extract(obj, arr, key)\n",
    "    return results"
   ]
  },
  {
   "cell_type": "markdown",
   "metadata": {},
   "source": [
    "## Extract Resource Dict\n",
    "* Every Resource is a JSON Dictionary\n",
    "* Every Attribute is a Key Value Pair\n",
    "* Extract Key and Value Pair to add as elements to Graph"
   ]
  },
  {
   "cell_type": "code",
   "execution_count": 12,
   "metadata": {},
   "outputs": [
    {
     "data": {
      "application/javascript": [
       "\n",
       "            setTimeout(function() {\n",
       "                var nbb_cell_id = 12;\n",
       "                var nbb_unformatted_code = \"def extract_resource_dict(\\n    dict_list, resourceType=\\\"Compartment\\\", key=\\\"resource_ocid\\\", value=\\\"display_name\\\"\\n):\\n    resList = list(filter(lambda d: d[\\\"resource_type\\\"] == resourceType, dict_list))\\n    value_list = list(map(itemgetter(value), resList))\\n    key_list = list(map(itemgetter(key), resList))\\n    kv_dict = dict(zip(key_list, value_list))\\n    return kv_dict\";\n",
       "                var nbb_formatted_code = \"def extract_resource_dict(\\n    dict_list, resourceType=\\\"Compartment\\\", key=\\\"resource_ocid\\\", value=\\\"display_name\\\"\\n):\\n    resList = list(filter(lambda d: d[\\\"resource_type\\\"] == resourceType, dict_list))\\n    value_list = list(map(itemgetter(value), resList))\\n    key_list = list(map(itemgetter(key), resList))\\n    kv_dict = dict(zip(key_list, value_list))\\n    return kv_dict\";\n",
       "                var nbb_cells = Jupyter.notebook.get_cells();\n",
       "                for (var i = 0; i < nbb_cells.length; ++i) {\n",
       "                    if (nbb_cells[i].input_prompt_number == nbb_cell_id) {\n",
       "                        if (nbb_cells[i].get_text() == nbb_unformatted_code) {\n",
       "                             nbb_cells[i].set_text(nbb_formatted_code);\n",
       "                        }\n",
       "                        break;\n",
       "                    }\n",
       "                }\n",
       "            }, 500);\n",
       "            "
      ],
      "text/plain": [
       "<IPython.core.display.Javascript object>"
      ]
     },
     "metadata": {},
     "output_type": "display_data"
    }
   ],
   "source": [
    "def extract_resource_dict(\n",
    "    dict_list, resourceType=\"Compartment\", key=\"resource_ocid\", value=\"display_name\"\n",
    "):\n",
    "    resList = list(filter(lambda d: d[\"resource_type\"] == resourceType, dict_list))\n",
    "    value_list = list(map(itemgetter(value), resList))\n",
    "    key_list = list(map(itemgetter(key), resList))\n",
    "    kv_dict = dict(zip(key_list, value_list))\n",
    "    return kv_dict"
   ]
  },
  {
   "cell_type": "code",
   "execution_count": 13,
   "metadata": {},
   "outputs": [
    {
     "data": {
      "application/javascript": [
       "\n",
       "            setTimeout(function() {\n",
       "                var nbb_cell_id = 13;\n",
       "                var nbb_unformatted_code = \"def create_dict_list():\\n    resource_list = []\\n    for file_name in glob.glob(\\\"./region_distribution*\\\"):\\n        with open(file_name) as f:\\n            resource_list.extend(json.load(f))\\n    return resource_list\";\n",
       "                var nbb_formatted_code = \"def create_dict_list():\\n    resource_list = []\\n    for file_name in glob.glob(\\\"./region_distribution*\\\"):\\n        with open(file_name) as f:\\n            resource_list.extend(json.load(f))\\n    return resource_list\";\n",
       "                var nbb_cells = Jupyter.notebook.get_cells();\n",
       "                for (var i = 0; i < nbb_cells.length; ++i) {\n",
       "                    if (nbb_cells[i].input_prompt_number == nbb_cell_id) {\n",
       "                        if (nbb_cells[i].get_text() == nbb_unformatted_code) {\n",
       "                             nbb_cells[i].set_text(nbb_formatted_code);\n",
       "                        }\n",
       "                        break;\n",
       "                    }\n",
       "                }\n",
       "            }, 500);\n",
       "            "
      ],
      "text/plain": [
       "<IPython.core.display.Javascript object>"
      ]
     },
     "metadata": {},
     "output_type": "display_data"
    }
   ],
   "source": [
    "def create_dict_list():\n",
    "    resource_list = []\n",
    "    for file_name in glob.glob(\"./region_distribution*\"):\n",
    "        with open(file_name) as f:\n",
    "            resource_list.extend(json.load(f))\n",
    "    return resource_list"
   ]
  },
  {
   "cell_type": "markdown",
   "metadata": {},
   "source": [
    "## Aggregate Resources from Multiple Regions\n",
    "* Every region is a JSON File\n",
    "* JSON File when parsed yields a list of dictionaries\n",
    "* Every element in the JSON File is a Dict."
   ]
  },
  {
   "cell_type": "code",
   "execution_count": 14,
   "metadata": {},
   "outputs": [
    {
     "data": {
      "application/javascript": [
       "\n",
       "            setTimeout(function() {\n",
       "                var nbb_cell_id = 14;\n",
       "                var nbb_unformatted_code = \"dict_list = create_dict_list()\\n\\n# Compartment Dictionaries\\ncompartment_dict = extract_resource_dict(\\n    dict_list, \\\"Compartment\\\", key=\\\"display_name\\\", value=\\\"resource_ocid\\\"\\n)\\ncompartment_dict.update({\\\"apacinset01\\\": tenancy_id})\\n\\n\\n# VNIC Dictionaries\\nvnic_dict = extract_resource_dict(\\n    dict_list, \\\"Vnic\\\", key=\\\"resource_ocid\\\", value=\\\"display_name\\\"\\n)\\nvnic_subnet_dict = extract_resource_dict(\\n    dict_list, \\\"Vnic\\\", key=\\\"resource_ocid\\\", value=\\\"subnet_id\\\"\\n)\\n\\n# Subnet Dictionaries\\nsubnet_dict = extract_resource_dict(dict_list, \\\"Subnet\\\")\\nsubnet_vcn_dict = extract_resource_dict(\\n    dict_list, \\\"Subnet\\\", key=\\\"resource_ocid\\\", value=\\\"vcn_id\\\"\\n)\\nsubnet_securitylist_dict = extract_resource_dict(\\n    dict_list, \\\"Subnet\\\", key=\\\"resource_ocid\\\", value=\\\"security_list_ids\\\"\\n)\\nsubnet_routetable_dict = extract_resource_dict(\\n    dict_list, \\\"Subnet\\\", key=\\\"resource_ocid\\\", value=\\\"route_table_id\\\"\\n)\\n\\n# Route Table Dictionaries\\nroutetable_dict = extract_resource_dict(\\n    dict_list, \\\"RouteTable\\\", key=\\\"resource_ocid\\\", value=\\\"display_name\\\"\\n)\\nroutetable_vcn_dict = extract_resource_dict(\\n    dict_list, \\\"RouteTable\\\", key=\\\"resource_ocid\\\", value=\\\"vcn_id\\\"\\n)\\n\\n#Security List Dictionaries\\nsecuritylist_dict = extract_resource_dict(dict_list, \\\"SecurityList\\\")\\nsecuritylist_vcn_dict = extract_resource_dict(\\n    dict_list, \\\"SecurityList\\\", key=\\\"resource_ocid\\\", value=\\\"vcn_id\\\"\\n)\\nvcn_dict = extract_resource_dict(dict_list, \\\"Vcn\\\")\\n\\n# Compute Instance\\ninstance_dict = extract_resource_dict(\\n    dict_list, \\\"Instance\\\", key=\\\"resource_ocid\\\", value=\\\"display_name\\\"\\n)\\ninstance_vnic_dict = extract_resource_dict(\\n    dict_list, \\\"Instance\\\", key=\\\"resource_ocid\\\", value=\\\"vnic_attachments\\\"\\n)\\n\\n# Boot Volume Dictionary\\ninstance_bootvolume_dict = extract_resource_dict(\\n    dict_list, \\\"Instance\\\", key=\\\"resource_ocid\\\", value=\\\"boot_volume_attachments\\\"\\n)\\n\\ninstance_volume_dict = extract_resource_dict(\\n    dict_list, \\\"Instance\\\", key=\\\"resource_ocid\\\", value=\\\"volume_attachments\\\"\\n)\\n\\n# Volume Dictionary\\nvolume_dict = extract_resource_dict(\\n    dict_list, \\\"Volume\\\", key=\\\"resource_ocid\\\", value=\\\"display_name\\\"\\n)\\nbootvolume_dict = extract_resource_dict(\\n    dict_list, \\\"BootVolume\\\", key=\\\"resource_ocid\\\", value=\\\"display_name\\\"\\n)\\n\\n# User Group and Group Membership Dictionaries\\nuser_dict = extract_resource_dict(\\n    dict_list, \\\"User\\\", key=\\\"resource_ocid\\\", value=\\\"display_name\\\"\\n)\\n\\ngroup_dict = extract_resource_dict(\\n    dict_list, \\\"Group\\\", key=\\\"resource_ocid\\\", value=\\\"display_name\\\"\\n)\\n\\ngroupmembership_dict = extract_resource_dict(dict_list, \\\"User\\\", key=\\\"resource_ocid\\\", value = \\\"group_memberships\\\")\\n\\n\\n# Boot Volume Backup Dictionaries\\nbootvolumebackup_dict = extract_resource_dict(\\n    dict_list, \\\"BootVolumeBackup\\\", key=\\\"resource_ocid\\\", value=\\\"display_name\\\"\\n)\\nbootvolumebackup_image_dict = extract_resource_dict(\\n    dict_list, \\\"BootVolumeBackup\\\", key=\\\"resource_ocid\\\", value=\\\"image_id\\\"\\n)\\n\\n# Volume Backup Dictionaries\\nvolumebackup_dict = extract_resource_dict(\\n    dict_list, \\\"VolumeBackup\\\", key=\\\"resource_ocid\\\", value=\\\"display_name\\\"\\n)\\nvolumebackup_volume_dict = extract_resource_dict(\\n    dict_list, \\\"VolumeBackup\\\", key=\\\"resource_ocid\\\", value=\\\"volume_id\\\"\\n)\\n\\n# Image Dictionary\\nimage_dict = extract_resource_dict(dict_list, \\\"Image\\\", key = \\\"resource_ocid\\\", value = \\\"display_name\\\")\";\n",
       "                var nbb_formatted_code = \"dict_list = create_dict_list()\\n\\n# Compartment Dictionaries\\ncompartment_dict = extract_resource_dict(\\n    dict_list, \\\"Compartment\\\", key=\\\"display_name\\\", value=\\\"resource_ocid\\\"\\n)\\ncompartment_dict.update({\\\"apacinset01\\\": tenancy_id})\\n\\n\\n# VNIC Dictionaries\\nvnic_dict = extract_resource_dict(\\n    dict_list, \\\"Vnic\\\", key=\\\"resource_ocid\\\", value=\\\"display_name\\\"\\n)\\nvnic_subnet_dict = extract_resource_dict(\\n    dict_list, \\\"Vnic\\\", key=\\\"resource_ocid\\\", value=\\\"subnet_id\\\"\\n)\\n\\n# Subnet Dictionaries\\nsubnet_dict = extract_resource_dict(dict_list, \\\"Subnet\\\")\\nsubnet_vcn_dict = extract_resource_dict(\\n    dict_list, \\\"Subnet\\\", key=\\\"resource_ocid\\\", value=\\\"vcn_id\\\"\\n)\\nsubnet_securitylist_dict = extract_resource_dict(\\n    dict_list, \\\"Subnet\\\", key=\\\"resource_ocid\\\", value=\\\"security_list_ids\\\"\\n)\\nsubnet_routetable_dict = extract_resource_dict(\\n    dict_list, \\\"Subnet\\\", key=\\\"resource_ocid\\\", value=\\\"route_table_id\\\"\\n)\\n\\n# Route Table Dictionaries\\nroutetable_dict = extract_resource_dict(\\n    dict_list, \\\"RouteTable\\\", key=\\\"resource_ocid\\\", value=\\\"display_name\\\"\\n)\\nroutetable_vcn_dict = extract_resource_dict(\\n    dict_list, \\\"RouteTable\\\", key=\\\"resource_ocid\\\", value=\\\"vcn_id\\\"\\n)\\n\\n# Security List Dictionaries\\nsecuritylist_dict = extract_resource_dict(dict_list, \\\"SecurityList\\\")\\nsecuritylist_vcn_dict = extract_resource_dict(\\n    dict_list, \\\"SecurityList\\\", key=\\\"resource_ocid\\\", value=\\\"vcn_id\\\"\\n)\\nvcn_dict = extract_resource_dict(dict_list, \\\"Vcn\\\")\\n\\n# Compute Instance\\ninstance_dict = extract_resource_dict(\\n    dict_list, \\\"Instance\\\", key=\\\"resource_ocid\\\", value=\\\"display_name\\\"\\n)\\ninstance_vnic_dict = extract_resource_dict(\\n    dict_list, \\\"Instance\\\", key=\\\"resource_ocid\\\", value=\\\"vnic_attachments\\\"\\n)\\n\\n# Boot Volume Dictionary\\ninstance_bootvolume_dict = extract_resource_dict(\\n    dict_list, \\\"Instance\\\", key=\\\"resource_ocid\\\", value=\\\"boot_volume_attachments\\\"\\n)\\n\\ninstance_volume_dict = extract_resource_dict(\\n    dict_list, \\\"Instance\\\", key=\\\"resource_ocid\\\", value=\\\"volume_attachments\\\"\\n)\\n\\n# Volume Dictionary\\nvolume_dict = extract_resource_dict(\\n    dict_list, \\\"Volume\\\", key=\\\"resource_ocid\\\", value=\\\"display_name\\\"\\n)\\nbootvolume_dict = extract_resource_dict(\\n    dict_list, \\\"BootVolume\\\", key=\\\"resource_ocid\\\", value=\\\"display_name\\\"\\n)\\n\\n# User Group and Group Membership Dictionaries\\nuser_dict = extract_resource_dict(\\n    dict_list, \\\"User\\\", key=\\\"resource_ocid\\\", value=\\\"display_name\\\"\\n)\\n\\ngroup_dict = extract_resource_dict(\\n    dict_list, \\\"Group\\\", key=\\\"resource_ocid\\\", value=\\\"display_name\\\"\\n)\\n\\ngroupmembership_dict = extract_resource_dict(\\n    dict_list, \\\"User\\\", key=\\\"resource_ocid\\\", value=\\\"group_memberships\\\"\\n)\\n\\n\\n# Boot Volume Backup Dictionaries\\nbootvolumebackup_dict = extract_resource_dict(\\n    dict_list, \\\"BootVolumeBackup\\\", key=\\\"resource_ocid\\\", value=\\\"display_name\\\"\\n)\\nbootvolumebackup_image_dict = extract_resource_dict(\\n    dict_list, \\\"BootVolumeBackup\\\", key=\\\"resource_ocid\\\", value=\\\"image_id\\\"\\n)\\n\\n# Volume Backup Dictionaries\\nvolumebackup_dict = extract_resource_dict(\\n    dict_list, \\\"VolumeBackup\\\", key=\\\"resource_ocid\\\", value=\\\"display_name\\\"\\n)\\nvolumebackup_volume_dict = extract_resource_dict(\\n    dict_list, \\\"VolumeBackup\\\", key=\\\"resource_ocid\\\", value=\\\"volume_id\\\"\\n)\\n\\n# Image Dictionary\\nimage_dict = extract_resource_dict(\\n    dict_list, \\\"Image\\\", key=\\\"resource_ocid\\\", value=\\\"display_name\\\"\\n)\";\n",
       "                var nbb_cells = Jupyter.notebook.get_cells();\n",
       "                for (var i = 0; i < nbb_cells.length; ++i) {\n",
       "                    if (nbb_cells[i].input_prompt_number == nbb_cell_id) {\n",
       "                        if (nbb_cells[i].get_text() == nbb_unformatted_code) {\n",
       "                             nbb_cells[i].set_text(nbb_formatted_code);\n",
       "                        }\n",
       "                        break;\n",
       "                    }\n",
       "                }\n",
       "            }, 500);\n",
       "            "
      ],
      "text/plain": [
       "<IPython.core.display.Javascript object>"
      ]
     },
     "metadata": {},
     "output_type": "display_data"
    }
   ],
   "source": [
    "dict_list = create_dict_list()\n",
    "\n",
    "# Compartment Dictionaries\n",
    "compartment_dict = extract_resource_dict(\n",
    "    dict_list, \"Compartment\", key=\"display_name\", value=\"resource_ocid\"\n",
    ")\n",
    "\n",
    "#Substitute with your tenancy name\n",
    "compartment_dict.update({\"Your TENACNCY NAME\": tenancy_id})\n",
    "\n",
    "\n",
    "# VNIC Dictionaries\n",
    "vnic_dict = extract_resource_dict(\n",
    "    dict_list, \"Vnic\", key=\"resource_ocid\", value=\"display_name\"\n",
    ")\n",
    "vnic_subnet_dict = extract_resource_dict(\n",
    "    dict_list, \"Vnic\", key=\"resource_ocid\", value=\"subnet_id\"\n",
    ")\n",
    "\n",
    "# Subnet Dictionaries\n",
    "subnet_dict = extract_resource_dict(dict_list, \"Subnet\")\n",
    "subnet_vcn_dict = extract_resource_dict(\n",
    "    dict_list, \"Subnet\", key=\"resource_ocid\", value=\"vcn_id\"\n",
    ")\n",
    "subnet_securitylist_dict = extract_resource_dict(\n",
    "    dict_list, \"Subnet\", key=\"resource_ocid\", value=\"security_list_ids\"\n",
    ")\n",
    "subnet_routetable_dict = extract_resource_dict(\n",
    "    dict_list, \"Subnet\", key=\"resource_ocid\", value=\"route_table_id\"\n",
    ")\n",
    "\n",
    "# Route Table Dictionaries\n",
    "routetable_dict = extract_resource_dict(\n",
    "    dict_list, \"RouteTable\", key=\"resource_ocid\", value=\"display_name\"\n",
    ")\n",
    "routetable_vcn_dict = extract_resource_dict(\n",
    "    dict_list, \"RouteTable\", key=\"resource_ocid\", value=\"vcn_id\"\n",
    ")\n",
    "\n",
    "#Security List Dictionaries\n",
    "securitylist_dict = extract_resource_dict(dict_list, \"SecurityList\")\n",
    "securitylist_vcn_dict = extract_resource_dict(\n",
    "    dict_list, \"SecurityList\", key=\"resource_ocid\", value=\"vcn_id\"\n",
    ")\n",
    "vcn_dict = extract_resource_dict(dict_list, \"Vcn\")\n",
    "\n",
    "# Compute Instance\n",
    "instance_dict = extract_resource_dict(\n",
    "    dict_list, \"Instance\", key=\"resource_ocid\", value=\"display_name\"\n",
    ")\n",
    "instance_vnic_dict = extract_resource_dict(\n",
    "    dict_list, \"Instance\", key=\"resource_ocid\", value=\"vnic_attachments\"\n",
    ")\n",
    "\n",
    "# Boot Volume Dictionary\n",
    "instance_bootvolume_dict = extract_resource_dict(\n",
    "    dict_list, \"Instance\", key=\"resource_ocid\", value=\"boot_volume_attachments\"\n",
    ")\n",
    "\n",
    "instance_volume_dict = extract_resource_dict(\n",
    "    dict_list, \"Instance\", key=\"resource_ocid\", value=\"volume_attachments\"\n",
    ")\n",
    "\n",
    "# Volume Dictionary\n",
    "volume_dict = extract_resource_dict(\n",
    "    dict_list, \"Volume\", key=\"resource_ocid\", value=\"display_name\"\n",
    ")\n",
    "bootvolume_dict = extract_resource_dict(\n",
    "    dict_list, \"BootVolume\", key=\"resource_ocid\", value=\"display_name\"\n",
    ")\n",
    "\n",
    "# User Group and Group Membership Dictionaries\n",
    "user_dict = extract_resource_dict(\n",
    "    dict_list, \"User\", key=\"resource_ocid\", value=\"display_name\"\n",
    ")\n",
    "\n",
    "group_dict = extract_resource_dict(\n",
    "    dict_list, \"Group\", key=\"resource_ocid\", value=\"display_name\"\n",
    ")\n",
    "\n",
    "groupmembership_dict = extract_resource_dict(dict_list, \"User\", key=\"resource_ocid\", value = \"group_memberships\")\n",
    "\n",
    "\n",
    "# Volume Backup Dictionaries\n",
    "volumebackup_dict = extract_resource_dict(\n",
    "    dict_list, \"VolumeBackup\", key=\"resource_ocid\", value=\"display_name\"\n",
    ")\n",
    "volumebackup_volume_dict = extract_resource_dict(\n",
    "    dict_list, \"VolumeBackup\", key=\"resource_ocid\", value=\"volume_id\"\n",
    ")"
   ]
  },
  {
   "cell_type": "markdown",
   "metadata": {},
   "source": [
    "## Populate Graph\n",
    "* Every Resource is a Node\n",
    "* Resource -> Resource Relationship as an edge"
   ]
  },
  {
   "cell_type": "code",
   "execution_count": 16,
   "metadata": {},
   "outputs": [
    {
     "name": "stdout",
     "output_type": "stream",
     "text": [
      "1975\n",
      "1494\n"
     ]
    },
    {
     "data": {
      "application/javascript": [
       "\n",
       "            setTimeout(function() {\n",
       "                var nbb_cell_id = 16;\n",
       "                var nbb_unformatted_code = \"\\ng = nx.DiGraph()\\npprint.pprint(len(dict_list))\\n\\nfor d in dict_list:\\n    flattened_dict = flatten(d, reducer = 'underscore')\\n    g.add_node(node_for_adding=d[\\\"resource_ocid\\\"], DisplayName = flattened_dict[\\\"display_name\\\"], ResourceType = flattened_dict[\\\"resource_type\\\"],CompartmentName = flattened_dict[\\\"compartment_name\\\"], CreatedOn = flattened_dict[\\\"CreatedOn\\\"], CreatedBy = flattened_dict[\\\"CreatedBy\\\"], )\\n\\n    \\nfor d in dict_list:\\n    g.add_edge(\\n        compartment_dict[d[\\\"compartment_name\\\"]],\\n        d[\\\"resource_ocid\\\"],\\n        CompartmentName = d[\\\"compartment_name\\\"],\\n        \\n    )\\n\\nfor d in dict_list:\\n    if d[\\\"resource_type\\\"] == \\\"Instance\\\":\\n        # For each VNIC attached to Instance\\n        for element in instance_vnic_dict[d[\\\"resource_ocid\\\"]]:\\n            g.add_edge(\\n                d[\\\"resource_ocid\\\"],\\n                element[\\\"vnic_id\\\"],\\n                VnicName = vnic_dict[element[\\\"vnic_id\\\"]],     \\n            )\\n\\n        # Boot Volume attached to Instance\\n        for element in instance_bootvolume_dict[d[\\\"resource_ocid\\\"]]:\\n            g.add_edge(\\n                d[\\\"resource_ocid\\\"],\\n                element[\\\"boot_volume_id\\\"],\\n                BootVolumeName = bootvolume_dict[element[\\\"boot_volume_id\\\"]],\\n            )\\n\\n        # Block Volume attached to Instance\\n        for element in instance_volume_dict[d[\\\"resource_ocid\\\"]]:\\n            g.add_edge(\\n                d[\\\"resource_ocid\\\"],\\n                element[\\\"volume_id\\\"],\\n                VolumeName =volume_dict[element[\\\"volume_id\\\"]],\\n            )\\n\\n    if d[\\\"resource_type\\\"] == \\\"Vnic\\\":\\n        # Subnet that the VNIC Belongs to\\n        g.add_edge(\\n            vnic_subnet_dict[d[\\\"resource_ocid\\\"]],\\n            d[\\\"resource_ocid\\\"],\\n            SubnetName=subnet_dict[vnic_subnet_dict[d[\\\"resource_ocid\\\"]]],\\n        )\\n\\n    if d[\\\"resource_type\\\"] == \\\"Subnet\\\":\\n        # VCN that the Subnet belongs to .\\n        g.add_edge(\\n            subnet_vcn_dict[d[\\\"resource_ocid\\\"]],\\n            d[\\\"resource_ocid\\\"],\\n            VcnName=vcn_dict[subnet_vcn_dict[d[\\\"resource_ocid\\\"]]],\\n        )\\n\\n        # Route table attached to Subnet\\n        g.add_edge(\\n            subnet_routetable_dict[d[\\\"resource_ocid\\\"]],\\n            d[\\\"resource_ocid\\\"],\\n            RouteTableName = routetable_dict[subnet_routetable_dict[d[\\\"resource_ocid\\\"]]],\\n        )\\n\\n        # For each Security List attached to Subnet\\n        for element in subnet_securitylist_dict[d[\\\"resource_ocid\\\"]]:\\n            g.add_edge(\\n                element,\\n                d[\\\"resource_ocid\\\"],\\n                SubnetName=securitylist_dict[element],\\n            )\\n\\n    #For Each Security List That Belongs to a VCN\\n    if d[\\\"resource_type\\\"] == \\\"SecurityList\\\":\\n        g.add_edge(\\n            securitylist_vcn_dict[d[\\\"resource_ocid\\\"]],\\n            d[\\\"resource_ocid\\\"],\\n            VcnName = vcn_dict[securitylist_vcn_dict[d[\\\"resource_ocid\\\"]]],\\n        )\\n\\n    # For Each Route Table That Belongs to a VCN\\n    if d[\\\"resource_type\\\"] == \\\"RouteTable\\\":\\n        g.add_edge(\\n            routetable_vcn_dict[d[\\\"resource_ocid\\\"]],\\n            d[\\\"resource_ocid\\\"],\\n            VcnName =vcn_dict[routetable_vcn_dict[d[\\\"resource_ocid\\\"]]],\\n        )\\n\\n        \\n    if d[\\\"resource_type\\\"] == \\\"VolumeBackup\\\":\\n        g.add_edge(\\n            volumebackup_volume_dict[d[\\\"resource_ocid\\\"]],\\n            d[\\\"resource_ocid\\\"],\\n            VolumeName =volume_dict[volumebackup_volume_dict[d[\\\"resource_ocid\\\"]]],\\n        )       \\n\\npprint.pprint(len(g.nodes()))\";\n",
       "                var nbb_formatted_code = \"g = nx.DiGraph()\\npprint.pprint(len(dict_list))\\n\\nfor d in dict_list:\\n    flattened_dict = flatten(d, reducer=\\\"underscore\\\")\\n    g.add_node(\\n        node_for_adding=d[\\\"resource_ocid\\\"],\\n        DisplayName=flattened_dict[\\\"display_name\\\"],\\n        ResourceType=flattened_dict[\\\"resource_type\\\"],\\n        CompartmentName=flattened_dict[\\\"compartment_name\\\"],\\n        CreatedOn=flattened_dict[\\\"CreatedOn\\\"],\\n        CreatedBy=flattened_dict[\\\"CreatedBy\\\"],\\n    )\\n\\n\\nfor d in dict_list:\\n    g.add_edge(\\n        compartment_dict[d[\\\"compartment_name\\\"]],\\n        d[\\\"resource_ocid\\\"],\\n        CompartmentName=d[\\\"compartment_name\\\"],\\n    )\\n\\nfor d in dict_list:\\n    if d[\\\"resource_type\\\"] == \\\"Instance\\\":\\n        # For each VNIC attached to Instance\\n        for element in instance_vnic_dict[d[\\\"resource_ocid\\\"]]:\\n            g.add_edge(\\n                d[\\\"resource_ocid\\\"],\\n                element[\\\"vnic_id\\\"],\\n                VnicName=vnic_dict[element[\\\"vnic_id\\\"]],\\n            )\\n\\n        # Boot Volume attached to Instance\\n        for element in instance_bootvolume_dict[d[\\\"resource_ocid\\\"]]:\\n            g.add_edge(\\n                d[\\\"resource_ocid\\\"],\\n                element[\\\"boot_volume_id\\\"],\\n                BootVolumeName=bootvolume_dict[element[\\\"boot_volume_id\\\"]],\\n            )\\n\\n        # Block Volume attached to Instance\\n        for element in instance_volume_dict[d[\\\"resource_ocid\\\"]]:\\n            g.add_edge(\\n                d[\\\"resource_ocid\\\"],\\n                element[\\\"volume_id\\\"],\\n                VolumeName=volume_dict[element[\\\"volume_id\\\"]],\\n            )\\n\\n    if d[\\\"resource_type\\\"] == \\\"Vnic\\\":\\n        # Subnet that the VNIC Belongs to\\n        g.add_edge(\\n            vnic_subnet_dict[d[\\\"resource_ocid\\\"]],\\n            d[\\\"resource_ocid\\\"],\\n            SubnetName=subnet_dict[vnic_subnet_dict[d[\\\"resource_ocid\\\"]]],\\n        )\\n\\n    if d[\\\"resource_type\\\"] == \\\"Subnet\\\":\\n        # VCN that the Subnet belongs to .\\n        g.add_edge(\\n            subnet_vcn_dict[d[\\\"resource_ocid\\\"]],\\n            d[\\\"resource_ocid\\\"],\\n            VcnName=vcn_dict[subnet_vcn_dict[d[\\\"resource_ocid\\\"]]],\\n        )\\n\\n        # Route table attached to Subnet\\n        g.add_edge(\\n            subnet_routetable_dict[d[\\\"resource_ocid\\\"]],\\n            d[\\\"resource_ocid\\\"],\\n            RouteTableName=routetable_dict[subnet_routetable_dict[d[\\\"resource_ocid\\\"]]],\\n        )\\n\\n        # For each Security List attached to Subnet\\n        for element in subnet_securitylist_dict[d[\\\"resource_ocid\\\"]]:\\n            g.add_edge(\\n                element, d[\\\"resource_ocid\\\"], SubnetName=securitylist_dict[element],\\n            )\\n\\n    # For Each Security List That Belongs to a VCN\\n    if d[\\\"resource_type\\\"] == \\\"SecurityList\\\":\\n        g.add_edge(\\n            securitylist_vcn_dict[d[\\\"resource_ocid\\\"]],\\n            d[\\\"resource_ocid\\\"],\\n            VcnName=vcn_dict[securitylist_vcn_dict[d[\\\"resource_ocid\\\"]]],\\n        )\\n\\n    # For Each Route Table That Belongs to a VCN\\n    if d[\\\"resource_type\\\"] == \\\"RouteTable\\\":\\n        g.add_edge(\\n            routetable_vcn_dict[d[\\\"resource_ocid\\\"]],\\n            d[\\\"resource_ocid\\\"],\\n            VcnName=vcn_dict[routetable_vcn_dict[d[\\\"resource_ocid\\\"]]],\\n        )\\n\\n    if d[\\\"resource_type\\\"] == \\\"VolumeBackup\\\":\\n        g.add_edge(\\n            volumebackup_volume_dict[d[\\\"resource_ocid\\\"]],\\n            d[\\\"resource_ocid\\\"],\\n            VolumeName=volume_dict[volumebackup_volume_dict[d[\\\"resource_ocid\\\"]]],\\n        )\\n\\npprint.pprint(len(g.nodes()))\";\n",
       "                var nbb_cells = Jupyter.notebook.get_cells();\n",
       "                for (var i = 0; i < nbb_cells.length; ++i) {\n",
       "                    if (nbb_cells[i].input_prompt_number == nbb_cell_id) {\n",
       "                        if (nbb_cells[i].get_text() == nbb_unformatted_code) {\n",
       "                             nbb_cells[i].set_text(nbb_formatted_code);\n",
       "                        }\n",
       "                        break;\n",
       "                    }\n",
       "                }\n",
       "            }, 500);\n",
       "            "
      ],
      "text/plain": [
       "<IPython.core.display.Javascript object>"
      ]
     },
     "metadata": {},
     "output_type": "display_data"
    }
   ],
   "source": [
    "g = nx.DiGraph()\n",
    "\n",
    "for d in dict_list:\n",
    "    flattened_dict = flatten(d, reducer = 'underscore')\n",
    "    g.add_node(node_for_adding=d[\"resource_ocid\"], DisplayName = flattened_dict[\"display_name\"], ResourceType = flattened_dict[\"resource_type\"],CompartmentName = flattened_dict[\"compartment_name\"], CreatedOn = flattened_dict[\"CreatedOn\"], CreatedBy = flattened_dict[\"CreatedBy\"], )\n",
    "\n",
    "\n",
    "for d in dict_list:\n",
    "    g.add_edge(\n",
    "        compartment_dict[d[\"compartment_name\"]],\n",
    "        d[\"resource_ocid\"],\n",
    "        CompartmentName = d[\"compartment_name\"],\n",
    "        \n",
    "    )\n",
    "\n",
    "for d in dict_list:\n",
    "    if d[\"resource_type\"] == \"Instance\":\n",
    "        # For each VNIC attached to Instance\n",
    "        for element in instance_vnic_dict[d[\"resource_ocid\"]]:\n",
    "            g.add_edge(\n",
    "                d[\"resource_ocid\"],\n",
    "                element[\"vnic_id\"],\n",
    "                VnicName = vnic_dict[element[\"vnic_id\"]],     \n",
    "            )\n",
    "\n",
    "        # Boot Volume attached to Instance\n",
    "        for element in instance_bootvolume_dict[d[\"resource_ocid\"]]:\n",
    "            g.add_edge(\n",
    "                d[\"resource_ocid\"],\n",
    "                element[\"boot_volume_id\"],\n",
    "                BootVolumeName = bootvolume_dict[element[\"boot_volume_id\"]],\n",
    "            )\n",
    "\n",
    "        # Block Volume attached to Instance\n",
    "        for element in instance_volume_dict[d[\"resource_ocid\"]]:\n",
    "            g.add_edge(\n",
    "                d[\"resource_ocid\"],\n",
    "                element[\"volume_id\"],\n",
    "                VolumeName =volume_dict[element[\"volume_id\"]],\n",
    "            )\n",
    "\n",
    "    if d[\"resource_type\"] == \"Vnic\":\n",
    "        # Subnet that the VNIC Belongs to\n",
    "        g.add_edge(\n",
    "            vnic_subnet_dict[d[\"resource_ocid\"]],\n",
    "            d[\"resource_ocid\"],\n",
    "            SubnetName=subnet_dict[vnic_subnet_dict[d[\"resource_ocid\"]]],\n",
    "        )\n",
    "\n",
    "    if d[\"resource_type\"] == \"Subnet\":\n",
    "        # VCN that the Subnet belongs to .\n",
    "        g.add_edge(\n",
    "            subnet_vcn_dict[d[\"resource_ocid\"]],\n",
    "            d[\"resource_ocid\"],\n",
    "            VcnName=vcn_dict[subnet_vcn_dict[d[\"resource_ocid\"]]],\n",
    "        )\n",
    "\n",
    "        # Route table attached to Subnet\n",
    "        g.add_edge(\n",
    "            subnet_routetable_dict[d[\"resource_ocid\"]],\n",
    "            d[\"resource_ocid\"],\n",
    "            RouteTableName = routetable_dict[subnet_routetable_dict[d[\"resource_ocid\"]]],\n",
    "        )\n",
    "\n",
    "        # For each Security List attached to Subnet\n",
    "        for element in subnet_securitylist_dict[d[\"resource_ocid\"]]:\n",
    "            g.add_edge(\n",
    "                element,\n",
    "                d[\"resource_ocid\"],\n",
    "                SubnetName=securitylist_dict[element],\n",
    "            )\n",
    "\n",
    "    #For Each Security List That Belongs to a VCN\n",
    "    if d[\"resource_type\"] == \"SecurityList\":\n",
    "        g.add_edge(\n",
    "            securitylist_vcn_dict[d[\"resource_ocid\"]],\n",
    "            d[\"resource_ocid\"],\n",
    "            VcnName = vcn_dict[securitylist_vcn_dict[d[\"resource_ocid\"]]],\n",
    "        )\n",
    "\n",
    "    # For Each Route Table That Belongs to a VCN\n",
    "    if d[\"resource_type\"] == \"RouteTable\":\n",
    "        g.add_edge(\n",
    "            routetable_vcn_dict[d[\"resource_ocid\"]],\n",
    "            d[\"resource_ocid\"],\n",
    "            VcnName =vcn_dict[routetable_vcn_dict[d[\"resource_ocid\"]]],\n",
    "        )\n",
    "        \n",
    "    if d[\"resource_type\"] == \"VolumeBackup\":\n",
    "        g.add_edge(\n",
    "            volumebackup_volume_dict[d[\"resource_ocid\"]],\n",
    "            d[\"resource_ocid\"],\n",
    "            VolumeName =volume_dict[volumebackup_volume_dict[d[\"resource_ocid\"]]],\n",
    "        )"
   ]
  },
  {
   "cell_type": "markdown",
   "metadata": {},
   "source": [
    "### Print Graph Information"
   ]
  },
  {
   "cell_type": "code",
   "execution_count": 17,
   "metadata": {},
   "outputs": [
    {
     "name": "stdout",
     "output_type": "stream",
     "text": [
      "Name: \n",
      "Type: DiGraph\n",
      "Number of nodes: 1494\n",
      "Number of edges: 2650\n",
      "Average in degree:   1.7738\n",
      "Average out degree:   1.7738\n",
      "Network density: 0.001188052051922806\n"
     ]
    },
    {
     "data": {
      "application/javascript": [
       "\n",
       "            setTimeout(function() {\n",
       "                var nbb_cell_id = 17;\n",
       "                var nbb_unformatted_code = \"print(nx.info(g))\\ndensity = nx.density(g)\\nprint(\\\"Network density:\\\", density)\";\n",
       "                var nbb_formatted_code = \"print(nx.info(g))\\ndensity = nx.density(g)\\nprint(\\\"Network density:\\\", density)\";\n",
       "                var nbb_cells = Jupyter.notebook.get_cells();\n",
       "                for (var i = 0; i < nbb_cells.length; ++i) {\n",
       "                    if (nbb_cells[i].input_prompt_number == nbb_cell_id) {\n",
       "                        if (nbb_cells[i].get_text() == nbb_unformatted_code) {\n",
       "                             nbb_cells[i].set_text(nbb_formatted_code);\n",
       "                        }\n",
       "                        break;\n",
       "                    }\n",
       "                }\n",
       "            }, 500);\n",
       "            "
      ],
      "text/plain": [
       "<IPython.core.display.Javascript object>"
      ]
     },
     "metadata": {},
     "output_type": "display_data"
    }
   ],
   "source": [
    "print(nx.info(g))\n",
    "density = nx.density(g)\n",
    "print(\"Network density:\", density)"
   ]
  },
  {
   "cell_type": "markdown",
   "metadata": {},
   "source": [
    "# Export Network Graph to GraphML"
   ]
  },
  {
   "cell_type": "code",
   "execution_count": 18,
   "metadata": {},
   "outputs": [
    {
     "data": {
      "application/javascript": [
       "\n",
       "            setTimeout(function() {\n",
       "                var nbb_cell_id = 18;\n",
       "                var nbb_unformatted_code = \"nx.write_graphml(g, 'g.graphml')\";\n",
       "                var nbb_formatted_code = \"nx.write_graphml(g, \\\"g.graphml\\\")\";\n",
       "                var nbb_cells = Jupyter.notebook.get_cells();\n",
       "                for (var i = 0; i < nbb_cells.length; ++i) {\n",
       "                    if (nbb_cells[i].input_prompt_number == nbb_cell_id) {\n",
       "                        if (nbb_cells[i].get_text() == nbb_unformatted_code) {\n",
       "                             nbb_cells[i].set_text(nbb_formatted_code);\n",
       "                        }\n",
       "                        break;\n",
       "                    }\n",
       "                }\n",
       "            }, 500);\n",
       "            "
      ],
      "text/plain": [
       "<IPython.core.display.Javascript object>"
      ]
     },
     "metadata": {},
     "output_type": "display_data"
    }
   ],
   "source": [
    "nx.write_graphml(g, 'g.graphml')"
   ]
  },
  {
   "cell_type": "markdown",
   "metadata": {},
   "source": [
    "## Use Network Analysis to Find Neighbors"
   ]
  },
  {
   "cell_type": "code",
   "execution_count": 22,
   "metadata": {},
   "outputs": [
    {
     "name": "stdout",
     "output_type": "stream",
     "text": [
      "[]\n",
      "['ocid1.subnet.oc1.phx.aaaaaaaakdmwy53xgmz6zsf6w2b7xc5sczr2argy75dyv2ddurbxy2jmszgq']\n",
      "['ocid1.subnet.oc1.phx.aaaaaaaakdmwy53xgmz6zsf6w2b7xc5sczr2argy75dyv2ddurbxy2jmszgq']\n",
      "['ocid1.vnic.oc1.phx.abyhqljtriz7btxyswqwix34k62lbndwutfxkcv36za26w7v5y7zagk4ezva', 'ocid1.vnic.oc1.phx.abyhqljru6qe7t3jzb3pukt2uimnnk7bugnsngnmsekku7df3gqo6f63itma']\n",
      "['ocid1.subnet.oc1.phx.aaaaaaaavuumj7xoosb4yyjvy4nzmtzihl4rblwudzhcidyu6g4bxkplpq6q']\n",
      "['ocid1.subnet.oc1.phx.aaaaaaaavuumj7xoosb4yyjvy4nzmtzihl4rblwudzhcidyu6g4bxkplpq6q']\n"
     ]
    },
    {
     "data": {
      "application/javascript": [
       "\n",
       "            setTimeout(function() {\n",
       "                var nbb_cell_id = 22;\n",
       "                var nbb_unformatted_code = \"n = g.neighbors(\\\"ocid1.vcn.oc1.phx.amaaaaaa43cggciahbua26k7q5ly5arbjxfnibbapudkaiyn5h6spyhofs6q\\\")\\nfor element in n :\\n    print(list(g.neighbors(element)))\";\n",
       "                var nbb_formatted_code = \"n = g.neighbors(\\n    \\\"ocid1.vcn.oc1.phx.amaaaaaa43cggciahbua26k7q5ly5arbjxfnibbapudkaiyn5h6spyhofs6q\\\"\\n)\\nfor element in n:\\n    print(list(g.neighbors(element)))\";\n",
       "                var nbb_cells = Jupyter.notebook.get_cells();\n",
       "                for (var i = 0; i < nbb_cells.length; ++i) {\n",
       "                    if (nbb_cells[i].input_prompt_number == nbb_cell_id) {\n",
       "                        if (nbb_cells[i].get_text() == nbb_unformatted_code) {\n",
       "                             nbb_cells[i].set_text(nbb_formatted_code);\n",
       "                        }\n",
       "                        break;\n",
       "                    }\n",
       "                }\n",
       "            }, 500);\n",
       "            "
      ],
      "text/plain": [
       "<IPython.core.display.Javascript object>"
      ]
     },
     "metadata": {},
     "output_type": "display_data"
    }
   ],
   "source": [
    "n = g.neighbors(\"ocid1.vcn.oc1.phx.amaaaaaa43cggciahbua26k7q5ly5arbjxfnibbapudkaiyn5h6spyhofs6q\")\n",
    "for element in n :\n",
    "    print(list(g.neighbors(element)))"
   ]
  },
  {
   "cell_type": "markdown",
   "metadata": {},
   "source": [
    "# For Non-Graph Analytics"
   ]
  },
  {
   "cell_type": "markdown",
   "metadata": {},
   "source": [
    "## Data Load into Data Frame\n",
    "- Load JSON Data and Append it to Data Frame "
   ]
  },
  {
   "cell_type": "code",
   "execution_count": null,
   "metadata": {},
   "outputs": [],
   "source": [
    "resource_dist_df = pd.DataFrame()\n",
    "for file_name in glob.glob('./region_distribution-*'):\n",
    "    temp = pd.read_json(file_name)\n",
    "    resource_dist_df = resource_dist_df.append(temp, ignore_index=True, sort=False)       \n",
    "pprint.pprint(resource_dist_df.head())"
   ]
  },
  {
   "cell_type": "markdown",
   "metadata": {},
   "source": [
    "## Sample Data Manipulation to Calculate Number of Active Days \n",
    "- A very important factor in our tenancy was to limit the number of active days and turn of resources as required.\n",
    "- Hence this calculation"
   ]
  },
  {
   "cell_type": "code",
   "execution_count": null,
   "metadata": {},
   "outputs": [],
   "source": [
    "resource_dist_df[\"Qty\"] = 1\n",
    "resource_dist_df[\"TimeNow\"] = datetime.datetime.now(datetime.timezone.utc)\n",
    "resource_dist_df[\"CreatedOn\"] = pd.to_datetime(resource_dist_df[\"CreatedOn\"])\n",
    "resource_dist_df[\"ActiveForDays\"] = resource_dist_df[\"TimeNow\"].sub(\n",
    "    resource_dist_df[\"CreatedOn\"], axis=0\n",
    ")"
   ]
  },
  {
   "cell_type": "markdown",
   "metadata": {},
   "source": [
    "## Further Manipulation\n",
    "* Convert the Results to String for Easy Visualization"
   ]
  },
  {
   "cell_type": "code",
   "execution_count": null,
   "metadata": {},
   "outputs": [],
   "source": [
    "resource_dist_df[\"TimeNow\"] = resource_dist_df[\"TimeNow\"].astype(str)\n",
    "resource_dist_df[\"CreatedOn\"] = resource_dist_df[\"CreatedOn\"].astype(str)\n",
    "resource_dist_df[\"ActiveForDays\"] = resource_dist_df[\"ActiveForDays\"].astype(str)"
   ]
  },
  {
   "cell_type": "markdown",
   "metadata": {},
   "source": [
    "## Export Data to \n",
    "* JSON\n",
    "* CSV"
   ]
  },
  {
   "cell_type": "code",
   "execution_count": null,
   "metadata": {},
   "outputs": [],
   "source": [
    "csv = resource_dist_df.to_csv(\"processed_data.csv\", sep=\",\", header=True, index=True)\n",
    "out = resource_dist_df.to_json(orient=\"index\")\n",
    "with open(\"processed_json.json\", \"w\") as f:\n",
    "    f.write(out)"
   ]
  }
 ],
 "metadata": {
  "kernelspec": {
   "display_name": "Python 3",
   "language": "python",
   "name": "python3"
  },
  "language_info": {
   "codemirror_mode": {
    "name": "ipython",
    "version": 3
   },
   "file_extension": ".py",
   "mimetype": "text/x-python",
   "name": "python",
   "nbconvert_exporter": "python",
   "pygments_lexer": "ipython3",
   "version": "3.6.8"
  }
 },
 "nbformat": 4,
 "nbformat_minor": 4
}
